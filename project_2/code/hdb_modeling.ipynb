{
 "cells": [
  {
   "cell_type": "markdown",
   "metadata": {},
   "source": [
    "<img src=\"http://imgur.com/1ZcRyrc.png\" style=\"float: left; margin: 20px; height: 55px\">\n",
    "\n",
    "# Project 2: Singapore Housing Price Prediction"
   ]
  },
  {
   "cell_type": "markdown",
   "metadata": {
    "tags": []
   },
   "source": [
    "## Table of Contents\n",
    "1. [Problem Statement](#1.-Problem-Statement)  \n",
    "2. [Import Libraries and Datasets](#2.-Import-Libraries-and-Datasets)   \n",
    "3. [Feature Engineering](#3.-Feature-Engineering)  \n",
    "4. [Modeling](#4.-Modeling)  \n",
    "5. [Model Evaluation](#5.-Model-Evaluation)  \n",
    "6. [Conclusion and Recommendation](#6.-Conclusion-and-Recommendation)  \n",
    "7. [Limitations](#7.-Limitations)\n",
    "8. [Future Steps](#8.-Future-Steps)"
   ]
  },
  {
   "cell_type": "markdown",
   "metadata": {
    "tags": []
   },
   "source": [
    "# 1. Problem Statement"
   ]
  },
  {
   "cell_type": "markdown",
   "metadata": {},
   "source": [
    "As data scientists working for a real estate agent, our goal is to empower prospective householders and sellers to make informed decisions about property purchases and sales. Our main objectives are:\n",
    "\n",
    "**- Use Singapore public housing data from 2012 to 2021 to create a regression model that predicts the resale price of HDB flats in Singapore.**\n",
    "\n",
    "**- Identify the top 5 features that have the greatest positive correlation to the resale price so that buyers and sellers can take this information into consideration.**\n",
    "\n",
    "This notebook covered the feature engineering, modeling, evaluation, conclusion and recommendation phase. "
   ]
  },
  {
   "cell_type": "markdown",
   "metadata": {},
   "source": [
    "# 2. Import Libraries and Datasets"
   ]
  },
  {
   "cell_type": "code",
   "execution_count": 1,
   "metadata": {},
   "outputs": [],
   "source": [
    "import numpy as np\n",
    "import pandas as pd\n",
    "from scipy import stats\n",
    "from scipy.stats import norm, skew \n",
    "from scipy.special import boxcox1p\n",
    "\n",
    "import copy\n",
    "import matplotlib.pyplot as plt\n",
    "import seaborn as sns\n",
    "%matplotlib inline\n",
    "\n",
    "from sklearn.preprocessing import LabelEncoder\n",
    "from sklearn.preprocessing import StandardScaler\n",
    "from sklearn.linear_model import LinearRegression, Ridge, RidgeCV, Lasso, LassoCV\n",
    "from sklearn.decomposition import PCA\n",
    "from sklearn import metrics\n",
    "from sklearn.metrics import mean_squared_error, r2_score\n",
    "from sklearn.model_selection import train_test_split, cross_val_score, GridSearchCV\n",
    "from sklearn.pipeline import Pipeline"
   ]
  },
  {
   "cell_type": "code",
   "execution_count": 2,
   "metadata": {
    "scrolled": true
   },
   "outputs": [],
   "source": [
    "df_train = pd.read_csv(\"../datasets/train_cleaned.csv\")\n",
    "df_test = pd.read_csv(\"../datasets/test_cleaned.csv\")"
   ]
  },
  {
   "cell_type": "code",
   "execution_count": 3,
   "metadata": {},
   "outputs": [],
   "source": [
    "#Backup the train and test data\n",
    "df_train_copy = copy.copy(df_train)\n",
    "df_test_copy = copy.deepcopy(df_test)"
   ]
  },
  {
   "cell_type": "code",
   "execution_count": 4,
   "metadata": {},
   "outputs": [],
   "source": [
    "#Backup the test id\n",
    "df_test_id = pd.read_csv(\"../datasets/test.csv\", dtype={'postal': 'object'})['id']\n",
    "df_test_copy['id'] = df_test_id"
   ]
  },
  {
   "cell_type": "code",
   "execution_count": 5,
   "metadata": {},
   "outputs": [
    {
     "name": "stdout",
     "output_type": "stream",
     "text": [
      "all_data size is : (167371, 47)\n"
     ]
    }
   ],
   "source": [
    "#In order to proceed the feature engineering for both train and test set, merge them together first\n",
    "ntrain = df_train.shape[0] \n",
    "ntest = df_test.shape[0] \n",
    "y_train = df_train['resale_price'] #Keep the target feature of train dataset\n",
    "all_data = pd.concat((df_train, df_test)).reset_index(drop=True)\n",
    "all_data.drop(['resale_price'], axis=1, inplace=True)\n",
    "print(\"all_data size is : {}\".format(all_data.shape))"
   ]
  },
  {
   "cell_type": "code",
   "execution_count": 6,
   "metadata": {
    "scrolled": true,
    "tags": []
   },
   "outputs": [
    {
     "name": "stdout",
     "output_type": "stream",
     "text": [
      "<class 'pandas.core.frame.DataFrame'>\n",
      "RangeIndex: 167371 entries, 0 to 167370\n",
      "Data columns (total 47 columns):\n",
      " #   Column                     Non-Null Count   Dtype  \n",
      "---  ------                     --------------   -----  \n",
      " 0   town                       167371 non-null  object \n",
      " 1   flat_type                  167371 non-null  object \n",
      " 2   flat_model                 167371 non-null  object \n",
      " 3   tranc_year                 167371 non-null  int64  \n",
      " 4   tranc_month                167371 non-null  int64  \n",
      " 5   mid_storey                 167371 non-null  int64  \n",
      " 6   floor_area_sqft            167371 non-null  float64\n",
      " 7   hdb_age                    167371 non-null  int64  \n",
      " 8   max_floor_lvl              167371 non-null  int64  \n",
      " 9   year_completed             167371 non-null  int64  \n",
      " 10  commercial                 167371 non-null  object \n",
      " 11  market_hawker              167371 non-null  object \n",
      " 12  multistorey_carpark        167371 non-null  object \n",
      " 13  precinct_pavilion          167371 non-null  object \n",
      " 14  total_dwelling_units       167371 non-null  int64  \n",
      " 15  1room_sold                 167371 non-null  int64  \n",
      " 16  2room_sold                 167371 non-null  int64  \n",
      " 17  3room_sold                 167371 non-null  int64  \n",
      " 18  4room_sold                 167371 non-null  int64  \n",
      " 19  5room_sold                 167371 non-null  int64  \n",
      " 20  exec_sold                  167371 non-null  int64  \n",
      " 21  multigen_sold              167371 non-null  int64  \n",
      " 22  studio_apartment_sold      167371 non-null  int64  \n",
      " 23  1room_rental               167371 non-null  int64  \n",
      " 24  2room_rental               167371 non-null  int64  \n",
      " 25  3room_rental               167371 non-null  int64  \n",
      " 26  other_room_rental          167371 non-null  int64  \n",
      " 27  mall_nearest_distance      167371 non-null  float64\n",
      " 28  mall_within_500m           167371 non-null  float64\n",
      " 29  mall_within_1km            167371 non-null  float64\n",
      " 30  mall_within_2km            167371 non-null  float64\n",
      " 31  hawker_nearest_distance    167371 non-null  float64\n",
      " 32  hawker_within_500m         167371 non-null  float64\n",
      " 33  hawker_within_1km          167371 non-null  float64\n",
      " 34  hawker_within_2km          167371 non-null  float64\n",
      " 35  hawker_food_stalls         167371 non-null  int64  \n",
      " 36  hawker_market_stalls       167371 non-null  int64  \n",
      " 37  mrt_nearest_distance       167371 non-null  float64\n",
      " 38  bus_interchange            167371 non-null  int64  \n",
      " 39  mrt_interchange            167371 non-null  int64  \n",
      " 40  bus_stop_nearest_distance  167371 non-null  float64\n",
      " 41  pri_sch_nearest_distance   167371 non-null  float64\n",
      " 42  vacancy                    167371 non-null  int64  \n",
      " 43  pri_sch_affiliation        167371 non-null  int64  \n",
      " 44  sec_sch_nearest_dist       167371 non-null  float64\n",
      " 45  cutoff_point               167371 non-null  int64  \n",
      " 46  affiliation                167371 non-null  int64  \n",
      "dtypes: float64(13), int64(27), object(7)\n",
      "memory usage: 60.0+ MB\n"
     ]
    }
   ],
   "source": [
    "all_data.info()"
   ]
  },
  {
   "cell_type": "markdown",
   "metadata": {
    "tags": []
   },
   "source": [
    "# 3. Feature Engineering"
   ]
  },
  {
   "cell_type": "markdown",
   "metadata": {},
   "source": [
    "## 3.1 Add New Features"
   ]
  },
  {
   "cell_type": "markdown",
   "metadata": {},
   "source": [
    "**Considered the numbers of mall/hawker in a larger distance included the numbers of mall/hawker in a smaller distance, new features can be created as below:** "
   ]
  },
  {
   "cell_type": "code",
   "execution_count": 7,
   "metadata": {},
   "outputs": [],
   "source": [
    "all_data['mall_500m_to_1km'] = all_data['mall_within_1km'] - all_data['mall_within_500m']\n",
    "all_data['mall_1km_to_2km'] = all_data['mall_within_2km'] - all_data['mall_within_1km']\n",
    "\n",
    "all_data['hawker_500m_to_1km'] = all_data['hawker_within_1km'] - all_data['hawker_within_500m']\n",
    "all_data['hawker_1km_to_2km'] = all_data['hawker_within_2km'] - all_data['hawker_within_1km']"
   ]
  },
  {
   "cell_type": "markdown",
   "metadata": {},
   "source": [
    "**Create a new feature age_of_built:**"
   ]
  },
  {
   "cell_type": "code",
   "execution_count": 8,
   "metadata": {},
   "outputs": [],
   "source": [
    "all_data[\"age_of_built\"] = all_data['tranc_year'] - all_data['year_completed']"
   ]
  },
  {
   "cell_type": "markdown",
   "metadata": {},
   "source": [
    "**Transfer the int datatype of below features to str as they don't have numerical meanings:**"
   ]
  },
  {
   "cell_type": "code",
   "execution_count": 9,
   "metadata": {},
   "outputs": [],
   "source": [
    "cols = ['tranc_year', 'tranc_month', 'year_completed', 'bus_interchange', 'mrt_interchange', 'pri_sch_affiliation', 'affiliation']\n",
    "for col in cols:\n",
    "    all_data[col] = all_data[col].astype(str)    \n",
    "del cols, col"
   ]
  },
  {
   "cell_type": "markdown",
   "metadata": {},
   "source": [
    "**Label encoding year and month**"
   ]
  },
  {
   "cell_type": "code",
   "execution_count": 10,
   "metadata": {},
   "outputs": [],
   "source": [
    "str_cols = ['tranc_year', 'tranc_month', 'year_completed']\n",
    "for col in str_cols:\n",
    "    all_data[col] = LabelEncoder().fit_transform(all_data[col])"
   ]
  },
  {
   "cell_type": "code",
   "execution_count": 11,
   "metadata": {
    "scrolled": true,
    "tags": []
   },
   "outputs": [
    {
     "name": "stdout",
     "output_type": "stream",
     "text": [
      "<class 'pandas.core.frame.DataFrame'>\n",
      "RangeIndex: 167371 entries, 0 to 167370\n",
      "Data columns (total 52 columns):\n",
      " #   Column                     Non-Null Count   Dtype  \n",
      "---  ------                     --------------   -----  \n",
      " 0   town                       167371 non-null  object \n",
      " 1   flat_type                  167371 non-null  object \n",
      " 2   flat_model                 167371 non-null  object \n",
      " 3   tranc_year                 167371 non-null  int64  \n",
      " 4   tranc_month                167371 non-null  int64  \n",
      " 5   mid_storey                 167371 non-null  int64  \n",
      " 6   floor_area_sqft            167371 non-null  float64\n",
      " 7   hdb_age                    167371 non-null  int64  \n",
      " 8   max_floor_lvl              167371 non-null  int64  \n",
      " 9   year_completed             167371 non-null  int64  \n",
      " 10  commercial                 167371 non-null  object \n",
      " 11  market_hawker              167371 non-null  object \n",
      " 12  multistorey_carpark        167371 non-null  object \n",
      " 13  precinct_pavilion          167371 non-null  object \n",
      " 14  total_dwelling_units       167371 non-null  int64  \n",
      " 15  1room_sold                 167371 non-null  int64  \n",
      " 16  2room_sold                 167371 non-null  int64  \n",
      " 17  3room_sold                 167371 non-null  int64  \n",
      " 18  4room_sold                 167371 non-null  int64  \n",
      " 19  5room_sold                 167371 non-null  int64  \n",
      " 20  exec_sold                  167371 non-null  int64  \n",
      " 21  multigen_sold              167371 non-null  int64  \n",
      " 22  studio_apartment_sold      167371 non-null  int64  \n",
      " 23  1room_rental               167371 non-null  int64  \n",
      " 24  2room_rental               167371 non-null  int64  \n",
      " 25  3room_rental               167371 non-null  int64  \n",
      " 26  other_room_rental          167371 non-null  int64  \n",
      " 27  mall_nearest_distance      167371 non-null  float64\n",
      " 28  mall_within_500m           167371 non-null  float64\n",
      " 29  mall_within_1km            167371 non-null  float64\n",
      " 30  mall_within_2km            167371 non-null  float64\n",
      " 31  hawker_nearest_distance    167371 non-null  float64\n",
      " 32  hawker_within_500m         167371 non-null  float64\n",
      " 33  hawker_within_1km          167371 non-null  float64\n",
      " 34  hawker_within_2km          167371 non-null  float64\n",
      " 35  hawker_food_stalls         167371 non-null  int64  \n",
      " 36  hawker_market_stalls       167371 non-null  int64  \n",
      " 37  mrt_nearest_distance       167371 non-null  float64\n",
      " 38  bus_interchange            167371 non-null  object \n",
      " 39  mrt_interchange            167371 non-null  object \n",
      " 40  bus_stop_nearest_distance  167371 non-null  float64\n",
      " 41  pri_sch_nearest_distance   167371 non-null  float64\n",
      " 42  vacancy                    167371 non-null  int64  \n",
      " 43  pri_sch_affiliation        167371 non-null  object \n",
      " 44  sec_sch_nearest_dist       167371 non-null  float64\n",
      " 45  cutoff_point               167371 non-null  int64  \n",
      " 46  affiliation                167371 non-null  object \n",
      " 47  mall_500m_to_1km           167371 non-null  float64\n",
      " 48  mall_1km_to_2km            167371 non-null  float64\n",
      " 49  hawker_500m_to_1km         167371 non-null  float64\n",
      " 50  hawker_1km_to_2km          167371 non-null  float64\n",
      " 51  age_of_built               167371 non-null  int64  \n",
      "dtypes: float64(17), int64(24), object(11)\n",
      "memory usage: 66.4+ MB\n"
     ]
    }
   ],
   "source": [
    "all_data.info()"
   ]
  },
  {
   "cell_type": "markdown",
   "metadata": {},
   "source": [
    "## 3.2 Numerical Variable Features Transformation"
   ]
  },
  {
   "cell_type": "code",
   "execution_count": 12,
   "metadata": {},
   "outputs": [
    {
     "name": "stdout",
     "output_type": "stream",
     "text": [
      "Skewness: 1.083759\n",
      "Kurtosis: 1.325540\n"
     ]
    }
   ],
   "source": [
    "print(\"Skewness: %f\" % y_train.skew())\n",
    "print(\"Kurtosis: %f\" % y_train.kurt())"
   ]
  },
  {
   "cell_type": "code",
   "execution_count": 13,
   "metadata": {},
   "outputs": [
    {
     "name": "stdout",
     "output_type": "stream",
     "text": [
      "\n",
      "Skew in numerical features: \n",
      "\n"
     ]
    },
    {
     "data": {
      "text/html": [
       "<div>\n",
       "<style scoped>\n",
       "    .dataframe tbody tr th:only-of-type {\n",
       "        vertical-align: middle;\n",
       "    }\n",
       "\n",
       "    .dataframe tbody tr th {\n",
       "        vertical-align: top;\n",
       "    }\n",
       "\n",
       "    .dataframe thead th {\n",
       "        text-align: right;\n",
       "    }\n",
       "</style>\n",
       "<table border=\"1\" class=\"dataframe\">\n",
       "  <thead>\n",
       "    <tr style=\"text-align: right;\">\n",
       "      <th></th>\n",
       "      <th>Skew</th>\n",
       "    </tr>\n",
       "  </thead>\n",
       "  <tbody>\n",
       "    <tr>\n",
       "      <th>other_room_rental</th>\n",
       "      <td>79.521010</td>\n",
       "    </tr>\n",
       "    <tr>\n",
       "      <th>multigen_sold</th>\n",
       "      <td>50.660446</td>\n",
       "    </tr>\n",
       "    <tr>\n",
       "      <th>1room_sold</th>\n",
       "      <td>43.330977</td>\n",
       "    </tr>\n",
       "    <tr>\n",
       "      <th>1room_rental</th>\n",
       "      <td>41.446940</td>\n",
       "    </tr>\n",
       "    <tr>\n",
       "      <th>2room_rental</th>\n",
       "      <td>27.034726</td>\n",
       "    </tr>\n",
       "    <tr>\n",
       "      <th>3room_rental</th>\n",
       "      <td>22.261928</td>\n",
       "    </tr>\n",
       "    <tr>\n",
       "      <th>studio_apartment_sold</th>\n",
       "      <td>15.331996</td>\n",
       "    </tr>\n",
       "    <tr>\n",
       "      <th>2room_sold</th>\n",
       "      <td>8.680007</td>\n",
       "    </tr>\n",
       "    <tr>\n",
       "      <th>mall_within_2km</th>\n",
       "      <td>4.628154</td>\n",
       "    </tr>\n",
       "    <tr>\n",
       "      <th>mall_1km_to_2km</th>\n",
       "      <td>3.872227</td>\n",
       "    </tr>\n",
       "  </tbody>\n",
       "</table>\n",
       "</div>"
      ],
      "text/plain": [
       "                            Skew\n",
       "other_room_rental      79.521010\n",
       "multigen_sold          50.660446\n",
       "1room_sold             43.330977\n",
       "1room_rental           41.446940\n",
       "2room_rental           27.034726\n",
       "3room_rental           22.261928\n",
       "studio_apartment_sold  15.331996\n",
       "2room_sold              8.680007\n",
       "mall_within_2km         4.628154\n",
       "mall_1km_to_2km         3.872227"
      ]
     },
     "execution_count": 13,
     "metadata": {},
     "output_type": "execute_result"
    }
   ],
   "source": [
    "numeric_feats = all_data.dtypes[all_data.dtypes != \"object\"].index\n",
    "\n",
    "#Check the skewness of all numerical features\n",
    "skewed_feats = all_data[numeric_feats].apply(lambda x: skew(x.dropna())).sort_values(ascending=False)\n",
    "print(\"\\nSkew in numerical features: \\n\")\n",
    "skewness = pd.DataFrame({'Skew' :skewed_feats})\n",
    "skewness.head(10)"
   ]
  },
  {
   "cell_type": "code",
   "execution_count": 14,
   "metadata": {},
   "outputs": [
    {
     "name": "stdout",
     "output_type": "stream",
     "text": [
      "There are 41 skewed numerical features to Box Cox transform\n"
     ]
    }
   ],
   "source": [
    "skewness = skewness[abs(skewness) > 0.75]\n",
    "print(\"There are {} skewed numerical features to Box Cox transform\".format(skewness.shape[0]))\n",
    "\n",
    "skewed_features = skewness.index\n",
    "lam = 0.15\n",
    "for feat in skewed_features:\n",
    "    all_data[feat] = boxcox1p(all_data[feat], lam)"
   ]
  },
  {
   "cell_type": "code",
   "execution_count": 15,
   "metadata": {},
   "outputs": [
    {
     "data": {
      "image/png": "[encoded data removed]",
      "text/plain": [
       "<Figure size 1600x800 with 1 Axes>"
      ]
     },
     "metadata": {},
     "output_type": "display_data"
    }
   ],
   "source": [
    "plt.figure(figsize=(16, 8))\n",
    "res = stats.probplot(y_train, plot=plt)"
   ]
  },
  {
   "cell_type": "code",
   "execution_count": 16,
   "metadata": {},
   "outputs": [
    {
     "name": "stderr",
     "output_type": "stream",
     "text": [
      "/tmp/ipykernel_737/1830515789.py:5: UserWarning: \n",
      "\n",
      "`distplot` is a deprecated function and will be removed in seaborn v0.14.0.\n",
      "\n",
      "Please adapt your code to use either `displot` (a figure-level function with\n",
      "similar flexibility) or `histplot` (an axes-level function for histograms).\n",
      "\n",
      "For a guide to updating your code to use the new functions, please see\n",
      "https://gist.github.com/mwaskom/de44147ed2974457ad6372750bbe5751\n",
      "\n",
      "  sns.distplot(y_train, fit=norm);\n"
     ]
    },
    {
     "name": "stdout",
     "output_type": "stream",
     "text": [
      "\n",
      " mu = 12.97 and sigma = 0.30\n",
      "\n"
     ]
    },
    {
     "data": {
      "image/png": "[encoded data removed]",
      "text/plain": [
       "<Figure size 640x480 with 1 Axes>"
      ]
     },
     "metadata": {},
     "output_type": "display_data"
    },
    {
     "data": {
      "image/png": "[encoded data removed]",
      "text/plain": [
       "<Figure size 640x480 with 1 Axes>"
      ]
     },
     "metadata": {},
     "output_type": "display_data"
    }
   ],
   "source": [
    "# Normalize Y\n",
    "y_train = np.log1p(y_train)\n",
    "\n",
    "# Plot the distribution to check the new distribution\n",
    "sns.distplot(y_train, fit=norm);\n",
    "plt.legend(['Normal dist'], loc='best')\n",
    "plt.ylabel('Frequency')\n",
    "plt.title('ResalePrice distribution')\n",
    "\n",
    "# Get the new normal distribution parameters\n",
    "(mu, sigma) = norm.fit(y_train)\n",
    "print('\\n mu = {:.2f} and sigma = {:.2f}\\n'.format(mu, sigma))\n",
    "\n",
    "# Plot QQ-plot graph\n",
    "fig = plt.figure()\n",
    "res = stats.probplot(y_train, plot=plt)"
   ]
  },
  {
   "cell_type": "markdown",
   "metadata": {
    "tags": []
   },
   "source": [
    "## 3.3 Datatype Transformation"
   ]
  },
  {
   "cell_type": "markdown",
   "metadata": {},
   "source": [
    "**The datatype of following features can be transformed from object to boolean (0/1):**\n",
    "* commercial\n",
    "* market_hawker\n",
    "* multistorey_carpark\n",
    "* precinct_pavilion\n",
    "* bus_interchange\n",
    "* mrt_interchange\n",
    "* pri_sch_affiliation\n",
    "* affiliation"
   ]
  },
  {
   "cell_type": "code",
   "execution_count": 17,
   "metadata": {},
   "outputs": [],
   "source": [
    "all_data['commercial'] = all_data['commercial'].map({'Y': 1,'N': 0})\n",
    "all_data['market_hawker'] = all_data['market_hawker'].map({'Y': 1,'N': 0})\n",
    "all_data['multistorey_carpark'] = all_data['multistorey_carpark'].map({'Y': 1,'N': 0})\n",
    "all_data['precinct_pavilion'] = all_data['precinct_pavilion'].map({'Y': 1,'N': 0})\n",
    "\n",
    "all_data['bus_interchange'] = all_data['bus_interchange'].astype(int)\n",
    "all_data['mrt_interchange'] = all_data['mrt_interchange'].astype(int)\n",
    "all_data['pri_sch_affiliation'] = all_data['pri_sch_affiliation'].astype(int)\n",
    "all_data['affiliation'] = all_data['affiliation'].astype(int)"
   ]
  },
  {
   "cell_type": "code",
   "execution_count": 18,
   "metadata": {
    "scrolled": true,
    "tags": []
   },
   "outputs": [
    {
     "name": "stdout",
     "output_type": "stream",
     "text": [
      "<class 'pandas.core.frame.DataFrame'>\n",
      "RangeIndex: 167371 entries, 0 to 167370\n",
      "Data columns (total 52 columns):\n",
      " #   Column                     Non-Null Count   Dtype  \n",
      "---  ------                     --------------   -----  \n",
      " 0   town                       167371 non-null  object \n",
      " 1   flat_type                  167371 non-null  object \n",
      " 2   flat_model                 167371 non-null  object \n",
      " 3   tranc_year                 167371 non-null  float64\n",
      " 4   tranc_month                167371 non-null  float64\n",
      " 5   mid_storey                 167371 non-null  float64\n",
      " 6   floor_area_sqft            167371 non-null  float64\n",
      " 7   hdb_age                    167371 non-null  float64\n",
      " 8   max_floor_lvl              167371 non-null  float64\n",
      " 9   year_completed             167371 non-null  float64\n",
      " 10  commercial                 167371 non-null  int64  \n",
      " 11  market_hawker              167371 non-null  int64  \n",
      " 12  multistorey_carpark        167371 non-null  int64  \n",
      " 13  precinct_pavilion          167371 non-null  int64  \n",
      " 14  total_dwelling_units       167371 non-null  float64\n",
      " 15  1room_sold                 167371 non-null  float64\n",
      " 16  2room_sold                 167371 non-null  float64\n",
      " 17  3room_sold                 167371 non-null  float64\n",
      " 18  4room_sold                 167371 non-null  float64\n",
      " 19  5room_sold                 167371 non-null  float64\n",
      " 20  exec_sold                  167371 non-null  float64\n",
      " 21  multigen_sold              167371 non-null  float64\n",
      " 22  studio_apartment_sold      167371 non-null  float64\n",
      " 23  1room_rental               167371 non-null  float64\n",
      " 24  2room_rental               167371 non-null  float64\n",
      " 25  3room_rental               167371 non-null  float64\n",
      " 26  other_room_rental          167371 non-null  float64\n",
      " 27  mall_nearest_distance      167371 non-null  float64\n",
      " 28  mall_within_500m           167371 non-null  float64\n",
      " 29  mall_within_1km            167371 non-null  float64\n",
      " 30  mall_within_2km            167371 non-null  float64\n",
      " 31  hawker_nearest_distance    167371 non-null  float64\n",
      " 32  hawker_within_500m         167371 non-null  float64\n",
      " 33  hawker_within_1km          167371 non-null  float64\n",
      " 34  hawker_within_2km          167371 non-null  float64\n",
      " 35  hawker_food_stalls         167371 non-null  float64\n",
      " 36  hawker_market_stalls       167371 non-null  float64\n",
      " 37  mrt_nearest_distance       167371 non-null  float64\n",
      " 38  bus_interchange            167371 non-null  int64  \n",
      " 39  mrt_interchange            167371 non-null  int64  \n",
      " 40  bus_stop_nearest_distance  167371 non-null  float64\n",
      " 41  pri_sch_nearest_distance   167371 non-null  float64\n",
      " 42  vacancy                    167371 non-null  float64\n",
      " 43  pri_sch_affiliation        167371 non-null  int64  \n",
      " 44  sec_sch_nearest_dist       167371 non-null  float64\n",
      " 45  cutoff_point               167371 non-null  float64\n",
      " 46  affiliation                167371 non-null  int64  \n",
      " 47  mall_500m_to_1km           167371 non-null  float64\n",
      " 48  mall_1km_to_2km            167371 non-null  float64\n",
      " 49  hawker_500m_to_1km         167371 non-null  float64\n",
      " 50  hawker_1km_to_2km          167371 non-null  float64\n",
      " 51  age_of_built               167371 non-null  float64\n",
      "dtypes: float64(41), int64(8), object(3)\n",
      "memory usage: 66.4+ MB\n"
     ]
    }
   ],
   "source": [
    "all_data.info()"
   ]
  },
  {
   "cell_type": "markdown",
   "metadata": {},
   "source": [
    "## 3.4 One-Hot Encoding"
   ]
  },
  {
   "cell_type": "markdown",
   "metadata": {},
   "source": [
    "**The following features can be one-hot encoded:**\n",
    "* town\n",
    "* flat_model"
   ]
  },
  {
   "cell_type": "code",
   "execution_count": 19,
   "metadata": {},
   "outputs": [
    {
     "data": {
      "text/plain": [
       "array(['KALLANG/WHAMPOA', 'BISHAN', 'BUKIT BATOK', 'YISHUN', 'GEYLANG',\n",
       "       'HOUGANG', 'BEDOK', 'SENGKANG', 'TAMPINES', 'SERANGOON',\n",
       "       'BUKIT MERAH', 'BUKIT PANJANG', 'WOODLANDS', 'JURONG WEST',\n",
       "       'TOA PAYOH', 'CHOA CHU KANG', 'SEMBAWANG', 'ANG MO KIO',\n",
       "       'PASIR RIS', 'CLEMENTI', 'PUNGGOL', 'JURONG EAST', 'CENTRAL AREA',\n",
       "       'QUEENSTOWN', 'BUKIT TIMAH', 'MARINE PARADE'], dtype=object)"
      ]
     },
     "execution_count": 19,
     "metadata": {},
     "output_type": "execute_result"
    }
   ],
   "source": [
    "all_data['town'].unique()"
   ]
  },
  {
   "cell_type": "code",
   "execution_count": 20,
   "metadata": {},
   "outputs": [
    {
     "data": {
      "text/plain": [
       "26"
      ]
     },
     "execution_count": 20,
     "metadata": {},
     "output_type": "execute_result"
    }
   ],
   "source": [
    "len(all_data['town'].unique())"
   ]
  },
  {
   "cell_type": "code",
   "execution_count": 21,
   "metadata": {},
   "outputs": [
    {
     "data": {
      "text/plain": [
       "array(['Model A', 'Improved', 'Apartment', 'Simplified', 'New Generation',\n",
       "       'Premium Apartment', 'Model A2', 'Maisonette', 'Standard', 'DBSS',\n",
       "       'Terrace', 'Model A-Maisonette', 'Type S1',\n",
       "       'Premium Apartment Loft', 'Adjoined flat', 'Multi Generation',\n",
       "       'Type S2', 'Premium Maisonette', 'Improved-Maisonette', '2-room'],\n",
       "      dtype=object)"
      ]
     },
     "execution_count": 21,
     "metadata": {},
     "output_type": "execute_result"
    }
   ],
   "source": [
    "all_data['flat_model'].unique()"
   ]
  },
  {
   "cell_type": "code",
   "execution_count": 22,
   "metadata": {},
   "outputs": [
    {
     "data": {
      "text/plain": [
       "20"
      ]
     },
     "execution_count": 22,
     "metadata": {},
     "output_type": "execute_result"
    }
   ],
   "source": [
    "len(all_data['flat_model'].unique())"
   ]
  },
  {
   "cell_type": "code",
   "execution_count": 23,
   "metadata": {},
   "outputs": [],
   "source": [
    "all_data = pd.get_dummies(all_data, columns=['town', 'flat_model'], drop_first=True)"
   ]
  },
  {
   "cell_type": "code",
   "execution_count": 24,
   "metadata": {
    "scrolled": true,
    "tags": []
   },
   "outputs": [
    {
     "name": "stdout",
     "output_type": "stream",
     "text": [
      "<class 'pandas.core.frame.DataFrame'>\n",
      "RangeIndex: 167371 entries, 0 to 167370\n",
      "Data columns (total 94 columns):\n",
      " #   Column                             Non-Null Count   Dtype  \n",
      "---  ------                             --------------   -----  \n",
      " 0   flat_type                          167371 non-null  object \n",
      " 1   tranc_year                         167371 non-null  float64\n",
      " 2   tranc_month                        167371 non-null  float64\n",
      " 3   mid_storey                         167371 non-null  float64\n",
      " 4   floor_area_sqft                    167371 non-null  float64\n",
      " 5   hdb_age                            167371 non-null  float64\n",
      " 6   max_floor_lvl                      167371 non-null  float64\n",
      " 7   year_completed                     167371 non-null  float64\n",
      " 8   commercial                         167371 non-null  int64  \n",
      " 9   market_hawker                      167371 non-null  int64  \n",
      " 10  multistorey_carpark                167371 non-null  int64  \n",
      " 11  precinct_pavilion                  167371 non-null  int64  \n",
      " 12  total_dwelling_units               167371 non-null  float64\n",
      " 13  1room_sold                         167371 non-null  float64\n",
      " 14  2room_sold                         167371 non-null  float64\n",
      " 15  3room_sold                         167371 non-null  float64\n",
      " 16  4room_sold                         167371 non-null  float64\n",
      " 17  5room_sold                         167371 non-null  float64\n",
      " 18  exec_sold                          167371 non-null  float64\n",
      " 19  multigen_sold                      167371 non-null  float64\n",
      " 20  studio_apartment_sold              167371 non-null  float64\n",
      " 21  1room_rental                       167371 non-null  float64\n",
      " 22  2room_rental                       167371 non-null  float64\n",
      " 23  3room_rental                       167371 non-null  float64\n",
      " 24  other_room_rental                  167371 non-null  float64\n",
      " 25  mall_nearest_distance              167371 non-null  float64\n",
      " 26  mall_within_500m                   167371 non-null  float64\n",
      " 27  mall_within_1km                    167371 non-null  float64\n",
      " 28  mall_within_2km                    167371 non-null  float64\n",
      " 29  hawker_nearest_distance            167371 non-null  float64\n",
      " 30  hawker_within_500m                 167371 non-null  float64\n",
      " 31  hawker_within_1km                  167371 non-null  float64\n",
      " 32  hawker_within_2km                  167371 non-null  float64\n",
      " 33  hawker_food_stalls                 167371 non-null  float64\n",
      " 34  hawker_market_stalls               167371 non-null  float64\n",
      " 35  mrt_nearest_distance               167371 non-null  float64\n",
      " 36  bus_interchange                    167371 non-null  int64  \n",
      " 37  mrt_interchange                    167371 non-null  int64  \n",
      " 38  bus_stop_nearest_distance          167371 non-null  float64\n",
      " 39  pri_sch_nearest_distance           167371 non-null  float64\n",
      " 40  vacancy                            167371 non-null  float64\n",
      " 41  pri_sch_affiliation                167371 non-null  int64  \n",
      " 42  sec_sch_nearest_dist               167371 non-null  float64\n",
      " 43  cutoff_point                       167371 non-null  float64\n",
      " 44  affiliation                        167371 non-null  int64  \n",
      " 45  mall_500m_to_1km                   167371 non-null  float64\n",
      " 46  mall_1km_to_2km                    167371 non-null  float64\n",
      " 47  hawker_500m_to_1km                 167371 non-null  float64\n",
      " 48  hawker_1km_to_2km                  167371 non-null  float64\n",
      " 49  age_of_built                       167371 non-null  float64\n",
      " 50  town_BEDOK                         167371 non-null  uint8  \n",
      " 51  town_BISHAN                        167371 non-null  uint8  \n",
      " 52  town_BUKIT BATOK                   167371 non-null  uint8  \n",
      " 53  town_BUKIT MERAH                   167371 non-null  uint8  \n",
      " 54  town_BUKIT PANJANG                 167371 non-null  uint8  \n",
      " 55  town_BUKIT TIMAH                   167371 non-null  uint8  \n",
      " 56  town_CENTRAL AREA                  167371 non-null  uint8  \n",
      " 57  town_CHOA CHU KANG                 167371 non-null  uint8  \n",
      " 58  town_CLEMENTI                      167371 non-null  uint8  \n",
      " 59  town_GEYLANG                       167371 non-null  uint8  \n",
      " 60  town_HOUGANG                       167371 non-null  uint8  \n",
      " 61  town_JURONG EAST                   167371 non-null  uint8  \n",
      " 62  town_JURONG WEST                   167371 non-null  uint8  \n",
      " 63  town_KALLANG/WHAMPOA               167371 non-null  uint8  \n",
      " 64  town_MARINE PARADE                 167371 non-null  uint8  \n",
      " 65  town_PASIR RIS                     167371 non-null  uint8  \n",
      " 66  town_PUNGGOL                       167371 non-null  uint8  \n",
      " 67  town_QUEENSTOWN                    167371 non-null  uint8  \n",
      " 68  town_SEMBAWANG                     167371 non-null  uint8  \n",
      " 69  town_SENGKANG                      167371 non-null  uint8  \n",
      " 70  town_SERANGOON                     167371 non-null  uint8  \n",
      " 71  town_TAMPINES                      167371 non-null  uint8  \n",
      " 72  town_TOA PAYOH                     167371 non-null  uint8  \n",
      " 73  town_WOODLANDS                     167371 non-null  uint8  \n",
      " 74  town_YISHUN                        167371 non-null  uint8  \n",
      " 75  flat_model_Adjoined flat           167371 non-null  uint8  \n",
      " 76  flat_model_Apartment               167371 non-null  uint8  \n",
      " 77  flat_model_DBSS                    167371 non-null  uint8  \n",
      " 78  flat_model_Improved                167371 non-null  uint8  \n",
      " 79  flat_model_Improved-Maisonette     167371 non-null  uint8  \n",
      " 80  flat_model_Maisonette              167371 non-null  uint8  \n",
      " 81  flat_model_Model A                 167371 non-null  uint8  \n",
      " 82  flat_model_Model A-Maisonette      167371 non-null  uint8  \n",
      " 83  flat_model_Model A2                167371 non-null  uint8  \n",
      " 84  flat_model_Multi Generation        167371 non-null  uint8  \n",
      " 85  flat_model_New Generation          167371 non-null  uint8  \n",
      " 86  flat_model_Premium Apartment       167371 non-null  uint8  \n",
      " 87  flat_model_Premium Apartment Loft  167371 non-null  uint8  \n",
      " 88  flat_model_Premium Maisonette      167371 non-null  uint8  \n",
      " 89  flat_model_Simplified              167371 non-null  uint8  \n",
      " 90  flat_model_Standard                167371 non-null  uint8  \n",
      " 91  flat_model_Terrace                 167371 non-null  uint8  \n",
      " 92  flat_model_Type S1                 167371 non-null  uint8  \n",
      " 93  flat_model_Type S2                 167371 non-null  uint8  \n",
      "dtypes: float64(41), int64(8), object(1), uint8(44)\n",
      "memory usage: 70.9+ MB\n"
     ]
    }
   ],
   "source": [
    "all_data.info()"
   ]
  },
  {
   "cell_type": "markdown",
   "metadata": {},
   "source": [
    "**Now all the datatypes of features for modeling are digitalized except flat type.** "
   ]
  },
  {
   "cell_type": "code",
   "execution_count": 25,
   "metadata": {},
   "outputs": [],
   "source": [
    "#Split back to Train/Test datasets\n",
    "df_train = all_data[:ntrain]\n",
    "df_test = all_data[ntrain:]"
   ]
  },
  {
   "cell_type": "code",
   "execution_count": 26,
   "metadata": {
    "scrolled": true,
    "tags": []
   },
   "outputs": [
    {
     "name": "stdout",
     "output_type": "stream",
     "text": [
      "<class 'pandas.core.frame.DataFrame'>\n",
      "RangeIndex: 150634 entries, 0 to 150633\n",
      "Data columns (total 95 columns):\n",
      " #   Column                             Non-Null Count   Dtype  \n",
      "---  ------                             --------------   -----  \n",
      " 0   flat_type                          150634 non-null  object \n",
      " 1   tranc_year                         150634 non-null  float64\n",
      " 2   tranc_month                        150634 non-null  float64\n",
      " 3   mid_storey                         150634 non-null  float64\n",
      " 4   floor_area_sqft                    150634 non-null  float64\n",
      " 5   hdb_age                            150634 non-null  float64\n",
      " 6   max_floor_lvl                      150634 non-null  float64\n",
      " 7   year_completed                     150634 non-null  float64\n",
      " 8   commercial                         150634 non-null  int64  \n",
      " 9   market_hawker                      150634 non-null  int64  \n",
      " 10  multistorey_carpark                150634 non-null  int64  \n",
      " 11  precinct_pavilion                  150634 non-null  int64  \n",
      " 12  total_dwelling_units               150634 non-null  float64\n",
      " 13  1room_sold                         150634 non-null  float64\n",
      " 14  2room_sold                         150634 non-null  float64\n",
      " 15  3room_sold                         150634 non-null  float64\n",
      " 16  4room_sold                         150634 non-null  float64\n",
      " 17  5room_sold                         150634 non-null  float64\n",
      " 18  exec_sold                          150634 non-null  float64\n",
      " 19  multigen_sold                      150634 non-null  float64\n",
      " 20  studio_apartment_sold              150634 non-null  float64\n",
      " 21  1room_rental                       150634 non-null  float64\n",
      " 22  2room_rental                       150634 non-null  float64\n",
      " 23  3room_rental                       150634 non-null  float64\n",
      " 24  other_room_rental                  150634 non-null  float64\n",
      " 25  mall_nearest_distance              150634 non-null  float64\n",
      " 26  mall_within_500m                   150634 non-null  float64\n",
      " 27  mall_within_1km                    150634 non-null  float64\n",
      " 28  mall_within_2km                    150634 non-null  float64\n",
      " 29  hawker_nearest_distance            150634 non-null  float64\n",
      " 30  hawker_within_500m                 150634 non-null  float64\n",
      " 31  hawker_within_1km                  150634 non-null  float64\n",
      " 32  hawker_within_2km                  150634 non-null  float64\n",
      " 33  hawker_food_stalls                 150634 non-null  float64\n",
      " 34  hawker_market_stalls               150634 non-null  float64\n",
      " 35  mrt_nearest_distance               150634 non-null  float64\n",
      " 36  bus_interchange                    150634 non-null  int64  \n",
      " 37  mrt_interchange                    150634 non-null  int64  \n",
      " 38  bus_stop_nearest_distance          150634 non-null  float64\n",
      " 39  pri_sch_nearest_distance           150634 non-null  float64\n",
      " 40  vacancy                            150634 non-null  float64\n",
      " 41  pri_sch_affiliation                150634 non-null  int64  \n",
      " 42  sec_sch_nearest_dist               150634 non-null  float64\n",
      " 43  cutoff_point                       150634 non-null  float64\n",
      " 44  affiliation                        150634 non-null  int64  \n",
      " 45  mall_500m_to_1km                   150634 non-null  float64\n",
      " 46  mall_1km_to_2km                    150634 non-null  float64\n",
      " 47  hawker_500m_to_1km                 150634 non-null  float64\n",
      " 48  hawker_1km_to_2km                  150634 non-null  float64\n",
      " 49  age_of_built                       150634 non-null  float64\n",
      " 50  town_BEDOK                         150634 non-null  uint8  \n",
      " 51  town_BISHAN                        150634 non-null  uint8  \n",
      " 52  town_BUKIT BATOK                   150634 non-null  uint8  \n",
      " 53  town_BUKIT MERAH                   150634 non-null  uint8  \n",
      " 54  town_BUKIT PANJANG                 150634 non-null  uint8  \n",
      " 55  town_BUKIT TIMAH                   150634 non-null  uint8  \n",
      " 56  town_CENTRAL AREA                  150634 non-null  uint8  \n",
      " 57  town_CHOA CHU KANG                 150634 non-null  uint8  \n",
      " 58  town_CLEMENTI                      150634 non-null  uint8  \n",
      " 59  town_GEYLANG                       150634 non-null  uint8  \n",
      " 60  town_HOUGANG                       150634 non-null  uint8  \n",
      " 61  town_JURONG EAST                   150634 non-null  uint8  \n",
      " 62  town_JURONG WEST                   150634 non-null  uint8  \n",
      " 63  town_KALLANG/WHAMPOA               150634 non-null  uint8  \n",
      " 64  town_MARINE PARADE                 150634 non-null  uint8  \n",
      " 65  town_PASIR RIS                     150634 non-null  uint8  \n",
      " 66  town_PUNGGOL                       150634 non-null  uint8  \n",
      " 67  town_QUEENSTOWN                    150634 non-null  uint8  \n",
      " 68  town_SEMBAWANG                     150634 non-null  uint8  \n",
      " 69  town_SENGKANG                      150634 non-null  uint8  \n",
      " 70  town_SERANGOON                     150634 non-null  uint8  \n",
      " 71  town_TAMPINES                      150634 non-null  uint8  \n",
      " 72  town_TOA PAYOH                     150634 non-null  uint8  \n",
      " 73  town_WOODLANDS                     150634 non-null  uint8  \n",
      " 74  town_YISHUN                        150634 non-null  uint8  \n",
      " 75  flat_model_Adjoined flat           150634 non-null  uint8  \n",
      " 76  flat_model_Apartment               150634 non-null  uint8  \n",
      " 77  flat_model_DBSS                    150634 non-null  uint8  \n",
      " 78  flat_model_Improved                150634 non-null  uint8  \n",
      " 79  flat_model_Improved-Maisonette     150634 non-null  uint8  \n",
      " 80  flat_model_Maisonette              150634 non-null  uint8  \n",
      " 81  flat_model_Model A                 150634 non-null  uint8  \n",
      " 82  flat_model_Model A-Maisonette      150634 non-null  uint8  \n",
      " 83  flat_model_Model A2                150634 non-null  uint8  \n",
      " 84  flat_model_Multi Generation        150634 non-null  uint8  \n",
      " 85  flat_model_New Generation          150634 non-null  uint8  \n",
      " 86  flat_model_Premium Apartment       150634 non-null  uint8  \n",
      " 87  flat_model_Premium Apartment Loft  150634 non-null  uint8  \n",
      " 88  flat_model_Premium Maisonette      150634 non-null  uint8  \n",
      " 89  flat_model_Simplified              150634 non-null  uint8  \n",
      " 90  flat_model_Standard                150634 non-null  uint8  \n",
      " 91  flat_model_Terrace                 150634 non-null  uint8  \n",
      " 92  flat_model_Type S1                 150634 non-null  uint8  \n",
      " 93  flat_model_Type S2                 150634 non-null  uint8  \n",
      " 94  resale_price                       150634 non-null  float64\n",
      "dtypes: float64(42), int64(8), object(1), uint8(44)\n",
      "memory usage: 64.9+ MB\n"
     ]
    },
    {
     "name": "stderr",
     "output_type": "stream",
     "text": [
      "/tmp/ipykernel_737/614279243.py:2: SettingWithCopyWarning: \n",
      "A value is trying to be set on a copy of a slice from a DataFrame.\n",
      "Try using .loc[row_indexer,col_indexer] = value instead\n",
      "\n",
      "See the caveats in the documentation: https://pandas.pydata.org/pandas-docs/stable/user_guide/indexing.html#returning-a-view-versus-a-copy\n",
      "  df_train.loc[:, 'resale_price'] = y_train\n"
     ]
    }
   ],
   "source": [
    "#Add the 'resale_price' column back to train set\n",
    "df_train.loc[:, 'resale_price'] = y_train\n",
    "df_train.info()"
   ]
  },
  {
   "cell_type": "markdown",
   "metadata": {},
   "source": [
    "## 3.5 Data Dictionary"
   ]
  },
  {
   "cell_type": "markdown",
   "metadata": {},
   "source": [
    "**The final data has 95 columns (94 features + 1 target variable) which contains 167371 HDB flat resale records (150634 for train set and 16737 for test set) from 2012 to 2021.**"
   ]
  },
  {
   "cell_type": "markdown",
   "metadata": {},
   "source": [
    "|Feature|Type|Description| \n",
    "|---|---|---|\n",
    "|resale_price|float|property's resale price in Singapore dollars. This is the target variable that we are trying to predict| \n",
    "|town|uint|HDB township where the flat is located, e.g. BUKIT MERAH (one-hot encoded, 26 features)| \n",
    "|flat_model|uint|HDB model of the resale flat, e.g. Multi Generation (one-hot encoded, 20 features)| \n",
    "|flat_type|string|type of the resale flat unit, e.g. 3 ROOM (7 types in total)| \n",
    "|tranc_year|int|year of resale transaction|\n",
    "|tranc_month|int|month of resale transaction| \n",
    "|mid_storey|int|median value of storey_range| \n",
    "|floor_area_sqft|float|floor area of the resale flat unit in square feet| \n",
    "|hdb_age|int|number of years from lease_commence_date to present year| \n",
    "|max_floor_lvl|int|highest floor of the resale flat| \n",
    "|year_completed|int|year which construction was completed for resale flat| \n",
    "|commercial|int|boolean value (0/1) if resale flat has commercial units in the same block| \n",
    "|market_hawker|int|boolean value (0/1) if resale flat has a market or hawker centre in the same block|\n",
    "|multistorey_carpark|int|boolean value (0/1) if resale flat has a multistorey carpark in the same block|\n",
    "|precinct_pavilion|int|boolean value (0/1) if resale flat has a pavilion in the same block| \n",
    "|total_dwelling_units|int|total number of residential dwelling units in the resale flat| \n",
    "|1room_sold|int|number of 1-room residential units in the resale flat| \n",
    "|2room_sold|int|number of 2-room residential units in the resale flat| \n",
    "|3room_sold|int|number of 3-room residential units in the resale flat| \n",
    "|4room_sold|int|number of 4-room residential units in the resale flat| \n",
    "|5room_sold|int|number of 5-room residential units in the resale flat| \n",
    "|exec_sold|int|number of executive type residential units in the resale flat block| \n",
    "|multigen_sold|int|number of multi-generational type residential units in the resale flat block|\n",
    "|studio_apartment_sold|int|number of studio apartment type residential units in the resale flat block| \n",
    "|1room_rental|int|number of 1-room rental residential units in the resale flat block| \n",
    "|2room_rental|int|number of 2-room rental residential units in the resale flat block| \n",
    "|3room_rental|int|number of 3-room rental residential units in the resale flat block| \n",
    "|other_room_rental|int|number of \"other\" type rental residential units in the resale flat block|\n",
    "|mall_nearest_distance|float|distance (in metres) to the nearest mall| \n",
    "|mall_within_500m|int|number of malls within 500 metres| \n",
    "|mall_within_1km|int|number of malls within 1 kilometre| \n",
    "|mall_within_2km|int|number of malls within 2 kilometres| \n",
    "|hawker_nearest_distance|float|distance (in metres) to the nearest hawker centre| \n",
    "|hawker_within_500m|int|number of hawker centres within 500 metres| \n",
    "|hawker_within_1km|int|number of hawker centres within 1 kilometre| \n",
    "|hawker_within_2km|int|number of hawker centres within 2 kilometres|\n",
    "|hawker_food_stalls|int|number of hawker food stalls in the nearest hawker centre|\n",
    "|hawker_market_stalls|int|number of hawker and market stalls in the nearest hawker centre|\n",
    "|mrt_nearest_distance|float|distance (in metres) to the nearest MRT station|\n",
    "|bus_interchange|int|boolean value (0/1) if the nearest MRT station is also a bus interchange|\n",
    "|mrt_interchange|int|boolean value (0/1) if the nearest MRT station is a train interchange station|\n",
    "|bus_stop_nearest_distance|float|distance (in metres) to the nearest bus stop|\n",
    "|pri_sch_nearest_distance|float|distance (in metres) to the nearest primary school|\n",
    "|vacancy|int|number of vacancies in the nearest primary school|\n",
    "|pri_sch_affiliation|int|boolean value (0/1) if the nearest primary school has a secondary school affiliation|\n",
    "|sec_sch_nearest_dist|float|distance (in metres) to the nearest secondary school|\n",
    "|cutoff_point|float|PSLE cutoff point of the nearest secondary school|\n",
    "|affiliation|int|boolean value (0/1) if the nearest secondary school has an primary school affiliation|\n",
    "|mall_500m_to_1km|int|number of malls between 500 metres to 1km|              \n",
    "|mall_1km_to_2km|int|number of malls between 1km to 2km|               \n",
    "|hawker_500m_to_1km|int|number of hawkers between 500 metres to 1km|              \n",
    "|hawker_1km_to_2km|int|number of hawkers between 1km to 2km|              \n",
    "|age_of_built|int|number of years from tranc_year to year_completed|"
   ]
  },
  {
   "cell_type": "markdown",
   "metadata": {},
   "source": [
    "# 4. Modeling"
   ]
  },
  {
   "cell_type": "markdown",
   "metadata": {},
   "source": [
    "## 4.1 Baseline Score"
   ]
  },
  {
   "cell_type": "code",
   "execution_count": 27,
   "metadata": {
    "scrolled": true
   },
   "outputs": [
    {
     "name": "stdout",
     "output_type": "stream",
     "text": [
      "Baseline using the mean value of resale price from train dataset: 449161.5\n",
      "Baseline score (RMSE) with the mean value of resale price from train dataset: 143307.1\n"
     ]
    }
   ],
   "source": [
    "base_line = round(df_train_copy['resale_price'].mean(),2)\n",
    "base_score = round(np.sqrt(((df_train_copy['resale_price']- base_line)**2).mean()),2)\n",
    "\n",
    "print(f'Baseline using the mean value of resale price from train dataset: {base_line}')\n",
    "print(f'Baseline score (RMSE) with the mean value of resale price from train dataset: {base_score}')"
   ]
  },
  {
   "cell_type": "markdown",
   "metadata": {},
   "source": [
    "## 4.2 Initial setup for all 7 Models"
   ]
  },
  {
   "cell_type": "code",
   "execution_count": 28,
   "metadata": {},
   "outputs": [],
   "source": [
    "def model_performance(test_data, predictions):\n",
    "    rmse = np.sqrt(mean_squared_error(test_data, predictions))\n",
    "    print(f'RMSE = {rmse}')"
   ]
  },
  {
   "cell_type": "code",
   "execution_count": 29,
   "metadata": {},
   "outputs": [],
   "source": [
    "flat_type_list = ['1 ROOM','2 ROOM','3 ROOM','4 ROOM','5 ROOM', 'EXECUTIVE', 'MULTI-GENERATION']"
   ]
  },
  {
   "cell_type": "code",
   "execution_count": 30,
   "metadata": {},
   "outputs": [
    {
     "name": "stdout",
     "output_type": "stream",
     "text": [
      "1 ROOM: 82\n",
      "2 ROOM: 1896\n",
      "3 ROOM: 39060\n",
      "4 ROOM: 61136\n",
      "5 ROOM: 36415\n",
      "EXECUTIVE: 11989\n",
      "MULTI-GENERATION: 56\n"
     ]
    }
   ],
   "source": [
    "#Seperate the train dataframe by flat types\n",
    "df_train_ft = []\n",
    "for flat_type in flat_type_list:\n",
    "    df = df_train[df_train['flat_type'] == flat_type]\n",
    "    df_train_ft.append(df)\n",
    "    print(f'{flat_type}: {len(df)}')"
   ]
  },
  {
   "cell_type": "code",
   "execution_count": 31,
   "metadata": {},
   "outputs": [],
   "source": [
    "X = []\n",
    "y = []\n",
    "for df in df_train_ft:\n",
    "    X.append(df.drop(['resale_price', 'flat_type'],axis=1))\n",
    "    y.append(df['resale_price'])"
   ]
  },
  {
   "cell_type": "code",
   "execution_count": 32,
   "metadata": {},
   "outputs": [],
   "source": [
    "#Train-test split for the model of each flat type\n",
    "X_train_1, X_valid_1, y_train_1, y_valid_1 = train_test_split(X[0], y[0], test_size=0.3, random_state=42)\n",
    "X_train_2, X_valid_2, y_train_2, y_valid_2 = train_test_split(X[1], y[1], test_size=0.3, random_state=42)\n",
    "X_train_3, X_valid_3, y_train_3, y_valid_3 = train_test_split(X[2], y[2], test_size=0.2, random_state=42)\n",
    "X_train_4, X_valid_4, y_train_4, y_valid_4 = train_test_split(X[3], y[3], test_size=0.2, random_state=42)\n",
    "X_train_5, X_valid_5, y_train_5, y_valid_5 = train_test_split(X[4], y[4], test_size=0.2, random_state=42)\n",
    "X_train_exec, X_valid_exec, y_train_exec, y_valid_exec = train_test_split(X[5], y[5], test_size=0.3, random_state=42)\n",
    "X_train_multi, X_valid_multi, y_train_multi, y_valid_multi = train_test_split(X[6], y[6], test_size=0.3, random_state=42)"
   ]
  },
  {
   "cell_type": "markdown",
   "metadata": {},
   "source": [
    "**Noted that 1 ROOM and MULTI-GENERATION have few sample size, so the modeling for these two types will be done seperately.**  "
   ]
  },
  {
   "cell_type": "code",
   "execution_count": 33,
   "metadata": {},
   "outputs": [],
   "source": [
    "#Create train valid dataset list for 2 ROOM to 5 ROOM and EXECUTIVE\n",
    "X_train_list = [X_train_2, X_train_3, X_train_4, X_train_5, X_train_exec]\n",
    "X_valid_list = [X_valid_2, X_valid_3, X_valid_4, X_valid_5, X_valid_exec]\n",
    "y_train_list = [y_train_2, y_train_3, y_train_4, y_train_5, y_train_exec]\n",
    "y_valid_list = [y_valid_2, y_valid_3, y_valid_4, y_valid_5, y_valid_exec]"
   ]
  },
  {
   "cell_type": "markdown",
   "metadata": {},
   "source": [
    "## 4.3 Linear Regression"
   ]
  },
  {
   "cell_type": "markdown",
   "metadata": {},
   "source": [
    "Linear regression is the most basic and commonly used predictive analysis. Regression estimates are used to describe data and to explain the relationship.  \n",
    "\n",
    "$$ \\huge y = \\beta_0 + \\beta_1 x_1 + \\epsilon $$"
   ]
  },
  {
   "cell_type": "markdown",
   "metadata": {},
   "source": [
    "### 4.3.1 Model_1 and Model_7 (Model_multi)"
   ]
  },
  {
   "cell_type": "markdown",
   "metadata": {},
   "source": [
    "**Model_1**"
   ]
  },
  {
   "cell_type": "code",
   "execution_count": 34,
   "metadata": {},
   "outputs": [],
   "source": [
    "# Instantiate pipeline object.\n",
    "pipe = Pipeline([\n",
    "    ('ss', StandardScaler()),\n",
    "    ('pca', PCA(n_components=3)),\n",
    "    ('lr', LinearRegression())\n",
    "])"
   ]
  },
  {
   "cell_type": "code",
   "execution_count": 35,
   "metadata": {},
   "outputs": [],
   "source": [
    "# Define dictionary of hyperparameters.\n",
    "pipe_params = {'ss__with_mean': [True, False], \n",
    "                 'ss__with_std': [True, False]}"
   ]
  },
  {
   "cell_type": "code",
   "execution_count": 36,
   "metadata": {},
   "outputs": [],
   "source": [
    "# Instantiate our GridSearchCV object.\n",
    "pipe_gridsearch = GridSearchCV(pipe, \n",
    "                                 pipe_params, \n",
    "                                 cv=5, \n",
    "                                 verbose=1)"
   ]
  },
  {
   "cell_type": "code",
   "execution_count": 37,
   "metadata": {},
   "outputs": [
    {
     "name": "stdout",
     "output_type": "stream",
     "text": [
      "Fitting 5 folds for each of 4 candidates, totalling 20 fits\n"
     ]
    },
    {
     "data": {
      "text/html": [
       "<style>#sk-container-id-1 {color: black;background-color: white;}#sk-container-id-1 pre{padding: 0;}#sk-container-id-1 div.sk-toggleable {background-color: white;}#sk-container-id-1 label.sk-toggleable__label {cursor: pointer;display: block;width: 100%;margin-bottom: 0;padding: 0.3em;box-sizing: border-box;text-align: center;}#sk-container-id-1 label.sk-toggleable__label-arrow:before {content: \"▸\";float: left;margin-right: 0.25em;color: #696969;}#sk-container-id-1 label.sk-toggleable__label-arrow:hover:before {color: black;}#sk-container-id-1 div.sk-estimator:hover label.sk-toggleable__label-arrow:before {color: black;}#sk-container-id-1 div.sk-toggleable__content {max-height: 0;max-width: 0;overflow: hidden;text-align: left;background-color: #f0f8ff;}#sk-container-id-1 div.sk-toggleable__content pre {margin: 0.2em;color: black;border-radius: 0.25em;background-color: #f0f8ff;}#sk-container-id-1 input.sk-toggleable__control:checked~div.sk-toggleable__content {max-height: 200px;max-width: 100%;overflow: auto;}#sk-container-id-1 input.sk-toggleable__control:checked~label.sk-toggleable__label-arrow:before {content: \"▾\";}#sk-container-id-1 div.sk-estimator input.sk-toggleable__control:checked~label.sk-toggleable__label {background-color: #d4ebff;}#sk-container-id-1 div.sk-label input.sk-toggleable__control:checked~label.sk-toggleable__label {background-color: #d4ebff;}#sk-container-id-1 input.sk-hidden--visually {border: 0;clip: rect(1px 1px 1px 1px);clip: rect(1px, 1px, 1px, 1px);height: 1px;margin: -1px;overflow: hidden;padding: 0;position: absolute;width: 1px;}#sk-container-id-1 div.sk-estimator {font-family: monospace;background-color: #f0f8ff;border: 1px dotted black;border-radius: 0.25em;box-sizing: border-box;margin-bottom: 0.5em;}#sk-container-id-1 div.sk-estimator:hover {background-color: #d4ebff;}#sk-container-id-1 div.sk-parallel-item::after {content: \"\";width: 100%;border-bottom: 1px solid gray;flex-grow: 1;}#sk-container-id-1 div.sk-label:hover label.sk-toggleable__label {background-color: #d4ebff;}#sk-container-id-1 div.sk-serial::before {content: \"\";position: absolute;border-left: 1px solid gray;box-sizing: border-box;top: 0;bottom: 0;left: 50%;z-index: 0;}#sk-container-id-1 div.sk-serial {display: flex;flex-direction: column;align-items: center;background-color: white;padding-right: 0.2em;padding-left: 0.2em;position: relative;}#sk-container-id-1 div.sk-item {position: relative;z-index: 1;}#sk-container-id-1 div.sk-parallel {display: flex;align-items: stretch;justify-content: center;background-color: white;position: relative;}#sk-container-id-1 div.sk-item::before, #sk-container-id-1 div.sk-parallel-item::before {content: \"\";position: absolute;border-left: 1px solid gray;box-sizing: border-box;top: 0;bottom: 0;left: 50%;z-index: -1;}#sk-container-id-1 div.sk-parallel-item {display: flex;flex-direction: column;z-index: 1;position: relative;background-color: white;}#sk-container-id-1 div.sk-parallel-item:first-child::after {align-self: flex-end;width: 50%;}#sk-container-id-1 div.sk-parallel-item:last-child::after {align-self: flex-start;width: 50%;}#sk-container-id-1 div.sk-parallel-item:only-child::after {width: 0;}#sk-container-id-1 div.sk-dashed-wrapped {border: 1px dashed gray;margin: 0 0.4em 0.5em 0.4em;box-sizing: border-box;padding-bottom: 0.4em;background-color: white;}#sk-container-id-1 div.sk-label label {font-family: monospace;font-weight: bold;display: inline-block;line-height: 1.2em;}#sk-container-id-1 div.sk-label-container {text-align: center;}#sk-container-id-1 div.sk-container {/* jupyter's `normalize.less` sets `[hidden] { display: none; }` but bootstrap.min.css set `[hidden] { display: none !important; }` so we also need the `!important` here to be able to override the default hidden behavior on the sphinx rendered scikit-learn.org. See: https://github.com/scikit-learn/scikit-learn/issues/21755 */display: inline-block !important;position: relative;}#sk-container-id-1 div.sk-text-repr-fallback {display: none;}</style><div id=\"sk-container-id-1\" class=\"sk-top-container\"><div class=\"sk-text-repr-fallback\"><pre>GridSearchCV(cv=5,\n",
       "             estimator=Pipeline(steps=[(&#x27;ss&#x27;, StandardScaler()),\n",
       "                                       (&#x27;pca&#x27;, PCA(n_components=3)),\n",
       "                                       (&#x27;lr&#x27;, LinearRegression())]),\n",
       "             param_grid={&#x27;ss__with_mean&#x27;: [True, False],\n",
       "                         &#x27;ss__with_std&#x27;: [True, False]},\n",
       "             verbose=1)</pre><b>In a Jupyter environment, please rerun this cell to show the HTML representation or trust the notebook. <br />On GitHub, the HTML representation is unable to render, please try loading this page with nbviewer.org.</b></div><div class=\"sk-container\" hidden><div class=\"sk-item sk-dashed-wrapped\"><div class=\"sk-label-container\"><div class=\"sk-label sk-toggleable\"><input class=\"sk-toggleable__control sk-hidden--visually\" id=\"sk-estimator-id-1\" type=\"checkbox\" ><label for=\"sk-estimator-id-1\" class=\"sk-toggleable__label sk-toggleable__label-arrow\">GridSearchCV</label><div class=\"sk-toggleable__content\"><pre>GridSearchCV(cv=5,\n",
       "             estimator=Pipeline(steps=[(&#x27;ss&#x27;, StandardScaler()),\n",
       "                                       (&#x27;pca&#x27;, PCA(n_components=3)),\n",
       "                                       (&#x27;lr&#x27;, LinearRegression())]),\n",
       "             param_grid={&#x27;ss__with_mean&#x27;: [True, False],\n",
       "                         &#x27;ss__with_std&#x27;: [True, False]},\n",
       "             verbose=1)</pre></div></div></div><div class=\"sk-parallel\"><div class=\"sk-parallel-item\"><div class=\"sk-item\"><div class=\"sk-label-container\"><div class=\"sk-label sk-toggleable\"><input class=\"sk-toggleable__control sk-hidden--visually\" id=\"sk-estimator-id-2\" type=\"checkbox\" ><label for=\"sk-estimator-id-2\" class=\"sk-toggleable__label sk-toggleable__label-arrow\">estimator: Pipeline</label><div class=\"sk-toggleable__content\"><pre>Pipeline(steps=[(&#x27;ss&#x27;, StandardScaler()), (&#x27;pca&#x27;, PCA(n_components=3)),\n",
       "                (&#x27;lr&#x27;, LinearRegression())])</pre></div></div></div><div class=\"sk-serial\"><div class=\"sk-item\"><div class=\"sk-serial\"><div class=\"sk-item\"><div class=\"sk-estimator sk-toggleable\"><input class=\"sk-toggleable__control sk-hidden--visually\" id=\"sk-estimator-id-3\" type=\"checkbox\" ><label for=\"sk-estimator-id-3\" class=\"sk-toggleable__label sk-toggleable__label-arrow\">StandardScaler</label><div class=\"sk-toggleable__content\"><pre>StandardScaler()</pre></div></div></div><div class=\"sk-item\"><div class=\"sk-estimator sk-toggleable\"><input class=\"sk-toggleable__control sk-hidden--visually\" id=\"sk-estimator-id-4\" type=\"checkbox\" ><label for=\"sk-estimator-id-4\" class=\"sk-toggleable__label sk-toggleable__label-arrow\">PCA</label><div class=\"sk-toggleable__content\"><pre>PCA(n_components=3)</pre></div></div></div><div class=\"sk-item\"><div class=\"sk-estimator sk-toggleable\"><input class=\"sk-toggleable__control sk-hidden--visually\" id=\"sk-estimator-id-5\" type=\"checkbox\" ><label for=\"sk-estimator-id-5\" class=\"sk-toggleable__label sk-toggleable__label-arrow\">LinearRegression</label><div class=\"sk-toggleable__content\"><pre>LinearRegression()</pre></div></div></div></div></div></div></div></div></div></div></div></div>"
      ],
      "text/plain": [
       "GridSearchCV(cv=5,\n",
       "             estimator=Pipeline(steps=[('ss', StandardScaler()),\n",
       "                                       ('pca', PCA(n_components=3)),\n",
       "                                       ('lr', LinearRegression())]),\n",
       "             param_grid={'ss__with_mean': [True, False],\n",
       "                         'ss__with_std': [True, False]},\n",
       "             verbose=1)"
      ]
     },
     "execution_count": 37,
     "metadata": {},
     "output_type": "execute_result"
    }
   ],
   "source": [
    "pipe_gridsearch.fit(X_train_1, y_train_1)"
   ]
  },
  {
   "cell_type": "code",
   "execution_count": 38,
   "metadata": {},
   "outputs": [
    {
     "name": "stdout",
     "output_type": "stream",
     "text": [
      "R2 train: 0.574\n",
      "R2 valid: 0.641\n",
      "parameters: Pipeline(steps=[('ss', StandardScaler(with_mean=False)),\n",
      "                ('pca', PCA(n_components=3)), ('lr', LinearRegression())])\n"
     ]
    }
   ],
   "source": [
    "print(f'R2 train: {round(pipe_gridsearch.best_score_,3)}')\n",
    "print(f'R2 valid: {round(pipe_gridsearch.score(X_valid_1, y_valid_1),3)}')\n",
    "print(f'parameters: {pipe_gridsearch.best_estimator_}')"
   ]
  },
  {
   "cell_type": "code",
   "execution_count": 39,
   "metadata": {},
   "outputs": [
    {
     "name": "stdout",
     "output_type": "stream",
     "text": [
      "RMSE = 0.0668337655991749\n"
     ]
    }
   ],
   "source": [
    "lr_preds = pipe_gridsearch.predict(X_valid_1)\n",
    "model_performance(y_valid_1,lr_preds)"
   ]
  },
  {
   "cell_type": "markdown",
   "metadata": {},
   "source": [
    "**Model_7 (Model_multi)**"
   ]
  },
  {
   "cell_type": "code",
   "execution_count": 40,
   "metadata": {},
   "outputs": [],
   "source": [
    "# Instantiate pipeline object.\n",
    "pipe = Pipeline([\n",
    "    ('ss', StandardScaler()),\n",
    "    ('pca', PCA(n_components=10)),\n",
    "    ('lr', LinearRegression())\n",
    "])"
   ]
  },
  {
   "cell_type": "code",
   "execution_count": 41,
   "metadata": {},
   "outputs": [],
   "source": [
    "# Define dictionary of hyperparameters.\n",
    "pipe_params = {'ss__with_mean': [True, False], \n",
    "                 'ss__with_std': [True, False]}"
   ]
  },
  {
   "cell_type": "code",
   "execution_count": 42,
   "metadata": {},
   "outputs": [],
   "source": [
    "# Instantiate our GridSearchCV object.\n",
    "pipe_gridsearch = GridSearchCV(pipe, \n",
    "                                 pipe_params, \n",
    "                                 cv=5, \n",
    "                                 verbose=1)"
   ]
  },
  {
   "cell_type": "code",
   "execution_count": 43,
   "metadata": {},
   "outputs": [
    {
     "name": "stdout",
     "output_type": "stream",
     "text": [
      "Fitting 5 folds for each of 4 candidates, totalling 20 fits\n"
     ]
    },
    {
     "data": {
      "text/html": [
       "<style>#sk-container-id-2 {color: black;background-color: white;}#sk-container-id-2 pre{padding: 0;}#sk-container-id-2 div.sk-toggleable {background-color: white;}#sk-container-id-2 label.sk-toggleable__label {cursor: pointer;display: block;width: 100%;margin-bottom: 0;padding: 0.3em;box-sizing: border-box;text-align: center;}#sk-container-id-2 label.sk-toggleable__label-arrow:before {content: \"▸\";float: left;margin-right: 0.25em;color: #696969;}#sk-container-id-2 label.sk-toggleable__label-arrow:hover:before {color: black;}#sk-container-id-2 div.sk-estimator:hover label.sk-toggleable__label-arrow:before {color: black;}#sk-container-id-2 div.sk-toggleable__content {max-height: 0;max-width: 0;overflow: hidden;text-align: left;background-color: #f0f8ff;}#sk-container-id-2 div.sk-toggleable__content pre {margin: 0.2em;color: black;border-radius: 0.25em;background-color: #f0f8ff;}#sk-container-id-2 input.sk-toggleable__control:checked~div.sk-toggleable__content {max-height: 200px;max-width: 100%;overflow: auto;}#sk-container-id-2 input.sk-toggleable__control:checked~label.sk-toggleable__label-arrow:before {content: \"▾\";}#sk-container-id-2 div.sk-estimator input.sk-toggleable__control:checked~label.sk-toggleable__label {background-color: #d4ebff;}#sk-container-id-2 div.sk-label input.sk-toggleable__control:checked~label.sk-toggleable__label {background-color: #d4ebff;}#sk-container-id-2 input.sk-hidden--visually {border: 0;clip: rect(1px 1px 1px 1px);clip: rect(1px, 1px, 1px, 1px);height: 1px;margin: -1px;overflow: hidden;padding: 0;position: absolute;width: 1px;}#sk-container-id-2 div.sk-estimator {font-family: monospace;background-color: #f0f8ff;border: 1px dotted black;border-radius: 0.25em;box-sizing: border-box;margin-bottom: 0.5em;}#sk-container-id-2 div.sk-estimator:hover {background-color: #d4ebff;}#sk-container-id-2 div.sk-parallel-item::after {content: \"\";width: 100%;border-bottom: 1px solid gray;flex-grow: 1;}#sk-container-id-2 div.sk-label:hover label.sk-toggleable__label {background-color: #d4ebff;}#sk-container-id-2 div.sk-serial::before {content: \"\";position: absolute;border-left: 1px solid gray;box-sizing: border-box;top: 0;bottom: 0;left: 50%;z-index: 0;}#sk-container-id-2 div.sk-serial {display: flex;flex-direction: column;align-items: center;background-color: white;padding-right: 0.2em;padding-left: 0.2em;position: relative;}#sk-container-id-2 div.sk-item {position: relative;z-index: 1;}#sk-container-id-2 div.sk-parallel {display: flex;align-items: stretch;justify-content: center;background-color: white;position: relative;}#sk-container-id-2 div.sk-item::before, #sk-container-id-2 div.sk-parallel-item::before {content: \"\";position: absolute;border-left: 1px solid gray;box-sizing: border-box;top: 0;bottom: 0;left: 50%;z-index: -1;}#sk-container-id-2 div.sk-parallel-item {display: flex;flex-direction: column;z-index: 1;position: relative;background-color: white;}#sk-container-id-2 div.sk-parallel-item:first-child::after {align-self: flex-end;width: 50%;}#sk-container-id-2 div.sk-parallel-item:last-child::after {align-self: flex-start;width: 50%;}#sk-container-id-2 div.sk-parallel-item:only-child::after {width: 0;}#sk-container-id-2 div.sk-dashed-wrapped {border: 1px dashed gray;margin: 0 0.4em 0.5em 0.4em;box-sizing: border-box;padding-bottom: 0.4em;background-color: white;}#sk-container-id-2 div.sk-label label {font-family: monospace;font-weight: bold;display: inline-block;line-height: 1.2em;}#sk-container-id-2 div.sk-label-container {text-align: center;}#sk-container-id-2 div.sk-container {/* jupyter's `normalize.less` sets `[hidden] { display: none; }` but bootstrap.min.css set `[hidden] { display: none !important; }` so we also need the `!important` here to be able to override the default hidden behavior on the sphinx rendered scikit-learn.org. See: https://github.com/scikit-learn/scikit-learn/issues/21755 */display: inline-block !important;position: relative;}#sk-container-id-2 div.sk-text-repr-fallback {display: none;}</style><div id=\"sk-container-id-2\" class=\"sk-top-container\"><div class=\"sk-text-repr-fallback\"><pre>GridSearchCV(cv=5,\n",
       "             estimator=Pipeline(steps=[(&#x27;ss&#x27;, StandardScaler()),\n",
       "                                       (&#x27;pca&#x27;, PCA(n_components=10)),\n",
       "                                       (&#x27;lr&#x27;, LinearRegression())]),\n",
       "             param_grid={&#x27;ss__with_mean&#x27;: [True, False],\n",
       "                         &#x27;ss__with_std&#x27;: [True, False]},\n",
       "             verbose=1)</pre><b>In a Jupyter environment, please rerun this cell to show the HTML representation or trust the notebook. <br />On GitHub, the HTML representation is unable to render, please try loading this page with nbviewer.org.</b></div><div class=\"sk-container\" hidden><div class=\"sk-item sk-dashed-wrapped\"><div class=\"sk-label-container\"><div class=\"sk-label sk-toggleable\"><input class=\"sk-toggleable__control sk-hidden--visually\" id=\"sk-estimator-id-6\" type=\"checkbox\" ><label for=\"sk-estimator-id-6\" class=\"sk-toggleable__label sk-toggleable__label-arrow\">GridSearchCV</label><div class=\"sk-toggleable__content\"><pre>GridSearchCV(cv=5,\n",
       "             estimator=Pipeline(steps=[(&#x27;ss&#x27;, StandardScaler()),\n",
       "                                       (&#x27;pca&#x27;, PCA(n_components=10)),\n",
       "                                       (&#x27;lr&#x27;, LinearRegression())]),\n",
       "             param_grid={&#x27;ss__with_mean&#x27;: [True, False],\n",
       "                         &#x27;ss__with_std&#x27;: [True, False]},\n",
       "             verbose=1)</pre></div></div></div><div class=\"sk-parallel\"><div class=\"sk-parallel-item\"><div class=\"sk-item\"><div class=\"sk-label-container\"><div class=\"sk-label sk-toggleable\"><input class=\"sk-toggleable__control sk-hidden--visually\" id=\"sk-estimator-id-7\" type=\"checkbox\" ><label for=\"sk-estimator-id-7\" class=\"sk-toggleable__label sk-toggleable__label-arrow\">estimator: Pipeline</label><div class=\"sk-toggleable__content\"><pre>Pipeline(steps=[(&#x27;ss&#x27;, StandardScaler()), (&#x27;pca&#x27;, PCA(n_components=10)),\n",
       "                (&#x27;lr&#x27;, LinearRegression())])</pre></div></div></div><div class=\"sk-serial\"><div class=\"sk-item\"><div class=\"sk-serial\"><div class=\"sk-item\"><div class=\"sk-estimator sk-toggleable\"><input class=\"sk-toggleable__control sk-hidden--visually\" id=\"sk-estimator-id-8\" type=\"checkbox\" ><label for=\"sk-estimator-id-8\" class=\"sk-toggleable__label sk-toggleable__label-arrow\">StandardScaler</label><div class=\"sk-toggleable__content\"><pre>StandardScaler()</pre></div></div></div><div class=\"sk-item\"><div class=\"sk-estimator sk-toggleable\"><input class=\"sk-toggleable__control sk-hidden--visually\" id=\"sk-estimator-id-9\" type=\"checkbox\" ><label for=\"sk-estimator-id-9\" class=\"sk-toggleable__label sk-toggleable__label-arrow\">PCA</label><div class=\"sk-toggleable__content\"><pre>PCA(n_components=10)</pre></div></div></div><div class=\"sk-item\"><div class=\"sk-estimator sk-toggleable\"><input class=\"sk-toggleable__control sk-hidden--visually\" id=\"sk-estimator-id-10\" type=\"checkbox\" ><label for=\"sk-estimator-id-10\" class=\"sk-toggleable__label sk-toggleable__label-arrow\">LinearRegression</label><div class=\"sk-toggleable__content\"><pre>LinearRegression()</pre></div></div></div></div></div></div></div></div></div></div></div></div>"
      ],
      "text/plain": [
       "GridSearchCV(cv=5,\n",
       "             estimator=Pipeline(steps=[('ss', StandardScaler()),\n",
       "                                       ('pca', PCA(n_components=10)),\n",
       "                                       ('lr', LinearRegression())]),\n",
       "             param_grid={'ss__with_mean': [True, False],\n",
       "                         'ss__with_std': [True, False]},\n",
       "             verbose=1)"
      ]
     },
     "execution_count": 43,
     "metadata": {},
     "output_type": "execute_result"
    }
   ],
   "source": [
    "pipe_gridsearch.fit(X_train_multi, y_train_multi)"
   ]
  },
  {
   "cell_type": "code",
   "execution_count": 44,
   "metadata": {},
   "outputs": [
    {
     "name": "stdout",
     "output_type": "stream",
     "text": [
      "R2 train: 0.576\n",
      "R2 valid: 0.784\n",
      "parameters: Pipeline(steps=[('ss', StandardScaler(with_mean=False)),\n",
      "                ('pca', PCA(n_components=10)), ('lr', LinearRegression())])\n"
     ]
    }
   ],
   "source": [
    "print(f'R2 train: {round(pipe_gridsearch.best_score_,3)}')\n",
    "print(f'R2 valid: {round(pipe_gridsearch.score(X_valid_multi, y_valid_multi),3)}')\n",
    "print(f'parameters: {pipe_gridsearch.best_estimator_}')"
   ]
  },
  {
   "cell_type": "code",
   "execution_count": 45,
   "metadata": {},
   "outputs": [
    {
     "name": "stdout",
     "output_type": "stream",
     "text": [
      "RMSE = 0.05286716227760088\n"
     ]
    }
   ],
   "source": [
    "lr_preds = pipe_gridsearch.predict(X_valid_multi)\n",
    "model_performance(y_valid_multi,lr_preds)"
   ]
  },
  {
   "cell_type": "markdown",
   "metadata": {},
   "source": [
    "### 4.3.2 Model_2 to Model_6 (Model_exec)"
   ]
  },
  {
   "cell_type": "code",
   "execution_count": 46,
   "metadata": {},
   "outputs": [],
   "source": [
    "# Instantiate pipeline object.\n",
    "pipe = Pipeline([\n",
    "    ('ss', StandardScaler()),\n",
    "    ('pca', PCA(n_components='mle')),\n",
    "    ('lr', LinearRegression())\n",
    "])"
   ]
  },
  {
   "cell_type": "code",
   "execution_count": 47,
   "metadata": {},
   "outputs": [],
   "source": [
    "# Define dictionary of hyperparameters.\n",
    "pipe_params = {'ss__with_mean': [True, False], \n",
    "                 'ss__with_std': [True, False]}"
   ]
  },
  {
   "cell_type": "code",
   "execution_count": 48,
   "metadata": {},
   "outputs": [],
   "source": [
    "# Instantiate our GridSearchCV object.\n",
    "pipe_gridsearch = GridSearchCV(pipe, \n",
    "                                 pipe_params, \n",
    "                                 cv=5, \n",
    "                                 verbose=1)"
   ]
  },
  {
   "cell_type": "code",
   "execution_count": 49,
   "metadata": {},
   "outputs": [
    {
     "name": "stdout",
     "output_type": "stream",
     "text": [
      "LinearRegression for Model_2\n",
      "Fitting 5 folds for each of 4 candidates, totalling 20 fits\n",
      "R2 train: 0.692\n",
      "R2 valid: 0.694\n",
      "parameters: Pipeline(steps=[('ss', StandardScaler()), ('pca', PCA(n_components='mle')),\n",
      "                ('lr', LinearRegression())])\n",
      "RMSE = 0.0731302034883373\n",
      "\n",
      "LinearRegression for Model_3\n",
      "Fitting 5 folds for each of 4 candidates, totalling 20 fits\n",
      "R2 train: 0.798\n",
      "R2 valid: 0.785\n",
      "parameters: Pipeline(steps=[('ss', StandardScaler()), ('pca', PCA(n_components='mle')),\n",
      "                ('lr', LinearRegression())])\n",
      "RMSE = 0.08616088794358846\n",
      "\n",
      "LinearRegression for Model_4\n",
      "Fitting 5 folds for each of 4 candidates, totalling 20 fits\n",
      "R2 train: 0.873\n",
      "R2 valid: 0.872\n",
      "parameters: Pipeline(steps=[('ss', StandardScaler()), ('pca', PCA(n_components='mle')),\n",
      "                ('lr', LinearRegression())])\n",
      "RMSE = 0.07958839478660401\n",
      "\n",
      "LinearRegression for Model_5\n",
      "Fitting 5 folds for each of 4 candidates, totalling 20 fits\n",
      "R2 train: 0.872\n",
      "R2 valid: 0.87\n",
      "parameters: Pipeline(steps=[('ss', StandardScaler()), ('pca', PCA(n_components='mle')),\n",
      "                ('lr', LinearRegression())])\n",
      "RMSE = 0.08074252934042746\n",
      "\n",
      "LinearRegression for Model_6\n",
      "Fitting 5 folds for each of 4 candidates, totalling 20 fits\n",
      "R2 train: 0.795\n",
      "R2 valid: 0.8\n",
      "parameters: Pipeline(steps=[('ss', StandardScaler()), ('pca', PCA(n_components='mle')),\n",
      "                ('lr', LinearRegression())])\n",
      "RMSE = 0.07392927570673932\n",
      "\n"
     ]
    }
   ],
   "source": [
    "i = 1\n",
    "for X_train, y_train, X_valid, y_valid in zip(X_train_list,y_train_list,X_valid_list,y_valid_list):\n",
    "    print(f'LinearRegression for Model_{i+1}')\n",
    "    pipe_gridsearch.fit(X_train, y_train)\n",
    "    print(f'R2 train: {round(pipe_gridsearch.best_score_,3)}')\n",
    "    print(f'R2 valid: {round(pipe_gridsearch.score(X_valid, y_valid),3)}')\n",
    "    print(f'parameters: {pipe_gridsearch.best_estimator_}')\n",
    "    lr_preds = pipe_gridsearch.predict(X_valid)\n",
    "    model_performance(y_valid,lr_preds)\n",
    "    print('')\n",
    "    i +=1 "
   ]
  },
  {
   "cell_type": "markdown",
   "metadata": {},
   "source": [
    "Note: Model_6 is Model_exec"
   ]
  },
  {
   "cell_type": "markdown",
   "metadata": {},
   "source": [
    "**Noted that Model_3 and Model_5 have a bit overfit, we use Ridge/LASSO to further improve the model.**"
   ]
  },
  {
   "cell_type": "markdown",
   "metadata": {},
   "source": [
    "## 4.4 Ridge Regression"
   ]
  },
  {
   "cell_type": "markdown",
   "metadata": {},
   "source": [
    "**Model_3**"
   ]
  },
  {
   "cell_type": "code",
   "execution_count": 50,
   "metadata": {},
   "outputs": [],
   "source": [
    "# Instantiate pipeline object.\n",
    "pipe_3 = Pipeline([\n",
    "    ('ss', StandardScaler()),\n",
    "    ('pca', PCA(n_components='mle')),\n",
    "    ('ridge', RidgeCV())\n",
    "])"
   ]
  },
  {
   "cell_type": "code",
   "execution_count": 51,
   "metadata": {},
   "outputs": [],
   "source": [
    "# Define dictionary of hyperparameters.\n",
    "pipe_3_params = {'ss__with_mean': [True, False], \n",
    "                 'ss__with_std': [True, False],\n",
    "                 'ridge__alphas': np.logspace(-1, 0, 10)}"
   ]
  },
  {
   "cell_type": "code",
   "execution_count": 52,
   "metadata": {},
   "outputs": [],
   "source": [
    "# Instantiate our GridSearchCV object.\n",
    "pipe_3_gridsearch = GridSearchCV(pipe_3, \n",
    "                                 pipe_3_params, \n",
    "                                 cv=5, \n",
    "                                 verbose=1)"
   ]
  },
  {
   "cell_type": "code",
   "execution_count": 53,
   "metadata": {},
   "outputs": [
    {
     "name": "stdout",
     "output_type": "stream",
     "text": [
      "Fitting 5 folds for each of 40 candidates, totalling 200 fits\n"
     ]
    },
    {
     "data": {
      "text/html": [
       "<style>#sk-container-id-3 {color: black;background-color: white;}#sk-container-id-3 pre{padding: 0;}#sk-container-id-3 div.sk-toggleable {background-color: white;}#sk-container-id-3 label.sk-toggleable__label {cursor: pointer;display: block;width: 100%;margin-bottom: 0;padding: 0.3em;box-sizing: border-box;text-align: center;}#sk-container-id-3 label.sk-toggleable__label-arrow:before {content: \"▸\";float: left;margin-right: 0.25em;color: #696969;}#sk-container-id-3 label.sk-toggleable__label-arrow:hover:before {color: black;}#sk-container-id-3 div.sk-estimator:hover label.sk-toggleable__label-arrow:before {color: black;}#sk-container-id-3 div.sk-toggleable__content {max-height: 0;max-width: 0;overflow: hidden;text-align: left;background-color: #f0f8ff;}#sk-container-id-3 div.sk-toggleable__content pre {margin: 0.2em;color: black;border-radius: 0.25em;background-color: #f0f8ff;}#sk-container-id-3 input.sk-toggleable__control:checked~div.sk-toggleable__content {max-height: 200px;max-width: 100%;overflow: auto;}#sk-container-id-3 input.sk-toggleable__control:checked~label.sk-toggleable__label-arrow:before {content: \"▾\";}#sk-container-id-3 div.sk-estimator input.sk-toggleable__control:checked~label.sk-toggleable__label {background-color: #d4ebff;}#sk-container-id-3 div.sk-label input.sk-toggleable__control:checked~label.sk-toggleable__label {background-color: #d4ebff;}#sk-container-id-3 input.sk-hidden--visually {border: 0;clip: rect(1px 1px 1px 1px);clip: rect(1px, 1px, 1px, 1px);height: 1px;margin: -1px;overflow: hidden;padding: 0;position: absolute;width: 1px;}#sk-container-id-3 div.sk-estimator {font-family: monospace;background-color: #f0f8ff;border: 1px dotted black;border-radius: 0.25em;box-sizing: border-box;margin-bottom: 0.5em;}#sk-container-id-3 div.sk-estimator:hover {background-color: #d4ebff;}#sk-container-id-3 div.sk-parallel-item::after {content: \"\";width: 100%;border-bottom: 1px solid gray;flex-grow: 1;}#sk-container-id-3 div.sk-label:hover label.sk-toggleable__label {background-color: #d4ebff;}#sk-container-id-3 div.sk-serial::before {content: \"\";position: absolute;border-left: 1px solid gray;box-sizing: border-box;top: 0;bottom: 0;left: 50%;z-index: 0;}#sk-container-id-3 div.sk-serial {display: flex;flex-direction: column;align-items: center;background-color: white;padding-right: 0.2em;padding-left: 0.2em;position: relative;}#sk-container-id-3 div.sk-item {position: relative;z-index: 1;}#sk-container-id-3 div.sk-parallel {display: flex;align-items: stretch;justify-content: center;background-color: white;position: relative;}#sk-container-id-3 div.sk-item::before, #sk-container-id-3 div.sk-parallel-item::before {content: \"\";position: absolute;border-left: 1px solid gray;box-sizing: border-box;top: 0;bottom: 0;left: 50%;z-index: -1;}#sk-container-id-3 div.sk-parallel-item {display: flex;flex-direction: column;z-index: 1;position: relative;background-color: white;}#sk-container-id-3 div.sk-parallel-item:first-child::after {align-self: flex-end;width: 50%;}#sk-container-id-3 div.sk-parallel-item:last-child::after {align-self: flex-start;width: 50%;}#sk-container-id-3 div.sk-parallel-item:only-child::after {width: 0;}#sk-container-id-3 div.sk-dashed-wrapped {border: 1px dashed gray;margin: 0 0.4em 0.5em 0.4em;box-sizing: border-box;padding-bottom: 0.4em;background-color: white;}#sk-container-id-3 div.sk-label label {font-family: monospace;font-weight: bold;display: inline-block;line-height: 1.2em;}#sk-container-id-3 div.sk-label-container {text-align: center;}#sk-container-id-3 div.sk-container {/* jupyter's `normalize.less` sets `[hidden] { display: none; }` but bootstrap.min.css set `[hidden] { display: none !important; }` so we also need the `!important` here to be able to override the default hidden behavior on the sphinx rendered scikit-learn.org. See: https://github.com/scikit-learn/scikit-learn/issues/21755 */display: inline-block !important;position: relative;}#sk-container-id-3 div.sk-text-repr-fallback {display: none;}</style><div id=\"sk-container-id-3\" class=\"sk-top-container\"><div class=\"sk-text-repr-fallback\"><pre>GridSearchCV(cv=5,\n",
       "             estimator=Pipeline(steps=[(&#x27;ss&#x27;, StandardScaler()),\n",
       "                                       (&#x27;pca&#x27;, PCA(n_components=&#x27;mle&#x27;)),\n",
       "                                       (&#x27;ridge&#x27;, RidgeCV())]),\n",
       "             param_grid={&#x27;ridge__alphas&#x27;: array([0.1       , 0.12915497, 0.16681005, 0.21544347, 0.27825594,\n",
       "       0.35938137, 0.46415888, 0.59948425, 0.77426368, 1.        ]),\n",
       "                         &#x27;ss__with_mean&#x27;: [True, False],\n",
       "                         &#x27;ss__with_std&#x27;: [True, False]},\n",
       "             verbose=1)</pre><b>In a Jupyter environment, please rerun this cell to show the HTML representation or trust the notebook. <br />On GitHub, the HTML representation is unable to render, please try loading this page with nbviewer.org.</b></div><div class=\"sk-container\" hidden><div class=\"sk-item sk-dashed-wrapped\"><div class=\"sk-label-container\"><div class=\"sk-label sk-toggleable\"><input class=\"sk-toggleable__control sk-hidden--visually\" id=\"sk-estimator-id-11\" type=\"checkbox\" ><label for=\"sk-estimator-id-11\" class=\"sk-toggleable__label sk-toggleable__label-arrow\">GridSearchCV</label><div class=\"sk-toggleable__content\"><pre>GridSearchCV(cv=5,\n",
       "             estimator=Pipeline(steps=[(&#x27;ss&#x27;, StandardScaler()),\n",
       "                                       (&#x27;pca&#x27;, PCA(n_components=&#x27;mle&#x27;)),\n",
       "                                       (&#x27;ridge&#x27;, RidgeCV())]),\n",
       "             param_grid={&#x27;ridge__alphas&#x27;: array([0.1       , 0.12915497, 0.16681005, 0.21544347, 0.27825594,\n",
       "       0.35938137, 0.46415888, 0.59948425, 0.77426368, 1.        ]),\n",
       "                         &#x27;ss__with_mean&#x27;: [True, False],\n",
       "                         &#x27;ss__with_std&#x27;: [True, False]},\n",
       "             verbose=1)</pre></div></div></div><div class=\"sk-parallel\"><div class=\"sk-parallel-item\"><div class=\"sk-item\"><div class=\"sk-label-container\"><div class=\"sk-label sk-toggleable\"><input class=\"sk-toggleable__control sk-hidden--visually\" id=\"sk-estimator-id-12\" type=\"checkbox\" ><label for=\"sk-estimator-id-12\" class=\"sk-toggleable__label sk-toggleable__label-arrow\">estimator: Pipeline</label><div class=\"sk-toggleable__content\"><pre>Pipeline(steps=[(&#x27;ss&#x27;, StandardScaler()), (&#x27;pca&#x27;, PCA(n_components=&#x27;mle&#x27;)),\n",
       "                (&#x27;ridge&#x27;, RidgeCV())])</pre></div></div></div><div class=\"sk-serial\"><div class=\"sk-item\"><div class=\"sk-serial\"><div class=\"sk-item\"><div class=\"sk-estimator sk-toggleable\"><input class=\"sk-toggleable__control sk-hidden--visually\" id=\"sk-estimator-id-13\" type=\"checkbox\" ><label for=\"sk-estimator-id-13\" class=\"sk-toggleable__label sk-toggleable__label-arrow\">StandardScaler</label><div class=\"sk-toggleable__content\"><pre>StandardScaler()</pre></div></div></div><div class=\"sk-item\"><div class=\"sk-estimator sk-toggleable\"><input class=\"sk-toggleable__control sk-hidden--visually\" id=\"sk-estimator-id-14\" type=\"checkbox\" ><label for=\"sk-estimator-id-14\" class=\"sk-toggleable__label sk-toggleable__label-arrow\">PCA</label><div class=\"sk-toggleable__content\"><pre>PCA(n_components=&#x27;mle&#x27;)</pre></div></div></div><div class=\"sk-item\"><div class=\"sk-estimator sk-toggleable\"><input class=\"sk-toggleable__control sk-hidden--visually\" id=\"sk-estimator-id-15\" type=\"checkbox\" ><label for=\"sk-estimator-id-15\" class=\"sk-toggleable__label sk-toggleable__label-arrow\">RidgeCV</label><div class=\"sk-toggleable__content\"><pre>RidgeCV()</pre></div></div></div></div></div></div></div></div></div></div></div></div>"
      ],
      "text/plain": [
       "GridSearchCV(cv=5,\n",
       "             estimator=Pipeline(steps=[('ss', StandardScaler()),\n",
       "                                       ('pca', PCA(n_components='mle')),\n",
       "                                       ('ridge', RidgeCV())]),\n",
       "             param_grid={'ridge__alphas': array([0.1       , 0.12915497, 0.16681005, 0.21544347, 0.27825594,\n",
       "       0.35938137, 0.46415888, 0.59948425, 0.77426368, 1.        ]),\n",
       "                         'ss__with_mean': [True, False],\n",
       "                         'ss__with_std': [True, False]},\n",
       "             verbose=1)"
      ]
     },
     "execution_count": 53,
     "metadata": {},
     "output_type": "execute_result"
    }
   ],
   "source": [
    "pipe_3_gridsearch.fit(X_train_3, y_train_3)"
   ]
  },
  {
   "cell_type": "code",
   "execution_count": 54,
   "metadata": {},
   "outputs": [
    {
     "name": "stdout",
     "output_type": "stream",
     "text": [
      "R2 train: 0.797912259449711\n",
      "R2 valid: 0.7851994619018406\n",
      "parameters: Pipeline(steps=[('ss', StandardScaler(with_mean=False, with_std=False)),\n",
      "                ('pca', PCA(n_components='mle')),\n",
      "                ('ridge', RidgeCV(alphas=0.774263682681127))])\n"
     ]
    }
   ],
   "source": [
    "print(f'R2 train: {pipe_3_gridsearch.best_score_}')\n",
    "print(f'R2 valid: {pipe_3_gridsearch.score(X_valid_3, y_valid_3)}')\n",
    "print(f'parameters: {pipe_3_gridsearch.best_estimator_}')"
   ]
  },
  {
   "cell_type": "code",
   "execution_count": 55,
   "metadata": {},
   "outputs": [
    {
     "name": "stdout",
     "output_type": "stream",
     "text": [
      "RMSE = 0.08615994142206218\n"
     ]
    }
   ],
   "source": [
    "ridge_preds = pipe_3_gridsearch.predict(X_valid_3)\n",
    "model_performance(y_valid_3,ridge_preds)"
   ]
  },
  {
   "cell_type": "markdown",
   "metadata": {},
   "source": [
    "**Model_5**"
   ]
  },
  {
   "cell_type": "code",
   "execution_count": 56,
   "metadata": {},
   "outputs": [],
   "source": [
    "# Instantiate pipeline object.\n",
    "pipe_5 = Pipeline([\n",
    "    ('ss', StandardScaler()),\n",
    "    ('pca', PCA(n_components='mle')),\n",
    "    ('ridge', RidgeCV())\n",
    "])"
   ]
  },
  {
   "cell_type": "code",
   "execution_count": 57,
   "metadata": {},
   "outputs": [],
   "source": [
    "# Define dictionary of hyperparameters.\n",
    "pipe_5_params = {'ss__with_mean': [True, False], \n",
    "                 'ss__with_std': [True, False],\n",
    "                 'ridge__alphas': np.logspace(0, 1, 10)}"
   ]
  },
  {
   "cell_type": "code",
   "execution_count": 58,
   "metadata": {},
   "outputs": [],
   "source": [
    "# Instantiate our GridSearchCV object.\n",
    "pipe_5_gridsearch = GridSearchCV(pipe_5, \n",
    "                                 pipe_5_params, \n",
    "                                 cv=5, \n",
    "                                 verbose=1)"
   ]
  },
  {
   "cell_type": "code",
   "execution_count": 59,
   "metadata": {},
   "outputs": [
    {
     "name": "stdout",
     "output_type": "stream",
     "text": [
      "Fitting 5 folds for each of 40 candidates, totalling 200 fits\n"
     ]
    },
    {
     "data": {
      "text/html": [
       "<style>#sk-container-id-4 {color: black;background-color: white;}#sk-container-id-4 pre{padding: 0;}#sk-container-id-4 div.sk-toggleable {background-color: white;}#sk-container-id-4 label.sk-toggleable__label {cursor: pointer;display: block;width: 100%;margin-bottom: 0;padding: 0.3em;box-sizing: border-box;text-align: center;}#sk-container-id-4 label.sk-toggleable__label-arrow:before {content: \"▸\";float: left;margin-right: 0.25em;color: #696969;}#sk-container-id-4 label.sk-toggleable__label-arrow:hover:before {color: black;}#sk-container-id-4 div.sk-estimator:hover label.sk-toggleable__label-arrow:before {color: black;}#sk-container-id-4 div.sk-toggleable__content {max-height: 0;max-width: 0;overflow: hidden;text-align: left;background-color: #f0f8ff;}#sk-container-id-4 div.sk-toggleable__content pre {margin: 0.2em;color: black;border-radius: 0.25em;background-color: #f0f8ff;}#sk-container-id-4 input.sk-toggleable__control:checked~div.sk-toggleable__content {max-height: 200px;max-width: 100%;overflow: auto;}#sk-container-id-4 input.sk-toggleable__control:checked~label.sk-toggleable__label-arrow:before {content: \"▾\";}#sk-container-id-4 div.sk-estimator input.sk-toggleable__control:checked~label.sk-toggleable__label {background-color: #d4ebff;}#sk-container-id-4 div.sk-label input.sk-toggleable__control:checked~label.sk-toggleable__label {background-color: #d4ebff;}#sk-container-id-4 input.sk-hidden--visually {border: 0;clip: rect(1px 1px 1px 1px);clip: rect(1px, 1px, 1px, 1px);height: 1px;margin: -1px;overflow: hidden;padding: 0;position: absolute;width: 1px;}#sk-container-id-4 div.sk-estimator {font-family: monospace;background-color: #f0f8ff;border: 1px dotted black;border-radius: 0.25em;box-sizing: border-box;margin-bottom: 0.5em;}#sk-container-id-4 div.sk-estimator:hover {background-color: #d4ebff;}#sk-container-id-4 div.sk-parallel-item::after {content: \"\";width: 100%;border-bottom: 1px solid gray;flex-grow: 1;}#sk-container-id-4 div.sk-label:hover label.sk-toggleable__label {background-color: #d4ebff;}#sk-container-id-4 div.sk-serial::before {content: \"\";position: absolute;border-left: 1px solid gray;box-sizing: border-box;top: 0;bottom: 0;left: 50%;z-index: 0;}#sk-container-id-4 div.sk-serial {display: flex;flex-direction: column;align-items: center;background-color: white;padding-right: 0.2em;padding-left: 0.2em;position: relative;}#sk-container-id-4 div.sk-item {position: relative;z-index: 1;}#sk-container-id-4 div.sk-parallel {display: flex;align-items: stretch;justify-content: center;background-color: white;position: relative;}#sk-container-id-4 div.sk-item::before, #sk-container-id-4 div.sk-parallel-item::before {content: \"\";position: absolute;border-left: 1px solid gray;box-sizing: border-box;top: 0;bottom: 0;left: 50%;z-index: -1;}#sk-container-id-4 div.sk-parallel-item {display: flex;flex-direction: column;z-index: 1;position: relative;background-color: white;}#sk-container-id-4 div.sk-parallel-item:first-child::after {align-self: flex-end;width: 50%;}#sk-container-id-4 div.sk-parallel-item:last-child::after {align-self: flex-start;width: 50%;}#sk-container-id-4 div.sk-parallel-item:only-child::after {width: 0;}#sk-container-id-4 div.sk-dashed-wrapped {border: 1px dashed gray;margin: 0 0.4em 0.5em 0.4em;box-sizing: border-box;padding-bottom: 0.4em;background-color: white;}#sk-container-id-4 div.sk-label label {font-family: monospace;font-weight: bold;display: inline-block;line-height: 1.2em;}#sk-container-id-4 div.sk-label-container {text-align: center;}#sk-container-id-4 div.sk-container {/* jupyter's `normalize.less` sets `[hidden] { display: none; }` but bootstrap.min.css set `[hidden] { display: none !important; }` so we also need the `!important` here to be able to override the default hidden behavior on the sphinx rendered scikit-learn.org. See: https://github.com/scikit-learn/scikit-learn/issues/21755 */display: inline-block !important;position: relative;}#sk-container-id-4 div.sk-text-repr-fallback {display: none;}</style><div id=\"sk-container-id-4\" class=\"sk-top-container\"><div class=\"sk-text-repr-fallback\"><pre>GridSearchCV(cv=5,\n",
       "             estimator=Pipeline(steps=[(&#x27;ss&#x27;, StandardScaler()),\n",
       "                                       (&#x27;pca&#x27;, PCA(n_components=&#x27;mle&#x27;)),\n",
       "                                       (&#x27;ridge&#x27;, RidgeCV())]),\n",
       "             param_grid={&#x27;ridge__alphas&#x27;: array([ 1.        ,  1.29154967,  1.66810054,  2.15443469,  2.7825594 ,\n",
       "        3.59381366,  4.64158883,  5.9948425 ,  7.74263683, 10.        ]),\n",
       "                         &#x27;ss__with_mean&#x27;: [True, False],\n",
       "                         &#x27;ss__with_std&#x27;: [True, False]},\n",
       "             verbose=1)</pre><b>In a Jupyter environment, please rerun this cell to show the HTML representation or trust the notebook. <br />On GitHub, the HTML representation is unable to render, please try loading this page with nbviewer.org.</b></div><div class=\"sk-container\" hidden><div class=\"sk-item sk-dashed-wrapped\"><div class=\"sk-label-container\"><div class=\"sk-label sk-toggleable\"><input class=\"sk-toggleable__control sk-hidden--visually\" id=\"sk-estimator-id-16\" type=\"checkbox\" ><label for=\"sk-estimator-id-16\" class=\"sk-toggleable__label sk-toggleable__label-arrow\">GridSearchCV</label><div class=\"sk-toggleable__content\"><pre>GridSearchCV(cv=5,\n",
       "             estimator=Pipeline(steps=[(&#x27;ss&#x27;, StandardScaler()),\n",
       "                                       (&#x27;pca&#x27;, PCA(n_components=&#x27;mle&#x27;)),\n",
       "                                       (&#x27;ridge&#x27;, RidgeCV())]),\n",
       "             param_grid={&#x27;ridge__alphas&#x27;: array([ 1.        ,  1.29154967,  1.66810054,  2.15443469,  2.7825594 ,\n",
       "        3.59381366,  4.64158883,  5.9948425 ,  7.74263683, 10.        ]),\n",
       "                         &#x27;ss__with_mean&#x27;: [True, False],\n",
       "                         &#x27;ss__with_std&#x27;: [True, False]},\n",
       "             verbose=1)</pre></div></div></div><div class=\"sk-parallel\"><div class=\"sk-parallel-item\"><div class=\"sk-item\"><div class=\"sk-label-container\"><div class=\"sk-label sk-toggleable\"><input class=\"sk-toggleable__control sk-hidden--visually\" id=\"sk-estimator-id-17\" type=\"checkbox\" ><label for=\"sk-estimator-id-17\" class=\"sk-toggleable__label sk-toggleable__label-arrow\">estimator: Pipeline</label><div class=\"sk-toggleable__content\"><pre>Pipeline(steps=[(&#x27;ss&#x27;, StandardScaler()), (&#x27;pca&#x27;, PCA(n_components=&#x27;mle&#x27;)),\n",
       "                (&#x27;ridge&#x27;, RidgeCV())])</pre></div></div></div><div class=\"sk-serial\"><div class=\"sk-item\"><div class=\"sk-serial\"><div class=\"sk-item\"><div class=\"sk-estimator sk-toggleable\"><input class=\"sk-toggleable__control sk-hidden--visually\" id=\"sk-estimator-id-18\" type=\"checkbox\" ><label for=\"sk-estimator-id-18\" class=\"sk-toggleable__label sk-toggleable__label-arrow\">StandardScaler</label><div class=\"sk-toggleable__content\"><pre>StandardScaler()</pre></div></div></div><div class=\"sk-item\"><div class=\"sk-estimator sk-toggleable\"><input class=\"sk-toggleable__control sk-hidden--visually\" id=\"sk-estimator-id-19\" type=\"checkbox\" ><label for=\"sk-estimator-id-19\" class=\"sk-toggleable__label sk-toggleable__label-arrow\">PCA</label><div class=\"sk-toggleable__content\"><pre>PCA(n_components=&#x27;mle&#x27;)</pre></div></div></div><div class=\"sk-item\"><div class=\"sk-estimator sk-toggleable\"><input class=\"sk-toggleable__control sk-hidden--visually\" id=\"sk-estimator-id-20\" type=\"checkbox\" ><label for=\"sk-estimator-id-20\" class=\"sk-toggleable__label sk-toggleable__label-arrow\">RidgeCV</label><div class=\"sk-toggleable__content\"><pre>RidgeCV()</pre></div></div></div></div></div></div></div></div></div></div></div></div>"
      ],
      "text/plain": [
       "GridSearchCV(cv=5,\n",
       "             estimator=Pipeline(steps=[('ss', StandardScaler()),\n",
       "                                       ('pca', PCA(n_components='mle')),\n",
       "                                       ('ridge', RidgeCV())]),\n",
       "             param_grid={'ridge__alphas': array([ 1.        ,  1.29154967,  1.66810054,  2.15443469,  2.7825594 ,\n",
       "        3.59381366,  4.64158883,  5.9948425 ,  7.74263683, 10.        ]),\n",
       "                         'ss__with_mean': [True, False],\n",
       "                         'ss__with_std': [True, False]},\n",
       "             verbose=1)"
      ]
     },
     "execution_count": 59,
     "metadata": {},
     "output_type": "execute_result"
    }
   ],
   "source": [
    "pipe_5_gridsearch.fit(X_train_5, y_train_5)"
   ]
  },
  {
   "cell_type": "code",
   "execution_count": 60,
   "metadata": {},
   "outputs": [
    {
     "name": "stdout",
     "output_type": "stream",
     "text": [
      "R2 train: 0.8721623535207963\n",
      "R2 valid: 0.8699874848911466\n",
      "parameters: Pipeline(steps=[('ss', StandardScaler(with_mean=False)),\n",
      "                ('pca', PCA(n_components='mle')),\n",
      "                ('ridge', RidgeCV(alphas=2.154434690031884))])\n"
     ]
    }
   ],
   "source": [
    "print(f'R2 train: {pipe_5_gridsearch.best_score_}')\n",
    "print(f'R2 valid: {pipe_5_gridsearch.score(X_valid_5, y_valid_5)}')\n",
    "print(f'parameters: {pipe_5_gridsearch.best_estimator_}')"
   ]
  },
  {
   "cell_type": "code",
   "execution_count": 61,
   "metadata": {},
   "outputs": [
    {
     "name": "stdout",
     "output_type": "stream",
     "text": [
      "RMSE = 0.0807398414252557\n"
     ]
    }
   ],
   "source": [
    "ridge_preds = pipe_5_gridsearch.predict(X_valid_5)\n",
    "model_performance(y_valid_5,ridge_preds)"
   ]
  },
  {
   "cell_type": "markdown",
   "metadata": {
    "tags": []
   },
   "source": [
    "## 4.5 LASSO Regression"
   ]
  },
  {
   "cell_type": "markdown",
   "metadata": {},
   "source": [
    "**Model_3**"
   ]
  },
  {
   "cell_type": "code",
   "execution_count": 62,
   "metadata": {},
   "outputs": [],
   "source": [
    "# Instantiate pipeline object.\n",
    "pipe_3 = Pipeline([\n",
    "    ('ss', StandardScaler()),\n",
    "    ('pca', PCA(n_components='mle')),\n",
    "    ('lasso', LassoCV())\n",
    "])"
   ]
  },
  {
   "cell_type": "code",
   "execution_count": 63,
   "metadata": {},
   "outputs": [],
   "source": [
    "# Define dictionary of hyperparameters.\n",
    "pipe_3_params = {'ss__with_mean': [True, False], \n",
    "                 'ss__with_std': [True, False]}"
   ]
  },
  {
   "cell_type": "code",
   "execution_count": 64,
   "metadata": {},
   "outputs": [],
   "source": [
    "# Instantiate our GridSearchCV object.\n",
    "pipe_3_gridsearch = GridSearchCV(pipe_3, \n",
    "                                 pipe_3_params, \n",
    "                                 cv=5, \n",
    "                                 verbose=1)"
   ]
  },
  {
   "cell_type": "code",
   "execution_count": 65,
   "metadata": {},
   "outputs": [
    {
     "name": "stdout",
     "output_type": "stream",
     "text": [
      "Fitting 5 folds for each of 4 candidates, totalling 20 fits\n"
     ]
    },
    {
     "data": {
      "text/html": [
       "<style>#sk-container-id-5 {color: black;background-color: white;}#sk-container-id-5 pre{padding: 0;}#sk-container-id-5 div.sk-toggleable {background-color: white;}#sk-container-id-5 label.sk-toggleable__label {cursor: pointer;display: block;width: 100%;margin-bottom: 0;padding: 0.3em;box-sizing: border-box;text-align: center;}#sk-container-id-5 label.sk-toggleable__label-arrow:before {content: \"▸\";float: left;margin-right: 0.25em;color: #696969;}#sk-container-id-5 label.sk-toggleable__label-arrow:hover:before {color: black;}#sk-container-id-5 div.sk-estimator:hover label.sk-toggleable__label-arrow:before {color: black;}#sk-container-id-5 div.sk-toggleable__content {max-height: 0;max-width: 0;overflow: hidden;text-align: left;background-color: #f0f8ff;}#sk-container-id-5 div.sk-toggleable__content pre {margin: 0.2em;color: black;border-radius: 0.25em;background-color: #f0f8ff;}#sk-container-id-5 input.sk-toggleable__control:checked~div.sk-toggleable__content {max-height: 200px;max-width: 100%;overflow: auto;}#sk-container-id-5 input.sk-toggleable__control:checked~label.sk-toggleable__label-arrow:before {content: \"▾\";}#sk-container-id-5 div.sk-estimator input.sk-toggleable__control:checked~label.sk-toggleable__label {background-color: #d4ebff;}#sk-container-id-5 div.sk-label input.sk-toggleable__control:checked~label.sk-toggleable__label {background-color: #d4ebff;}#sk-container-id-5 input.sk-hidden--visually {border: 0;clip: rect(1px 1px 1px 1px);clip: rect(1px, 1px, 1px, 1px);height: 1px;margin: -1px;overflow: hidden;padding: 0;position: absolute;width: 1px;}#sk-container-id-5 div.sk-estimator {font-family: monospace;background-color: #f0f8ff;border: 1px dotted black;border-radius: 0.25em;box-sizing: border-box;margin-bottom: 0.5em;}#sk-container-id-5 div.sk-estimator:hover {background-color: #d4ebff;}#sk-container-id-5 div.sk-parallel-item::after {content: \"\";width: 100%;border-bottom: 1px solid gray;flex-grow: 1;}#sk-container-id-5 div.sk-label:hover label.sk-toggleable__label {background-color: #d4ebff;}#sk-container-id-5 div.sk-serial::before {content: \"\";position: absolute;border-left: 1px solid gray;box-sizing: border-box;top: 0;bottom: 0;left: 50%;z-index: 0;}#sk-container-id-5 div.sk-serial {display: flex;flex-direction: column;align-items: center;background-color: white;padding-right: 0.2em;padding-left: 0.2em;position: relative;}#sk-container-id-5 div.sk-item {position: relative;z-index: 1;}#sk-container-id-5 div.sk-parallel {display: flex;align-items: stretch;justify-content: center;background-color: white;position: relative;}#sk-container-id-5 div.sk-item::before, #sk-container-id-5 div.sk-parallel-item::before {content: \"\";position: absolute;border-left: 1px solid gray;box-sizing: border-box;top: 0;bottom: 0;left: 50%;z-index: -1;}#sk-container-id-5 div.sk-parallel-item {display: flex;flex-direction: column;z-index: 1;position: relative;background-color: white;}#sk-container-id-5 div.sk-parallel-item:first-child::after {align-self: flex-end;width: 50%;}#sk-container-id-5 div.sk-parallel-item:last-child::after {align-self: flex-start;width: 50%;}#sk-container-id-5 div.sk-parallel-item:only-child::after {width: 0;}#sk-container-id-5 div.sk-dashed-wrapped {border: 1px dashed gray;margin: 0 0.4em 0.5em 0.4em;box-sizing: border-box;padding-bottom: 0.4em;background-color: white;}#sk-container-id-5 div.sk-label label {font-family: monospace;font-weight: bold;display: inline-block;line-height: 1.2em;}#sk-container-id-5 div.sk-label-container {text-align: center;}#sk-container-id-5 div.sk-container {/* jupyter's `normalize.less` sets `[hidden] { display: none; }` but bootstrap.min.css set `[hidden] { display: none !important; }` so we also need the `!important` here to be able to override the default hidden behavior on the sphinx rendered scikit-learn.org. See: https://github.com/scikit-learn/scikit-learn/issues/21755 */display: inline-block !important;position: relative;}#sk-container-id-5 div.sk-text-repr-fallback {display: none;}</style><div id=\"sk-container-id-5\" class=\"sk-top-container\"><div class=\"sk-text-repr-fallback\"><pre>GridSearchCV(cv=5,\n",
       "             estimator=Pipeline(steps=[(&#x27;ss&#x27;, StandardScaler()),\n",
       "                                       (&#x27;pca&#x27;, PCA(n_components=&#x27;mle&#x27;)),\n",
       "                                       (&#x27;lasso&#x27;, LassoCV())]),\n",
       "             param_grid={&#x27;ss__with_mean&#x27;: [True, False],\n",
       "                         &#x27;ss__with_std&#x27;: [True, False]},\n",
       "             verbose=1)</pre><b>In a Jupyter environment, please rerun this cell to show the HTML representation or trust the notebook. <br />On GitHub, the HTML representation is unable to render, please try loading this page with nbviewer.org.</b></div><div class=\"sk-container\" hidden><div class=\"sk-item sk-dashed-wrapped\"><div class=\"sk-label-container\"><div class=\"sk-label sk-toggleable\"><input class=\"sk-toggleable__control sk-hidden--visually\" id=\"sk-estimator-id-21\" type=\"checkbox\" ><label for=\"sk-estimator-id-21\" class=\"sk-toggleable__label sk-toggleable__label-arrow\">GridSearchCV</label><div class=\"sk-toggleable__content\"><pre>GridSearchCV(cv=5,\n",
       "             estimator=Pipeline(steps=[(&#x27;ss&#x27;, StandardScaler()),\n",
       "                                       (&#x27;pca&#x27;, PCA(n_components=&#x27;mle&#x27;)),\n",
       "                                       (&#x27;lasso&#x27;, LassoCV())]),\n",
       "             param_grid={&#x27;ss__with_mean&#x27;: [True, False],\n",
       "                         &#x27;ss__with_std&#x27;: [True, False]},\n",
       "             verbose=1)</pre></div></div></div><div class=\"sk-parallel\"><div class=\"sk-parallel-item\"><div class=\"sk-item\"><div class=\"sk-label-container\"><div class=\"sk-label sk-toggleable\"><input class=\"sk-toggleable__control sk-hidden--visually\" id=\"sk-estimator-id-22\" type=\"checkbox\" ><label for=\"sk-estimator-id-22\" class=\"sk-toggleable__label sk-toggleable__label-arrow\">estimator: Pipeline</label><div class=\"sk-toggleable__content\"><pre>Pipeline(steps=[(&#x27;ss&#x27;, StandardScaler()), (&#x27;pca&#x27;, PCA(n_components=&#x27;mle&#x27;)),\n",
       "                (&#x27;lasso&#x27;, LassoCV())])</pre></div></div></div><div class=\"sk-serial\"><div class=\"sk-item\"><div class=\"sk-serial\"><div class=\"sk-item\"><div class=\"sk-estimator sk-toggleable\"><input class=\"sk-toggleable__control sk-hidden--visually\" id=\"sk-estimator-id-23\" type=\"checkbox\" ><label for=\"sk-estimator-id-23\" class=\"sk-toggleable__label sk-toggleable__label-arrow\">StandardScaler</label><div class=\"sk-toggleable__content\"><pre>StandardScaler()</pre></div></div></div><div class=\"sk-item\"><div class=\"sk-estimator sk-toggleable\"><input class=\"sk-toggleable__control sk-hidden--visually\" id=\"sk-estimator-id-24\" type=\"checkbox\" ><label for=\"sk-estimator-id-24\" class=\"sk-toggleable__label sk-toggleable__label-arrow\">PCA</label><div class=\"sk-toggleable__content\"><pre>PCA(n_components=&#x27;mle&#x27;)</pre></div></div></div><div class=\"sk-item\"><div class=\"sk-estimator sk-toggleable\"><input class=\"sk-toggleable__control sk-hidden--visually\" id=\"sk-estimator-id-25\" type=\"checkbox\" ><label for=\"sk-estimator-id-25\" class=\"sk-toggleable__label sk-toggleable__label-arrow\">LassoCV</label><div class=\"sk-toggleable__content\"><pre>LassoCV()</pre></div></div></div></div></div></div></div></div></div></div></div></div>"
      ],
      "text/plain": [
       "GridSearchCV(cv=5,\n",
       "             estimator=Pipeline(steps=[('ss', StandardScaler()),\n",
       "                                       ('pca', PCA(n_components='mle')),\n",
       "                                       ('lasso', LassoCV())]),\n",
       "             param_grid={'ss__with_mean': [True, False],\n",
       "                         'ss__with_std': [True, False]},\n",
       "             verbose=1)"
      ]
     },
     "execution_count": 65,
     "metadata": {},
     "output_type": "execute_result"
    }
   ],
   "source": [
    "pipe_3_gridsearch.fit(X_train_3, y_train_3)"
   ]
  },
  {
   "cell_type": "code",
   "execution_count": 66,
   "metadata": {},
   "outputs": [
    {
     "name": "stdout",
     "output_type": "stream",
     "text": [
      "R2 train: 0.7976740963197066\n",
      "R2 valid: 0.785299716384198\n",
      "parameters: Pipeline(steps=[('ss', StandardScaler()), ('pca', PCA(n_components='mle')),\n",
      "                ('lasso', LassoCV())])\n"
     ]
    }
   ],
   "source": [
    "print(f'R2 train: {pipe_3_gridsearch.best_score_}')\n",
    "print(f'R2 valid: {pipe_3_gridsearch.score(X_valid_3, y_valid_3)}')\n",
    "print(f'parameters: {pipe_3_gridsearch.best_estimator_}')"
   ]
  },
  {
   "cell_type": "code",
   "execution_count": 67,
   "metadata": {},
   "outputs": [
    {
     "name": "stdout",
     "output_type": "stream",
     "text": [
      "RMSE = 0.08613983223486131\n"
     ]
    }
   ],
   "source": [
    "lasso_preds = pipe_3_gridsearch.predict(X_valid_3)\n",
    "model_performance(y_valid_3,lasso_preds)"
   ]
  },
  {
   "cell_type": "markdown",
   "metadata": {},
   "source": [
    "**Model_5**"
   ]
  },
  {
   "cell_type": "code",
   "execution_count": 68,
   "metadata": {},
   "outputs": [],
   "source": [
    "# Instantiate pipeline object.\n",
    "pipe_5 = Pipeline([\n",
    "    ('ss', StandardScaler()),\n",
    "    ('pca', PCA(n_components='mle')),\n",
    "    ('lasso', LassoCV())\n",
    "])"
   ]
  },
  {
   "cell_type": "code",
   "execution_count": 69,
   "metadata": {},
   "outputs": [],
   "source": [
    "# Define dictionary of hyperparameters.\n",
    "pipe_5_params = {'ss__with_mean': [True, False], \n",
    "                 'ss__with_std': [True, False]}"
   ]
  },
  {
   "cell_type": "code",
   "execution_count": 70,
   "metadata": {},
   "outputs": [],
   "source": [
    "# Instantiate our GridSearchCV object.\n",
    "pipe_5_gridsearch = GridSearchCV(pipe_5, \n",
    "                                 pipe_5_params, \n",
    "                                 cv=5, \n",
    "                                 verbose=1)"
   ]
  },
  {
   "cell_type": "code",
   "execution_count": 71,
   "metadata": {},
   "outputs": [
    {
     "name": "stdout",
     "output_type": "stream",
     "text": [
      "Fitting 5 folds for each of 4 candidates, totalling 20 fits\n"
     ]
    },
    {
     "data": {
      "text/html": [
       "<style>#sk-container-id-6 {color: black;background-color: white;}#sk-container-id-6 pre{padding: 0;}#sk-container-id-6 div.sk-toggleable {background-color: white;}#sk-container-id-6 label.sk-toggleable__label {cursor: pointer;display: block;width: 100%;margin-bottom: 0;padding: 0.3em;box-sizing: border-box;text-align: center;}#sk-container-id-6 label.sk-toggleable__label-arrow:before {content: \"▸\";float: left;margin-right: 0.25em;color: #696969;}#sk-container-id-6 label.sk-toggleable__label-arrow:hover:before {color: black;}#sk-container-id-6 div.sk-estimator:hover label.sk-toggleable__label-arrow:before {color: black;}#sk-container-id-6 div.sk-toggleable__content {max-height: 0;max-width: 0;overflow: hidden;text-align: left;background-color: #f0f8ff;}#sk-container-id-6 div.sk-toggleable__content pre {margin: 0.2em;color: black;border-radius: 0.25em;background-color: #f0f8ff;}#sk-container-id-6 input.sk-toggleable__control:checked~div.sk-toggleable__content {max-height: 200px;max-width: 100%;overflow: auto;}#sk-container-id-6 input.sk-toggleable__control:checked~label.sk-toggleable__label-arrow:before {content: \"▾\";}#sk-container-id-6 div.sk-estimator input.sk-toggleable__control:checked~label.sk-toggleable__label {background-color: #d4ebff;}#sk-container-id-6 div.sk-label input.sk-toggleable__control:checked~label.sk-toggleable__label {background-color: #d4ebff;}#sk-container-id-6 input.sk-hidden--visually {border: 0;clip: rect(1px 1px 1px 1px);clip: rect(1px, 1px, 1px, 1px);height: 1px;margin: -1px;overflow: hidden;padding: 0;position: absolute;width: 1px;}#sk-container-id-6 div.sk-estimator {font-family: monospace;background-color: #f0f8ff;border: 1px dotted black;border-radius: 0.25em;box-sizing: border-box;margin-bottom: 0.5em;}#sk-container-id-6 div.sk-estimator:hover {background-color: #d4ebff;}#sk-container-id-6 div.sk-parallel-item::after {content: \"\";width: 100%;border-bottom: 1px solid gray;flex-grow: 1;}#sk-container-id-6 div.sk-label:hover label.sk-toggleable__label {background-color: #d4ebff;}#sk-container-id-6 div.sk-serial::before {content: \"\";position: absolute;border-left: 1px solid gray;box-sizing: border-box;top: 0;bottom: 0;left: 50%;z-index: 0;}#sk-container-id-6 div.sk-serial {display: flex;flex-direction: column;align-items: center;background-color: white;padding-right: 0.2em;padding-left: 0.2em;position: relative;}#sk-container-id-6 div.sk-item {position: relative;z-index: 1;}#sk-container-id-6 div.sk-parallel {display: flex;align-items: stretch;justify-content: center;background-color: white;position: relative;}#sk-container-id-6 div.sk-item::before, #sk-container-id-6 div.sk-parallel-item::before {content: \"\";position: absolute;border-left: 1px solid gray;box-sizing: border-box;top: 0;bottom: 0;left: 50%;z-index: -1;}#sk-container-id-6 div.sk-parallel-item {display: flex;flex-direction: column;z-index: 1;position: relative;background-color: white;}#sk-container-id-6 div.sk-parallel-item:first-child::after {align-self: flex-end;width: 50%;}#sk-container-id-6 div.sk-parallel-item:last-child::after {align-self: flex-start;width: 50%;}#sk-container-id-6 div.sk-parallel-item:only-child::after {width: 0;}#sk-container-id-6 div.sk-dashed-wrapped {border: 1px dashed gray;margin: 0 0.4em 0.5em 0.4em;box-sizing: border-box;padding-bottom: 0.4em;background-color: white;}#sk-container-id-6 div.sk-label label {font-family: monospace;font-weight: bold;display: inline-block;line-height: 1.2em;}#sk-container-id-6 div.sk-label-container {text-align: center;}#sk-container-id-6 div.sk-container {/* jupyter's `normalize.less` sets `[hidden] { display: none; }` but bootstrap.min.css set `[hidden] { display: none !important; }` so we also need the `!important` here to be able to override the default hidden behavior on the sphinx rendered scikit-learn.org. See: https://github.com/scikit-learn/scikit-learn/issues/21755 */display: inline-block !important;position: relative;}#sk-container-id-6 div.sk-text-repr-fallback {display: none;}</style><div id=\"sk-container-id-6\" class=\"sk-top-container\"><div class=\"sk-text-repr-fallback\"><pre>GridSearchCV(cv=5,\n",
       "             estimator=Pipeline(steps=[(&#x27;ss&#x27;, StandardScaler()),\n",
       "                                       (&#x27;pca&#x27;, PCA(n_components=&#x27;mle&#x27;)),\n",
       "                                       (&#x27;lasso&#x27;, LassoCV())]),\n",
       "             param_grid={&#x27;ss__with_mean&#x27;: [True, False],\n",
       "                         &#x27;ss__with_std&#x27;: [True, False]},\n",
       "             verbose=1)</pre><b>In a Jupyter environment, please rerun this cell to show the HTML representation or trust the notebook. <br />On GitHub, the HTML representation is unable to render, please try loading this page with nbviewer.org.</b></div><div class=\"sk-container\" hidden><div class=\"sk-item sk-dashed-wrapped\"><div class=\"sk-label-container\"><div class=\"sk-label sk-toggleable\"><input class=\"sk-toggleable__control sk-hidden--visually\" id=\"sk-estimator-id-26\" type=\"checkbox\" ><label for=\"sk-estimator-id-26\" class=\"sk-toggleable__label sk-toggleable__label-arrow\">GridSearchCV</label><div class=\"sk-toggleable__content\"><pre>GridSearchCV(cv=5,\n",
       "             estimator=Pipeline(steps=[(&#x27;ss&#x27;, StandardScaler()),\n",
       "                                       (&#x27;pca&#x27;, PCA(n_components=&#x27;mle&#x27;)),\n",
       "                                       (&#x27;lasso&#x27;, LassoCV())]),\n",
       "             param_grid={&#x27;ss__with_mean&#x27;: [True, False],\n",
       "                         &#x27;ss__with_std&#x27;: [True, False]},\n",
       "             verbose=1)</pre></div></div></div><div class=\"sk-parallel\"><div class=\"sk-parallel-item\"><div class=\"sk-item\"><div class=\"sk-label-container\"><div class=\"sk-label sk-toggleable\"><input class=\"sk-toggleable__control sk-hidden--visually\" id=\"sk-estimator-id-27\" type=\"checkbox\" ><label for=\"sk-estimator-id-27\" class=\"sk-toggleable__label sk-toggleable__label-arrow\">estimator: Pipeline</label><div class=\"sk-toggleable__content\"><pre>Pipeline(steps=[(&#x27;ss&#x27;, StandardScaler()), (&#x27;pca&#x27;, PCA(n_components=&#x27;mle&#x27;)),\n",
       "                (&#x27;lasso&#x27;, LassoCV())])</pre></div></div></div><div class=\"sk-serial\"><div class=\"sk-item\"><div class=\"sk-serial\"><div class=\"sk-item\"><div class=\"sk-estimator sk-toggleable\"><input class=\"sk-toggleable__control sk-hidden--visually\" id=\"sk-estimator-id-28\" type=\"checkbox\" ><label for=\"sk-estimator-id-28\" class=\"sk-toggleable__label sk-toggleable__label-arrow\">StandardScaler</label><div class=\"sk-toggleable__content\"><pre>StandardScaler()</pre></div></div></div><div class=\"sk-item\"><div class=\"sk-estimator sk-toggleable\"><input class=\"sk-toggleable__control sk-hidden--visually\" id=\"sk-estimator-id-29\" type=\"checkbox\" ><label for=\"sk-estimator-id-29\" class=\"sk-toggleable__label sk-toggleable__label-arrow\">PCA</label><div class=\"sk-toggleable__content\"><pre>PCA(n_components=&#x27;mle&#x27;)</pre></div></div></div><div class=\"sk-item\"><div class=\"sk-estimator sk-toggleable\"><input class=\"sk-toggleable__control sk-hidden--visually\" id=\"sk-estimator-id-30\" type=\"checkbox\" ><label for=\"sk-estimator-id-30\" class=\"sk-toggleable__label sk-toggleable__label-arrow\">LassoCV</label><div class=\"sk-toggleable__content\"><pre>LassoCV()</pre></div></div></div></div></div></div></div></div></div></div></div></div>"
      ],
      "text/plain": [
       "GridSearchCV(cv=5,\n",
       "             estimator=Pipeline(steps=[('ss', StandardScaler()),\n",
       "                                       ('pca', PCA(n_components='mle')),\n",
       "                                       ('lasso', LassoCV())]),\n",
       "             param_grid={'ss__with_mean': [True, False],\n",
       "                         'ss__with_std': [True, False]},\n",
       "             verbose=1)"
      ]
     },
     "execution_count": 71,
     "metadata": {},
     "output_type": "execute_result"
    }
   ],
   "source": [
    "pipe_5_gridsearch.fit(X_train_5, y_train_5)"
   ]
  },
  {
   "cell_type": "code",
   "execution_count": 72,
   "metadata": {},
   "outputs": [
    {
     "name": "stdout",
     "output_type": "stream",
     "text": [
      "R2 train: 0.871117225155779\n",
      "R2 valid: 0.869359864104225\n",
      "parameters: Pipeline(steps=[('ss', StandardScaler()), ('pca', PCA(n_components='mle')),\n",
      "                ('lasso', LassoCV())])\n"
     ]
    }
   ],
   "source": [
    "print(f'R2 train: {pipe_5_gridsearch.best_score_}')\n",
    "print(f'R2 valid: {pipe_5_gridsearch.score(X_valid_5, y_valid_5)}')\n",
    "print(f'parameters: {pipe_5_gridsearch.best_estimator_}')"
   ]
  },
  {
   "cell_type": "code",
   "execution_count": 73,
   "metadata": {},
   "outputs": [
    {
     "name": "stdout",
     "output_type": "stream",
     "text": [
      "RMSE = 0.08093448804898522\n"
     ]
    }
   ],
   "source": [
    "lasso_preds = pipe_5_gridsearch.predict(X_valid_5)\n",
    "model_performance(y_valid_5,lasso_preds)"
   ]
  },
  {
   "cell_type": "markdown",
   "metadata": {},
   "source": [
    "## 4.6 Summary and Kaggle Submission"
   ]
  },
  {
   "cell_type": "markdown",
   "metadata": {},
   "source": [
    "|Model Name|Flat Type|Regression Model|Normalized RMSE on Validation Set|\n",
    "|---|---|---|---|\n",
    "|Model_1|1 ROOM|LinearRegression|0.06683| \n",
    "|Model_2|2 ROOM|LinearRegression|0.07313| \n",
    "|Model_3|3 ROOM|LASSORegression|0.08614| \n",
    "|Model_4|4 ROOM|LinearRegression|0.07959| \n",
    "|Model_5|5 ROOM|RidgeRegression|0.08074| \n",
    "|Model_6 (Model_exec)|EXECUTIVE|LinearRegression|0.07393| \n",
    "|Model_7 (Model_multi)|MULTI-GENERATION|LinearRegression|0.05287| "
   ]
  },
  {
   "cell_type": "markdown",
   "metadata": {},
   "source": [
    "<p style=\"text-align: center;\"><strong>Noted that Model_3, Model_4, Model_5 and Model_exec show relatively high RMSE</strong></p>"
   ]
  },
  {
   "cell_type": "code",
   "execution_count": 74,
   "metadata": {},
   "outputs": [],
   "source": [
    "# Instantiate 7 pipeline object.\n",
    "pipe_1 = Pipeline([\n",
    "    ('ss', StandardScaler(with_mean=False)),\n",
    "    ('pca', PCA(n_components=3)),\n",
    "    ('lr', LinearRegression())\n",
    "])\n",
    "pipe_2 = Pipeline([\n",
    "    ('ss', StandardScaler()),\n",
    "    ('pca', PCA(n_components='mle')),\n",
    "    ('lr', LinearRegression())\n",
    "])\n",
    "pipe_3 = Pipeline([\n",
    "    ('ss', StandardScaler()),\n",
    "    ('pca', PCA(n_components='mle')),\n",
    "    ('lasso', LassoCV())\n",
    "])\n",
    "pipe_4 = Pipeline([\n",
    "    ('ss', StandardScaler()),\n",
    "    ('pca', PCA(n_components='mle')),\n",
    "    ('lr', LinearRegression())\n",
    "])\n",
    "pipe_5 = Pipeline([\n",
    "    ('ss', StandardScaler(with_mean=False)),\n",
    "    ('pca', PCA(n_components='mle')),\n",
    "    ('ridge', RidgeCV(alphas=2.154434690031884))\n",
    "])\n",
    "pipe_6 = Pipeline([\n",
    "    ('ss', StandardScaler()),\n",
    "    ('pca', PCA(n_components='mle')),\n",
    "    ('lr', LinearRegression())\n",
    "])\n",
    "pipe_7 = Pipeline([\n",
    "    ('ss', StandardScaler(with_mean=False)),\n",
    "    ('pca', PCA(n_components=10)),\n",
    "    ('lr', LinearRegression())\n",
    "])"
   ]
  },
  {
   "cell_type": "code",
   "execution_count": 75,
   "metadata": {},
   "outputs": [],
   "source": [
    "#Create pipeline list for each model\n",
    "pipe_list = [pipe_1, pipe_2, pipe_3, pipe_4, pipe_5, pipe_6, pipe_7]"
   ]
  },
  {
   "cell_type": "code",
   "execution_count": 76,
   "metadata": {},
   "outputs": [],
   "source": [
    "#Create train valid dataset list for each model\n",
    "X_train_list = [X_train_1, X_train_2, X_train_3, X_train_4, X_train_5, X_train_exec, X_train_multi]\n",
    "X_valid_list = [X_valid_1, X_valid_2, X_valid_3, X_valid_4, X_valid_5, X_valid_exec, X_valid_multi]\n",
    "y_train_list = [y_train_1, y_train_2, y_train_3, y_train_4, y_train_5, y_train_exec, y_train_multi]\n",
    "y_valid_list = [y_valid_1, y_valid_2, y_valid_3, y_valid_4, y_valid_5, y_valid_exec, y_valid_multi]"
   ]
  },
  {
   "cell_type": "code",
   "execution_count": 77,
   "metadata": {},
   "outputs": [
    {
     "name": "stdout",
     "output_type": "stream",
     "text": [
      "1 ROOM: 7\n",
      "2 ROOM: 235\n",
      "3 ROOM: 4364\n",
      "4 ROOM: 6867\n",
      "5 ROOM: 3992\n",
      "EXECUTIVE: 1264\n",
      "MULTI-GENERATION: 8\n"
     ]
    }
   ],
   "source": [
    "#Seperate the test dataframe by flat types\n",
    "df_test_ft = []\n",
    "for flat_type in flat_type_list:\n",
    "    df = df_test[df_test['flat_type'] == flat_type]\n",
    "    df_test_ft.append(df)\n",
    "    print(f'{flat_type}: {len(df)}')"
   ]
  },
  {
   "cell_type": "code",
   "execution_count": 78,
   "metadata": {},
   "outputs": [],
   "source": [
    "#Get the X_test for each model and store them as a list\n",
    "X_test_list = []\n",
    "for df in df_test_ft:\n",
    "    X_test_list.append(df.drop('flat_type',axis=1))"
   ]
  },
  {
   "cell_type": "code",
   "execution_count": 79,
   "metadata": {},
   "outputs": [],
   "source": [
    "#Fit the train data and predict the test data for each model\n",
    "i = 0\n",
    "preds = []\n",
    "id_list = []\n",
    "\n",
    "for X_train, y_train, pipe, flat_type in zip(X_train_list,y_train_list,pipe_list,flat_type_list):\n",
    "    pipe.fit(X_train, y_train)\n",
    "    preds.append(np.exp(pipe.predict(X_test_list[i])) - 1)\n",
    "    id_list.append(df_test_copy[df_test_copy['flat_type']==flat_type]['id'])\n",
    "    i +=1"
   ]
  },
  {
   "cell_type": "code",
   "execution_count": 80,
   "metadata": {},
   "outputs": [],
   "source": [
    "#Output the predict data of test set\n",
    "data = []\n",
    "\n",
    "for id_no, pred in zip(id_list, preds):\n",
    "    data.append(pd.DataFrame({'Id': id_no, 'Predicted': pred}))\n",
    "    \n",
    "df = pd.concat(data)"
   ]
  },
  {
   "cell_type": "code",
   "execution_count": 81,
   "metadata": {},
   "outputs": [
    {
     "data": {
      "text/html": [
       "<div>\n",
       "<style scoped>\n",
       "    .dataframe tbody tr th:only-of-type {\n",
       "        vertical-align: middle;\n",
       "    }\n",
       "\n",
       "    .dataframe tbody tr th {\n",
       "        vertical-align: top;\n",
       "    }\n",
       "\n",
       "    .dataframe thead th {\n",
       "        text-align: right;\n",
       "    }\n",
       "</style>\n",
       "<table border=\"1\" class=\"dataframe\">\n",
       "  <thead>\n",
       "    <tr style=\"text-align: right;\">\n",
       "      <th></th>\n",
       "      <th>Id</th>\n",
       "      <th>Predicted</th>\n",
       "    </tr>\n",
       "  </thead>\n",
       "  <tbody>\n",
       "    <tr>\n",
       "      <th>0</th>\n",
       "      <td>114982</td>\n",
       "      <td>374134.798490</td>\n",
       "    </tr>\n",
       "    <tr>\n",
       "      <th>1</th>\n",
       "      <td>95653</td>\n",
       "      <td>510166.870158</td>\n",
       "    </tr>\n",
       "    <tr>\n",
       "      <th>2</th>\n",
       "      <td>40303</td>\n",
       "      <td>350734.959587</td>\n",
       "    </tr>\n",
       "    <tr>\n",
       "      <th>3</th>\n",
       "      <td>109506</td>\n",
       "      <td>281405.080745</td>\n",
       "    </tr>\n",
       "    <tr>\n",
       "      <th>4</th>\n",
       "      <td>100149</td>\n",
       "      <td>424315.295333</td>\n",
       "    </tr>\n",
       "    <tr>\n",
       "      <th>...</th>\n",
       "      <td>...</td>\n",
       "      <td>...</td>\n",
       "    </tr>\n",
       "    <tr>\n",
       "      <th>16732</th>\n",
       "      <td>23347</td>\n",
       "      <td>341304.061381</td>\n",
       "    </tr>\n",
       "    <tr>\n",
       "      <th>16733</th>\n",
       "      <td>54003</td>\n",
       "      <td>508183.576815</td>\n",
       "    </tr>\n",
       "    <tr>\n",
       "      <th>16734</th>\n",
       "      <td>128921</td>\n",
       "      <td>383002.856910</td>\n",
       "    </tr>\n",
       "    <tr>\n",
       "      <th>16735</th>\n",
       "      <td>69352</td>\n",
       "      <td>453789.777382</td>\n",
       "    </tr>\n",
       "    <tr>\n",
       "      <th>16736</th>\n",
       "      <td>146210</td>\n",
       "      <td>385448.625676</td>\n",
       "    </tr>\n",
       "  </tbody>\n",
       "</table>\n",
       "<p>16737 rows × 2 columns</p>\n",
       "</div>"
      ],
      "text/plain": [
       "           Id      Predicted\n",
       "0      114982  374134.798490\n",
       "1       95653  510166.870158\n",
       "2       40303  350734.959587\n",
       "3      109506  281405.080745\n",
       "4      100149  424315.295333\n",
       "...       ...            ...\n",
       "16732   23347  341304.061381\n",
       "16733   54003  508183.576815\n",
       "16734  128921  383002.856910\n",
       "16735   69352  453789.777382\n",
       "16736  146210  385448.625676\n",
       "\n",
       "[16737 rows x 2 columns]"
      ]
     },
     "execution_count": 81,
     "metadata": {},
     "output_type": "execute_result"
    }
   ],
   "source": [
    "#Convert to Kaggle submission format\n",
    "df_test_id = pd.DataFrame(df_test_copy['id'])\n",
    "submission = df_test_id.merge(df, left_on='id', right_on='Id', how='left')\n",
    "submission.drop('id', axis=1, inplace=True)\n",
    "submission"
   ]
  },
  {
   "cell_type": "code",
   "execution_count": 82,
   "metadata": {},
   "outputs": [],
   "source": [
    "#Output the Kaggle submission results\n",
    "submission.to_csv('../datasets/submission.csv', index=False)"
   ]
  },
  {
   "cell_type": "markdown",
   "metadata": {},
   "source": [
    "**Kaggle score:**\n",
    "\n",
    "<img src=\"../images/kaggle.PNG\" width=\"800\"/>"
   ]
  },
  {
   "cell_type": "markdown",
   "metadata": {
    "tags": []
   },
   "source": [
    "# 5. Model Evaluation"
   ]
  },
  {
   "cell_type": "code",
   "execution_count": 83,
   "metadata": {},
   "outputs": [],
   "source": [
    "#Fit the train data and predict the validation data for each model\n",
    "preds = []\n",
    "\n",
    "for X_train, y_train, pipe, X_valid in zip(X_train_list,y_train_list,pipe_list,X_valid_list):\n",
    "    pipe.fit(X_train, y_train)\n",
    "    preds.append(np.exp(pipe.predict(X_valid)) - 1)"
   ]
  },
  {
   "cell_type": "code",
   "execution_count": 84,
   "metadata": {},
   "outputs": [],
   "source": [
    "#Output the predict data of validation set\n",
    "data = []\n",
    "\n",
    "for y_valid, pred in zip(y_valid_list, preds):\n",
    "    data.append(pd.DataFrame({'y_valid': np.exp(y_valid) - 1, 'Predicted': pred}))\n",
    "\n",
    "df = pd.concat(data)"
   ]
  },
  {
   "cell_type": "code",
   "execution_count": 85,
   "metadata": {},
   "outputs": [
    {
     "data": {
      "text/plain": [
       "0.9278543688440526"
      ]
     },
     "execution_count": 85,
     "metadata": {},
     "output_type": "execute_result"
    }
   ],
   "source": [
    "#R2 score of validation data\n",
    "r2_score(df['y_valid'],df['Predicted'])"
   ]
  },
  {
   "cell_type": "code",
   "execution_count": 86,
   "metadata": {},
   "outputs": [
    {
     "data": {
      "text/plain": [
       "39415.31062964959"
      ]
     },
     "execution_count": 86,
     "metadata": {},
     "output_type": "execute_result"
    }
   ],
   "source": [
    "#RMSE of validation data\n",
    "np.sqrt(mean_squared_error(df['y_valid'],df['Predicted']))"
   ]
  },
  {
   "cell_type": "code",
   "execution_count": 87,
   "metadata": {},
   "outputs": [
    {
     "data": {
      "image/png": "[encoded data removed]",
      "text/plain": [
       "<Figure size 640x480 with 1 Axes>"
      ]
     },
     "metadata": {},
     "output_type": "display_data"
    }
   ],
   "source": [
    "#Normalised check of the residuals of validation data\n",
    "resids = df['y_valid'] - df['Predicted']\n",
    "plt.hist(resids, bins=100, range=[-200000, 200000])\n",
    "plt.show()"
   ]
  },
  {
   "cell_type": "code",
   "execution_count": 88,
   "metadata": {},
   "outputs": [
    {
     "data": {
      "text/plain": [
       "<matplotlib.lines.Line2D at 0x7f2bdcae7430>"
      ]
     },
     "execution_count": 88,
     "metadata": {},
     "output_type": "execute_result"
    },
    {
     "data": {
      "image/png": "[encoded data removed]",
      "text/plain": [
       "<Figure size 640x480 with 1 Axes>"
      ]
     },
     "metadata": {},
     "output_type": "display_data"
    }
   ],
   "source": [
    "#Equal variance check of the residuals of validation data\n",
    "plt.scatter(df['Predicted'], resids, s=1)\n",
    "plt.axhline(0, color=\"orange\")\n",
    "plt.axhline(-200000, color=\"red\", linestyle='--')\n",
    "plt.axhline(200000, color=\"red\", linestyle='--')"
   ]
  },
  {
   "cell_type": "code",
   "execution_count": 89,
   "metadata": {},
   "outputs": [
    {
     "data": {
      "text/plain": [
       "4 ROOM       8\n",
       "5 ROOM       8\n",
       "3 ROOM       6\n",
       "EXECUTIVE    4\n",
       "Name: flat_type, dtype: int64"
      ]
     },
     "execution_count": 89,
     "metadata": {},
     "output_type": "execute_result"
    }
   ],
   "source": [
    "#Check the outliers of the residuals\n",
    "outliers_index = df[(resids > 200000) | (resids < -200000)].index\n",
    "df_train.loc[outliers_index,:]['flat_type'].value_counts()"
   ]
  },
  {
   "cell_type": "markdown",
   "metadata": {},
   "source": [
    "**Noted that the outliers are from 3 ROOM, 4 ROOM, 5 ROOM and EXECUTIVE. It indicates that Model_3, Model_4, Model_5 and Model_exec still need further improvement to effectively handle the outliers.**"
   ]
  },
  {
   "cell_type": "markdown",
   "metadata": {},
   "source": [
    "# 6. Conclusion and Recommendation"
   ]
  },
  {
   "cell_type": "markdown",
   "metadata": {},
   "source": [
    "## 6.1 Conclusion"
   ]
  },
  {
   "cell_type": "markdown",
   "metadata": {},
   "source": [
    "We built 7 models for each flat type to predict the resale price, in overall with a **R2 score** of **0.928** and **RMSE** of **39,415.31**. Besides, we were able to identify the **top 5 features** that were **positively correlated** to the **resale price** for **each flat type**, as shown in the results below: \n",
    "\n",
    "|   |1 Room|2 Room|3 Room|4 Room|5 Room|Exec|Multi|\n",
    "|---|---|---|---|---|---|---|---|\n",
    "|**1st**|tranc_month|4room_sold|max_floor_lvl|max_floor_lvl|hawker_within_2km|hawker_within_2km|hawker_within_2km|\n",
    "|**2nd**|mid_storey|floor_area_sqft|floor_area_sqft|hawker_within_2km|max_floor_lvl|hawker_within_1km|hawker_market_stalls|\n",
    "|**3rd**|tranc_year|max_floor_lvl|mid_storey|hawker_within_1km|hawker_within_1km|floor_area_sqft|hawker_food_stalls|\n",
    "|**4th**|-|mid_storey|hawker_within_2km|mid_storey|hawker_within_500m|hdb_age|hawker_within_1km|\n",
    "|**5th**|-|mall_within_500m|mall_within_2km|hawker_within_500m|mid_storey|affiliation|floor_area_sqft|\n",
    "\n",
    "Generally speaking, **max floor level**, **number of hawkers/malls within a certain distance**, **floor area** and **mid storey** are the top positively correlated features, however the order of correlation varies depending on different flat types. "
   ]
  },
  {
   "cell_type": "markdown",
   "metadata": {},
   "source": [
    "## 6.2 Recommendation"
   ]
  },
  {
   "cell_type": "markdown",
   "metadata": {},
   "source": [
    "When considering purchasing an HDB resale flat, it's important to keep in mind that in general the **floor area** is typically the **most** significant factor affecting the resale price. Historical data shows same as common sense: larger flats tend to be more expensive. However, to get a more accurate estimate of what you can expect to pay, it's advisable to dive deeper into HDB transactions and pricing trends for **different flat types**.\n",
    "\n",
    "For example, if you're looking to buy a **3 Room** or **4 Room** flat, you should pay close attention to the **maximum floor level** of the building as flats with higher maximum floor levels are often more expensive. On the other hand, if you're considering a **5 Room**, **Executive**, or **Multi-generation** flat, the **number of hawkers within 2km** is a key factor to consider. Historical data suggests that flats located in areas with more hawkers within 2km tend to command higher prices.\n",
    "\n",
    "As a seller of an HDB resale flat, taking into account the information mentioned above can help you to maximize the value of your sale."
   ]
  },
  {
   "cell_type": "markdown",
   "metadata": {},
   "source": [
    "# 7. Limitations"
   ]
  },
  {
   "cell_type": "markdown",
   "metadata": {},
   "source": [
    "During this exercise, several limitations were identified:\n",
    "\n",
    "1. The linear relationship between the selected features in the dataset and the HDB resale price was weak, while the multicollinearity among the selected features was strong. This made it difficult to fit the data to a single linear model and interpret the coefficients effectively. To improve the interpretation of the resale price, it may be advisable to consider other features that have a stronger linear relationship with the resale price and more independent to each other.\n",
    "\n",
    "2. Using different models for different flat types, the generalization of the model is limited. For instance, if HDB introduces a new flat type, the current models will not be applicable for prediction.\n",
    "\n",
    "3. Models for 3 room, 4 room, 5 room and Executive still require further improvement, as they exhibit relatively high RMSE with outliers."
   ]
  },
  {
   "cell_type": "markdown",
   "metadata": {},
   "source": [
    "# 8. Future Steps"
   ]
  },
  {
   "cell_type": "markdown",
   "metadata": {},
   "source": [
    "1. **Model Selection:** Rather than using different models for different flat types, a more generalized model can be used. For example, a decision tree-based algorithm such as random forests or gradient boosting could be applied, which can handle non-linear relationships between features and target variable.\n",
    "\n",
    "2. **Model Improvement:** To improve the performance of models for 3 room, 4 room, 5 room and Executive, the outliers present in the data can be further analyzed to find out the reasons, try to either removed or imputed depending on their impact on the model performance.\n",
    "\n",
    "3. **Data Collection:** To address the issue of the model's limited generalization, more data on different (or new) flat types can be collected and added to the dataset, which will improve the model's ability to generalize to different (or new) flat types."
   ]
  },
  {
   "cell_type": "code",
   "execution_count": null,
   "metadata": {},
   "outputs": [],
   "source": []
  }
 ],
 "metadata": {
  "kernelspec": {
   "display_name": "dsi-sg",
   "language": "python",
   "name": "dsi-sg"
  },
  "language_info": {
   "codemirror_mode": {
    "name": "ipython",
    "version": 3
   },
   "file_extension": ".py",
   "mimetype": "text/x-python",
   "name": "python",
   "nbconvert_exporter": "python",
   "pygments_lexer": "ipython3",
   "version": "3.9.13"
  },
  "toc": {
   "base_numbering": 1,
   "nav_menu": {},
   "number_sections": false,
   "sideBar": true,
   "skip_h1_title": false,
   "title_cell": "Table of Contents",
   "title_sidebar": "Contents",
   "toc_cell": false,
   "toc_position": {
    "height": "calc(100% - 180px)",
    "left": "10px",
    "top": "150px",
    "width": "258px"
   },
   "toc_section_display": true,
   "toc_window_display": true
  }
 },
 "nbformat": 4,
 "nbformat_minor": 4
}
