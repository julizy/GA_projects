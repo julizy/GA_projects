{
 "cells": [
  {
   "cell_type": "markdown",
   "metadata": {},
   "source": [
    "<img src=\"http://imgur.com/1ZcRyrc.png\" style=\"float: left; margin: 20px; height: 55px\">\n",
    "\n",
    "# Project 1: Data Analysis of Singapore Rainfall"
   ]
  },
  {
   "cell_type": "markdown",
   "metadata": {},
   "source": [
    "--- \n",
    "# Part 1\n",
    "\n",
    "Part 1 requires knowledge of basic Python.\n",
    "\n",
    "---"
   ]
  },
  {
   "cell_type": "markdown",
   "metadata": {},
   "source": [
    "### Contents:\n",
    "- [Background](#Background)\n",
    "- [Data Import & Cleaning](#Data-Import-and-Cleaning)\n",
    "- [Exploratory Data Analysis](#Exploratory-Data-Analysis)\n",
    "- [Data Visualization](#Visualize-the-Data)\n",
    "- [Conclusions and Recommendations](#Conclusions-and-Recommendations)"
   ]
  },
  {
   "cell_type": "markdown",
   "metadata": {},
   "source": [
    "## Background"
   ]
  },
  {
   "cell_type": "markdown",
   "metadata": {},
   "source": [
    "According to the [Meteorological Services Singapore](http://www.weather.gov.sg/climate-climate-of-singapore/#:~:text=Singapore%20is%20situated%20near%20the,month%2Dto%2Dmonth%20variation.), Singapore has typical tropical climate with adundant rainfall, high and uniform temperatures and high humidity all year round, since its situated near the equator. There are many factors that help us understand the climate of a country and in this project we are going to look into a few, especially rainfall.\n",
    "\n",
    "Singapore’s climate is characterised by two main monsoon seasons separated by inter-monsoonal periods.  The **Northeast Monsoon** occurs from December to early March, and the **Southwest Monsoon** from June to September.\n",
    "\n",
    "The major weather systems affecting Singapore that can lead to heavy rainfall are:\n",
    "\n",
    "-Monsoon surges, or strong wind episodes in the Northeast Monsoon flow bringing about major rainfall events;\n",
    "\n",
    "-Sumatra squalls, an organised line of thunderstorms travelling eastward across Singapore, having developed over the island of Sumatra or Straits of Malacca west of us;\n",
    "\n",
    "-Afternoon and evening thunderstorms caused by strong surface heating and by the sea breeze circulation that develops in the afternoon.\n",
    "\n",
    "Singapore’s climate station has been located at several different sites in the past 140 years. The station had been decommissioned at various points in the past due to changes to local land use in the site’s vicinity, and had to be relocated. Since 1984, the climate station has been located at **Changi**.\n",
    "\n",
    "There are other metrics of climate such as temperature, humidity, sun shine duration, wind speed, cloud cover etc. All the dataset used in the project comes from [data.gov.sg](data.gov.sg), as recorded at the Changi climate station \n"
   ]
  },
  {
   "cell_type": "markdown",
   "metadata": {},
   "source": [
    "### Choose your Data\n",
    "\n",
    "There are 2 datasets included in the [`data`](./data/) folder for this project. These correponds to rainfall information. \n",
    "\n",
    "* [`rainfall-monthly-number-of-rain-days.csv`](./data/rainfall-monthly-number-of-rain-days.csv): Monthly number of rain days from 1982 to 2022. A day is considered to have “rained” if the total rainfall for that day is 0.2mm or more.\n",
    "* [`rainfall-monthly-total.csv`](./data/rainfall-monthly-total.csv): Monthly total rain recorded in mm(millimeters) from 1982 to 2022\n",
    "\n",
    "Other relevant weather datasets from [data.gov.sg](data.gov.sg) that you can download and use are as follows:\n",
    "\n",
    "* [Relative Humidity](https://data.gov.sg/dataset/relative-humidity-monthly-mean)\n",
    "* [Monthly Maximum Daily Rainfall](https://data.gov.sg/dataset/rainfall-monthly-maximum-daily-total)\n",
    "* [Hourly wet buld temperature](https://data.gov.sg/dataset/wet-bulb-temperature-hourly)\n",
    "* [Monthly mean sunshine hours](https://data.gov.sg/dataset/sunshine-duration-monthly-mean-daily-duration)\n",
    "* [Surface Air Temperature](https://data.gov.sg/dataset/surface-air-temperature-mean-daily-minimum)\n",
    "\n",
    "You can also use other datasets for your analysis, make sure to cite the source when you are using them"
   ]
  },
  {
   "cell_type": "markdown",
   "metadata": {},
   "source": [
    "**Answer:** \n",
    "There are 5 datasets used in the project:\n",
    "* [`rainfall-monthly-number-of-rain-days.csv`](./data/rainfall-monthly-number-of-rain-days.csv): Monthly number of rain days from 1982 to 2022. A day is considered to have “rained” if the total rainfall for that day is **0.2mm** or more. Updated till Nov'22.\n",
    "* [`rainfall-monthly-total.csv`](./data/rainfall-monthly-total.csv): Monthly total rain recorded in mm (millimeters) from 1982 to 2022. Updated till Nov'22.\n",
    "* [`relative-humidity-monthly-mean.csv`](./data/relative-humidity-monthly-mean.csv): Monthly average relative humidity (%) from 1982 to 2022. Updated till Nov'22\n",
    "\n",
    "Data source: all three above are from [data.gov.sg](https://data.gov.sg/)\n",
    "* [`DAILY2021DATA_S24.csv`](./data/DAILY2021DATA_S24.csv): Daily Rainfall data in 2021 from Changi Weather Station (number: S24).\n",
    "\n",
    "Data source: [Weather data from The Meteorological Service Singapore (MSS)](http://www.weather.gov.sg/climate-historical-daily/)\n",
    "\n",
    "* `Data of Relative Humidity` in 2021 from Changi Weather Station (number: S24)\n",
    "\n",
    "Data source: [National Environment Agency API](https://api.data.gov.sg/v1/environment/relative-humidity)"
   ]
  },
  {
   "cell_type": "markdown",
   "metadata": {},
   "source": [
    "## Problem Statement:"
   ]
  },
  {
   "cell_type": "markdown",
   "metadata": {},
   "source": [
    "### <font color='blue'> Public places at Singapore such as offices, MRT and shopping malls are often excessive cooling by aircon, which may result in energy wastes and health issues. This project aims to use the data to explain the significance of overcooling in air-conditioned offices in Singapore, especially on rainy days. The analysis results can help to design a building automation system which can adjust the aircon in offices according to the weather.</font>"
   ]
  },
  {
   "cell_type": "markdown",
   "metadata": {},
   "source": [
    "### Outside Research:"
   ]
  },
  {
   "cell_type": "markdown",
   "metadata": {},
   "source": [
    "Based on your problem statement and your chosen datasets, spend some time doing outside research on how climate change is affecting different industries or additional information that might be relevant. Summarize your findings below. If you bring in any outside tables or charts, make sure you are explicit about having borrowed them. If you quote any text, make sure that it renders as being quoted. **Make sure that you cite your sources.**"
   ]
  },
  {
   "cell_type": "markdown",
   "metadata": {},
   "source": [
    "**Answer:** Singapore is not insulated from the impact of global warming. `From 1980 to 2020, the annual mean temperature has increased from 26.9°C to 28.0°C`. However, rainfall has become more intense in recent years. `The total annual rainfall for Singapore has increased at an average rate of 67 mm per decade from 1980 to 2019`. This kind of change in the climate will have effects on the daily life of residents. [Source link](https://www.nccs.gov.sg/singapores-climate-action/impact-of-climate-change-in-singapore/)\n",
    "\n",
    "When our nature environment is getting hotter, the demand of aircon usage is growing at all of places in Singapore. It tends to have overusage especially on rainy days when outdoor temperature is decreasing. The issue may not be so significant at private homes since householders can take the control of the aircon to turn it off during rainy days. But public places like offices in a building are often excessive cooling, since usually there is no automation system to control the central aircon when it is raining. "
   ]
  },
  {
   "cell_type": "markdown",
   "metadata": {},
   "source": [
    "<img src=\"../images/info-1-01.jpg\" width=\"800\"/>\n",
    "\n",
    "[Image Source](https://www.nccs.gov.sg/images/info-1-01.jpg?sfvrsn=1e966f02_0)"
   ]
  },
  {
   "cell_type": "markdown",
   "metadata": {},
   "source": [
    "### Coding Challenges:\n",
    "\n",
    "1. Manually calculate mean:\n",
    "\n",
    "    Write a function that takes in values and returns the mean of the values. Create a list of numbers that you test on your function to check to make sure your function works!\n",
    "    \n",
    "    *Note*: Do not use any mean methods built-in to any Python libraries to do this! This should be done without importing any additional libraries."
   ]
  },
  {
   "cell_type": "code",
   "execution_count": 1,
   "metadata": {},
   "outputs": [
    {
     "data": {
      "text/plain": [
       "3.5"
      ]
     },
     "execution_count": 1,
     "metadata": {},
     "output_type": "execute_result"
    }
   ],
   "source": [
    "# Code:\n",
    "def mean_val(num_list):\n",
    "    sum_val = 0\n",
    "    for value in num_list:\n",
    "        sum_val += value\n",
    "    mean = sum_val / len(num_list)\n",
    "    return mean\n",
    "\n",
    "num_list = [1,2,3,4,5,6]\n",
    "mean_val(num_list)"
   ]
  },
  {
   "cell_type": "markdown",
   "metadata": {},
   "source": [
    "2. Manually calculate standard deviation:\n",
    "\n",
    "    The formula for standard deviation is below:\n",
    "\n",
    "    $$\\sigma = \\sqrt{\\frac{1}{n}\\sum_{i=1}^n(x_i - \\mu)^2}$$\n",
    "\n",
    "    Where $x_i$ represents each value in the dataset, $\\mu$ represents the mean of all values in the dataset and $n$ represents the number of values in the dataset.\n",
    "\n",
    "    Write a function that takes in values and returns the standard deviation of the values using the formula above. Hint: use the function you wrote above to calculate the mean! Use the list of numbers you created above to test on your function.\n",
    "    \n",
    "    *Note*: Do not use any standard deviation methods built-in to any Python libraries to do this! This should be done without importing any additional libraries."
   ]
  },
  {
   "cell_type": "code",
   "execution_count": 2,
   "metadata": {},
   "outputs": [
    {
     "data": {
      "text/plain": [
       "1.707825127659933"
      ]
     },
     "execution_count": 2,
     "metadata": {},
     "output_type": "execute_result"
    }
   ],
   "source": [
    "# Code:\n",
    "def std_val(num_list):\n",
    "    squared_error_list = [(x - mean_val(num_list))**2 for x in num_list]\n",
    "    return (mean_val(squared_error_list))**0.5\n",
    "\n",
    "num_list = [1,2,3,4,5,6]\n",
    "std_val(num_list)"
   ]
  },
  {
   "cell_type": "code",
   "execution_count": 3,
   "metadata": {},
   "outputs": [
    {
     "data": {
      "text/plain": [
       "1.707825127659933"
      ]
     },
     "execution_count": 3,
     "metadata": {},
     "output_type": "execute_result"
    }
   ],
   "source": [
    "# Validate the result by numpy function\n",
    "import numpy as np\n",
    "np.std(num_list)"
   ]
  },
  {
   "cell_type": "markdown",
   "metadata": {},
   "source": [
    "--- \n",
    "# Part 2\n",
    "\n",
    "Part 2 requires knowledge of Pandas, EDA, data cleaning, and data visualization.\n",
    "\n",
    "---"
   ]
  },
  {
   "cell_type": "markdown",
   "metadata": {},
   "source": [
    "*All libraries used should be added here*"
   ]
  },
  {
   "cell_type": "code",
   "execution_count": 4,
   "metadata": {},
   "outputs": [],
   "source": [
    "import numpy as np\n",
    "import pandas as pd\n",
    "import seaborn as sns\n",
    "import matplotlib.pyplot as plt\n",
    "\n",
    "%matplotlib inline"
   ]
  },
  {
   "cell_type": "markdown",
   "metadata": {},
   "source": [
    "## Data Import and Cleaning"
   ]
  },
  {
   "cell_type": "markdown",
   "metadata": {},
   "source": [
    "### Data Import & Cleaning:\n",
    "\n",
    "Import all the datasets that you selected for this project and go through the following steps at a minimum. You are welcome to do further cleaning as you feel necessary. Make sure to comment your code to showcase the intent behind the data processing step.\n",
    "1. Display the data: print the first 5 rows of each dataframe to your Jupyter notebook.\n",
    "2. Check for missing values and datatype.\n",
    "3. Check for any obvious issues with the observations.\n",
    "4. Fix any errors you identified in steps 2-3.\n",
    "6. Fix any incorrect data types found in step 5.\n",
    "    - Fix any individual values preventing other columns from being the appropriate type.\n",
    "    - If the month column data is better analyzed as month and year, create new columns for the same\n",
    "7. Rename Columns.\n",
    "    - Column names should be all lowercase.\n",
    "    - Column names should not contain spaces (underscores will suffice--this allows for using the `df.column_name` method to access columns in addition to `df['column_name']`).\n",
    "    - Column names should be unique and informative.\n",
    "8. Drop unnecessary rows (if needed).\n",
    "9. Merge dataframes that can be merged.\n",
    "    - Since different climate metrics are in month format, you can merge them into one single dataframe for easier analysis\n",
    "10. Perform any additional cleaning that you feel is necessary.\n",
    "11. Save your cleaned and merged dataframes as csv files."
   ]
  },
  {
   "cell_type": "code",
   "execution_count": 5,
   "metadata": {},
   "outputs": [],
   "source": [
    "#Import the monthly no. of rain days data\n",
    "rain_days = pd.read_csv('../data/rainfall-monthly-number-of-rain-days.csv')"
   ]
  },
  {
   "cell_type": "code",
   "execution_count": 6,
   "metadata": {},
   "outputs": [
    {
     "data": {
      "text/html": [
       "<div>\n",
       "<style scoped>\n",
       "    .dataframe tbody tr th:only-of-type {\n",
       "        vertical-align: middle;\n",
       "    }\n",
       "\n",
       "    .dataframe tbody tr th {\n",
       "        vertical-align: top;\n",
       "    }\n",
       "\n",
       "    .dataframe thead th {\n",
       "        text-align: right;\n",
       "    }\n",
       "</style>\n",
       "<table border=\"1\" class=\"dataframe\">\n",
       "  <thead>\n",
       "    <tr style=\"text-align: right;\">\n",
       "      <th></th>\n",
       "      <th>month</th>\n",
       "      <th>no_of_rainy_days</th>\n",
       "    </tr>\n",
       "  </thead>\n",
       "  <tbody>\n",
       "    <tr>\n",
       "      <th>0</th>\n",
       "      <td>1982-01</td>\n",
       "      <td>10</td>\n",
       "    </tr>\n",
       "    <tr>\n",
       "      <th>1</th>\n",
       "      <td>1982-02</td>\n",
       "      <td>5</td>\n",
       "    </tr>\n",
       "    <tr>\n",
       "      <th>2</th>\n",
       "      <td>1982-03</td>\n",
       "      <td>11</td>\n",
       "    </tr>\n",
       "    <tr>\n",
       "      <th>3</th>\n",
       "      <td>1982-04</td>\n",
       "      <td>14</td>\n",
       "    </tr>\n",
       "    <tr>\n",
       "      <th>4</th>\n",
       "      <td>1982-05</td>\n",
       "      <td>10</td>\n",
       "    </tr>\n",
       "  </tbody>\n",
       "</table>\n",
       "</div>"
      ],
      "text/plain": [
       "     month  no_of_rainy_days\n",
       "0  1982-01                10\n",
       "1  1982-02                 5\n",
       "2  1982-03                11\n",
       "3  1982-04                14\n",
       "4  1982-05                10"
      ]
     },
     "execution_count": 6,
     "metadata": {},
     "output_type": "execute_result"
    }
   ],
   "source": [
    "#Check the first 5 rows\n",
    "rain_days.head()"
   ]
  },
  {
   "cell_type": "code",
   "execution_count": 7,
   "metadata": {},
   "outputs": [
    {
     "data": {
      "text/plain": [
       "month               0\n",
       "no_of_rainy_days    0\n",
       "dtype: int64"
      ]
     },
     "execution_count": 7,
     "metadata": {},
     "output_type": "execute_result"
    }
   ],
   "source": [
    "#Check if there are any null values in the data\n",
    "rain_days.isnull().sum()"
   ]
  },
  {
   "cell_type": "code",
   "execution_count": 8,
   "metadata": {},
   "outputs": [
    {
     "name": "stdout",
     "output_type": "stream",
     "text": [
      "<class 'pandas.core.frame.DataFrame'>\n",
      "RangeIndex: 491 entries, 0 to 490\n",
      "Data columns (total 2 columns):\n",
      " #   Column            Non-Null Count  Dtype \n",
      "---  ------            --------------  ----- \n",
      " 0   month             491 non-null    object\n",
      " 1   no_of_rainy_days  491 non-null    int64 \n",
      "dtypes: int64(1), object(1)\n",
      "memory usage: 7.8+ KB\n"
     ]
    }
   ],
   "source": [
    "#Check the overall info of the data including column names and datatypes\n",
    "rain_days.info()"
   ]
  },
  {
   "cell_type": "code",
   "execution_count": 9,
   "metadata": {},
   "outputs": [],
   "source": [
    "#Import the monthly total rainfall data\n",
    "total_rain = pd.read_csv('../data/rainfall-monthly-total.csv')"
   ]
  },
  {
   "cell_type": "code",
   "execution_count": 10,
   "metadata": {},
   "outputs": [
    {
     "data": {
      "text/html": [
       "<div>\n",
       "<style scoped>\n",
       "    .dataframe tbody tr th:only-of-type {\n",
       "        vertical-align: middle;\n",
       "    }\n",
       "\n",
       "    .dataframe tbody tr th {\n",
       "        vertical-align: top;\n",
       "    }\n",
       "\n",
       "    .dataframe thead th {\n",
       "        text-align: right;\n",
       "    }\n",
       "</style>\n",
       "<table border=\"1\" class=\"dataframe\">\n",
       "  <thead>\n",
       "    <tr style=\"text-align: right;\">\n",
       "      <th></th>\n",
       "      <th>month</th>\n",
       "      <th>total_rainfall</th>\n",
       "    </tr>\n",
       "  </thead>\n",
       "  <tbody>\n",
       "    <tr>\n",
       "      <th>0</th>\n",
       "      <td>1982-01</td>\n",
       "      <td>107.1</td>\n",
       "    </tr>\n",
       "    <tr>\n",
       "      <th>1</th>\n",
       "      <td>1982-02</td>\n",
       "      <td>27.8</td>\n",
       "    </tr>\n",
       "    <tr>\n",
       "      <th>2</th>\n",
       "      <td>1982-03</td>\n",
       "      <td>160.8</td>\n",
       "    </tr>\n",
       "    <tr>\n",
       "      <th>3</th>\n",
       "      <td>1982-04</td>\n",
       "      <td>157.0</td>\n",
       "    </tr>\n",
       "    <tr>\n",
       "      <th>4</th>\n",
       "      <td>1982-05</td>\n",
       "      <td>102.2</td>\n",
       "    </tr>\n",
       "  </tbody>\n",
       "</table>\n",
       "</div>"
      ],
      "text/plain": [
       "     month  total_rainfall\n",
       "0  1982-01           107.1\n",
       "1  1982-02            27.8\n",
       "2  1982-03           160.8\n",
       "3  1982-04           157.0\n",
       "4  1982-05           102.2"
      ]
     },
     "execution_count": 10,
     "metadata": {},
     "output_type": "execute_result"
    }
   ],
   "source": [
    "#Check the first 5 rows\n",
    "total_rain.head()"
   ]
  },
  {
   "cell_type": "code",
   "execution_count": 11,
   "metadata": {},
   "outputs": [
    {
     "data": {
      "text/plain": [
       "month             0\n",
       "total_rainfall    0\n",
       "dtype: int64"
      ]
     },
     "execution_count": 11,
     "metadata": {},
     "output_type": "execute_result"
    }
   ],
   "source": [
    "#Check if there are any null values in the data\n",
    "total_rain.isnull().sum()"
   ]
  },
  {
   "cell_type": "code",
   "execution_count": 12,
   "metadata": {},
   "outputs": [
    {
     "name": "stdout",
     "output_type": "stream",
     "text": [
      "<class 'pandas.core.frame.DataFrame'>\n",
      "RangeIndex: 491 entries, 0 to 490\n",
      "Data columns (total 2 columns):\n",
      " #   Column          Non-Null Count  Dtype  \n",
      "---  ------          --------------  -----  \n",
      " 0   month           491 non-null    object \n",
      " 1   total_rainfall  491 non-null    float64\n",
      "dtypes: float64(1), object(1)\n",
      "memory usage: 7.8+ KB\n"
     ]
    }
   ],
   "source": [
    "#Check the overall info of the data including column names and datatypes\n",
    "total_rain.info()"
   ]
  },
  {
   "cell_type": "code",
   "execution_count": 13,
   "metadata": {},
   "outputs": [],
   "source": [
    "#Merge total_rain with rain days\n",
    "df_rain = rain_days.merge(total_rain, how='inner', on='month')"
   ]
  },
  {
   "cell_type": "code",
   "execution_count": 14,
   "metadata": {},
   "outputs": [
    {
     "data": {
      "text/html": [
       "<div>\n",
       "<style scoped>\n",
       "    .dataframe tbody tr th:only-of-type {\n",
       "        vertical-align: middle;\n",
       "    }\n",
       "\n",
       "    .dataframe tbody tr th {\n",
       "        vertical-align: top;\n",
       "    }\n",
       "\n",
       "    .dataframe thead th {\n",
       "        text-align: right;\n",
       "    }\n",
       "</style>\n",
       "<table border=\"1\" class=\"dataframe\">\n",
       "  <thead>\n",
       "    <tr style=\"text-align: right;\">\n",
       "      <th></th>\n",
       "      <th>month</th>\n",
       "      <th>no_of_rainy_days</th>\n",
       "      <th>total_rainfall</th>\n",
       "    </tr>\n",
       "  </thead>\n",
       "  <tbody>\n",
       "    <tr>\n",
       "      <th>0</th>\n",
       "      <td>1982-01</td>\n",
       "      <td>10</td>\n",
       "      <td>107.1</td>\n",
       "    </tr>\n",
       "    <tr>\n",
       "      <th>1</th>\n",
       "      <td>1982-02</td>\n",
       "      <td>5</td>\n",
       "      <td>27.8</td>\n",
       "    </tr>\n",
       "    <tr>\n",
       "      <th>2</th>\n",
       "      <td>1982-03</td>\n",
       "      <td>11</td>\n",
       "      <td>160.8</td>\n",
       "    </tr>\n",
       "    <tr>\n",
       "      <th>3</th>\n",
       "      <td>1982-04</td>\n",
       "      <td>14</td>\n",
       "      <td>157.0</td>\n",
       "    </tr>\n",
       "    <tr>\n",
       "      <th>4</th>\n",
       "      <td>1982-05</td>\n",
       "      <td>10</td>\n",
       "      <td>102.2</td>\n",
       "    </tr>\n",
       "  </tbody>\n",
       "</table>\n",
       "</div>"
      ],
      "text/plain": [
       "     month  no_of_rainy_days  total_rainfall\n",
       "0  1982-01                10           107.1\n",
       "1  1982-02                 5            27.8\n",
       "2  1982-03                11           160.8\n",
       "3  1982-04                14           157.0\n",
       "4  1982-05                10           102.2"
      ]
     },
     "execution_count": 14,
     "metadata": {},
     "output_type": "execute_result"
    }
   ],
   "source": [
    "#Check the first 5 rows of merged data\n",
    "df_rain.head()"
   ]
  },
  {
   "cell_type": "code",
   "execution_count": 15,
   "metadata": {},
   "outputs": [
    {
     "name": "stdout",
     "output_type": "stream",
     "text": [
      "<class 'pandas.core.frame.DataFrame'>\n",
      "Int64Index: 491 entries, 0 to 490\n",
      "Data columns (total 3 columns):\n",
      " #   Column            Non-Null Count  Dtype  \n",
      "---  ------            --------------  -----  \n",
      " 0   month             491 non-null    object \n",
      " 1   no_of_rainy_days  491 non-null    int64  \n",
      " 2   total_rainfall    491 non-null    float64\n",
      "dtypes: float64(1), int64(1), object(1)\n",
      "memory usage: 15.3+ KB\n"
     ]
    }
   ],
   "source": [
    "#Check the overall info of the data including column names and datatypes\n",
    "df_rain.info()"
   ]
  },
  {
   "cell_type": "code",
   "execution_count": 16,
   "metadata": {},
   "outputs": [],
   "source": [
    "#Import the monthly avg. RH data\n",
    "relative_humidity = pd.read_csv('../data/relative-humidity-monthly-mean.csv')"
   ]
  },
  {
   "cell_type": "code",
   "execution_count": 17,
   "metadata": {},
   "outputs": [
    {
     "data": {
      "text/html": [
       "<div>\n",
       "<style scoped>\n",
       "    .dataframe tbody tr th:only-of-type {\n",
       "        vertical-align: middle;\n",
       "    }\n",
       "\n",
       "    .dataframe tbody tr th {\n",
       "        vertical-align: top;\n",
       "    }\n",
       "\n",
       "    .dataframe thead th {\n",
       "        text-align: right;\n",
       "    }\n",
       "</style>\n",
       "<table border=\"1\" class=\"dataframe\">\n",
       "  <thead>\n",
       "    <tr style=\"text-align: right;\">\n",
       "      <th></th>\n",
       "      <th>month</th>\n",
       "      <th>mean_rh</th>\n",
       "    </tr>\n",
       "  </thead>\n",
       "  <tbody>\n",
       "    <tr>\n",
       "      <th>0</th>\n",
       "      <td>1982-01</td>\n",
       "      <td>81.2</td>\n",
       "    </tr>\n",
       "    <tr>\n",
       "      <th>1</th>\n",
       "      <td>1982-02</td>\n",
       "      <td>79.5</td>\n",
       "    </tr>\n",
       "    <tr>\n",
       "      <th>2</th>\n",
       "      <td>1982-03</td>\n",
       "      <td>82.3</td>\n",
       "    </tr>\n",
       "    <tr>\n",
       "      <th>3</th>\n",
       "      <td>1982-04</td>\n",
       "      <td>85.9</td>\n",
       "    </tr>\n",
       "    <tr>\n",
       "      <th>4</th>\n",
       "      <td>1982-05</td>\n",
       "      <td>83.2</td>\n",
       "    </tr>\n",
       "  </tbody>\n",
       "</table>\n",
       "</div>"
      ],
      "text/plain": [
       "     month  mean_rh\n",
       "0  1982-01     81.2\n",
       "1  1982-02     79.5\n",
       "2  1982-03     82.3\n",
       "3  1982-04     85.9\n",
       "4  1982-05     83.2"
      ]
     },
     "execution_count": 17,
     "metadata": {},
     "output_type": "execute_result"
    }
   ],
   "source": [
    "#Check the first 5 rows\n",
    "relative_humidity.head()"
   ]
  },
  {
   "cell_type": "code",
   "execution_count": 18,
   "metadata": {},
   "outputs": [
    {
     "data": {
      "text/plain": [
       "month      0\n",
       "mean_rh    0\n",
       "dtype: int64"
      ]
     },
     "execution_count": 18,
     "metadata": {},
     "output_type": "execute_result"
    }
   ],
   "source": [
    "#Check if there are any null values in the data\n",
    "relative_humidity.isnull().sum()"
   ]
  },
  {
   "cell_type": "code",
   "execution_count": 19,
   "metadata": {},
   "outputs": [
    {
     "name": "stdout",
     "output_type": "stream",
     "text": [
      "<class 'pandas.core.frame.DataFrame'>\n",
      "RangeIndex: 491 entries, 0 to 490\n",
      "Data columns (total 2 columns):\n",
      " #   Column   Non-Null Count  Dtype  \n",
      "---  ------   --------------  -----  \n",
      " 0   month    491 non-null    object \n",
      " 1   mean_rh  491 non-null    float64\n",
      "dtypes: float64(1), object(1)\n",
      "memory usage: 7.8+ KB\n"
     ]
    }
   ],
   "source": [
    "#Check the overall info of the data including column names and datatypes\n",
    "relative_humidity.info()"
   ]
  },
  {
   "cell_type": "code",
   "execution_count": 20,
   "metadata": {},
   "outputs": [],
   "source": [
    "#Merge df_rain with relative_humidity\n",
    "df_final = df_rain.merge(relative_humidity, how='inner', on='month')"
   ]
  },
  {
   "cell_type": "code",
   "execution_count": 21,
   "metadata": {},
   "outputs": [
    {
     "data": {
      "text/html": [
       "<div>\n",
       "<style scoped>\n",
       "    .dataframe tbody tr th:only-of-type {\n",
       "        vertical-align: middle;\n",
       "    }\n",
       "\n",
       "    .dataframe tbody tr th {\n",
       "        vertical-align: top;\n",
       "    }\n",
       "\n",
       "    .dataframe thead th {\n",
       "        text-align: right;\n",
       "    }\n",
       "</style>\n",
       "<table border=\"1\" class=\"dataframe\">\n",
       "  <thead>\n",
       "    <tr style=\"text-align: right;\">\n",
       "      <th></th>\n",
       "      <th>month</th>\n",
       "      <th>no_of_rainy_days</th>\n",
       "      <th>total_rainfall</th>\n",
       "      <th>mean_rh</th>\n",
       "    </tr>\n",
       "  </thead>\n",
       "  <tbody>\n",
       "    <tr>\n",
       "      <th>0</th>\n",
       "      <td>1982-01</td>\n",
       "      <td>10</td>\n",
       "      <td>107.1</td>\n",
       "      <td>81.2</td>\n",
       "    </tr>\n",
       "    <tr>\n",
       "      <th>1</th>\n",
       "      <td>1982-02</td>\n",
       "      <td>5</td>\n",
       "      <td>27.8</td>\n",
       "      <td>79.5</td>\n",
       "    </tr>\n",
       "    <tr>\n",
       "      <th>2</th>\n",
       "      <td>1982-03</td>\n",
       "      <td>11</td>\n",
       "      <td>160.8</td>\n",
       "      <td>82.3</td>\n",
       "    </tr>\n",
       "    <tr>\n",
       "      <th>3</th>\n",
       "      <td>1982-04</td>\n",
       "      <td>14</td>\n",
       "      <td>157.0</td>\n",
       "      <td>85.9</td>\n",
       "    </tr>\n",
       "    <tr>\n",
       "      <th>4</th>\n",
       "      <td>1982-05</td>\n",
       "      <td>10</td>\n",
       "      <td>102.2</td>\n",
       "      <td>83.2</td>\n",
       "    </tr>\n",
       "  </tbody>\n",
       "</table>\n",
       "</div>"
      ],
      "text/plain": [
       "     month  no_of_rainy_days  total_rainfall  mean_rh\n",
       "0  1982-01                10           107.1     81.2\n",
       "1  1982-02                 5            27.8     79.5\n",
       "2  1982-03                11           160.8     82.3\n",
       "3  1982-04                14           157.0     85.9\n",
       "4  1982-05                10           102.2     83.2"
      ]
     },
     "execution_count": 21,
     "metadata": {},
     "output_type": "execute_result"
    }
   ],
   "source": [
    "#Check the first 5 rows of merged data\n",
    "df_final.head()"
   ]
  },
  {
   "cell_type": "code",
   "execution_count": 22,
   "metadata": {},
   "outputs": [
    {
     "name": "stdout",
     "output_type": "stream",
     "text": [
      "<class 'pandas.core.frame.DataFrame'>\n",
      "Int64Index: 491 entries, 0 to 490\n",
      "Data columns (total 4 columns):\n",
      " #   Column            Non-Null Count  Dtype  \n",
      "---  ------            --------------  -----  \n",
      " 0   month             491 non-null    object \n",
      " 1   no_of_rainy_days  491 non-null    int64  \n",
      " 2   total_rainfall    491 non-null    float64\n",
      " 3   mean_rh           491 non-null    float64\n",
      "dtypes: float64(2), int64(1), object(1)\n",
      "memory usage: 19.2+ KB\n"
     ]
    }
   ],
   "source": [
    "#Check the overall info of the data including column names and datatypes\n",
    "df_final.info()"
   ]
  },
  {
   "cell_type": "code",
   "execution_count": 23,
   "metadata": {},
   "outputs": [],
   "source": [
    "#Split the year and month\n",
    "df_final['year'] = df_final['month'].map(lambda x: int(x.split('-')[0]))\n",
    "df_final['month'] = df_final['month'].map(lambda x: int(x.split('-')[1]))"
   ]
  },
  {
   "cell_type": "code",
   "execution_count": 24,
   "metadata": {},
   "outputs": [
    {
     "data": {
      "text/html": [
       "<div>\n",
       "<style scoped>\n",
       "    .dataframe tbody tr th:only-of-type {\n",
       "        vertical-align: middle;\n",
       "    }\n",
       "\n",
       "    .dataframe tbody tr th {\n",
       "        vertical-align: top;\n",
       "    }\n",
       "\n",
       "    .dataframe thead th {\n",
       "        text-align: right;\n",
       "    }\n",
       "</style>\n",
       "<table border=\"1\" class=\"dataframe\">\n",
       "  <thead>\n",
       "    <tr style=\"text-align: right;\">\n",
       "      <th></th>\n",
       "      <th>month</th>\n",
       "      <th>no_of_rainy_days</th>\n",
       "      <th>total_rainfall</th>\n",
       "      <th>mean_rh</th>\n",
       "      <th>year</th>\n",
       "    </tr>\n",
       "  </thead>\n",
       "  <tbody>\n",
       "    <tr>\n",
       "      <th>0</th>\n",
       "      <td>1</td>\n",
       "      <td>10</td>\n",
       "      <td>107.1</td>\n",
       "      <td>81.2</td>\n",
       "      <td>1982</td>\n",
       "    </tr>\n",
       "    <tr>\n",
       "      <th>1</th>\n",
       "      <td>2</td>\n",
       "      <td>5</td>\n",
       "      <td>27.8</td>\n",
       "      <td>79.5</td>\n",
       "      <td>1982</td>\n",
       "    </tr>\n",
       "    <tr>\n",
       "      <th>2</th>\n",
       "      <td>3</td>\n",
       "      <td>11</td>\n",
       "      <td>160.8</td>\n",
       "      <td>82.3</td>\n",
       "      <td>1982</td>\n",
       "    </tr>\n",
       "    <tr>\n",
       "      <th>3</th>\n",
       "      <td>4</td>\n",
       "      <td>14</td>\n",
       "      <td>157.0</td>\n",
       "      <td>85.9</td>\n",
       "      <td>1982</td>\n",
       "    </tr>\n",
       "    <tr>\n",
       "      <th>4</th>\n",
       "      <td>5</td>\n",
       "      <td>10</td>\n",
       "      <td>102.2</td>\n",
       "      <td>83.2</td>\n",
       "      <td>1982</td>\n",
       "    </tr>\n",
       "  </tbody>\n",
       "</table>\n",
       "</div>"
      ],
      "text/plain": [
       "   month  no_of_rainy_days  total_rainfall  mean_rh  year\n",
       "0      1                10           107.1     81.2  1982\n",
       "1      2                 5            27.8     79.5  1982\n",
       "2      3                11           160.8     82.3  1982\n",
       "3      4                14           157.0     85.9  1982\n",
       "4      5                10           102.2     83.2  1982"
      ]
     },
     "execution_count": 24,
     "metadata": {},
     "output_type": "execute_result"
    }
   ],
   "source": [
    "#Check the first 5 rows of final data\n",
    "df_final.head()"
   ]
  },
  {
   "cell_type": "code",
   "execution_count": 25,
   "metadata": {},
   "outputs": [
    {
     "name": "stdout",
     "output_type": "stream",
     "text": [
      "<class 'pandas.core.frame.DataFrame'>\n",
      "Int64Index: 491 entries, 0 to 490\n",
      "Data columns (total 5 columns):\n",
      " #   Column            Non-Null Count  Dtype  \n",
      "---  ------            --------------  -----  \n",
      " 0   month             491 non-null    int64  \n",
      " 1   no_of_rainy_days  491 non-null    int64  \n",
      " 2   total_rainfall    491 non-null    float64\n",
      " 3   mean_rh           491 non-null    float64\n",
      " 4   year              491 non-null    int64  \n",
      "dtypes: float64(2), int64(3)\n",
      "memory usage: 23.0 KB\n"
     ]
    }
   ],
   "source": [
    "#Check the overall info of the data including column names and datatypes\n",
    "df_final.info()"
   ]
  },
  {
   "cell_type": "code",
   "execution_count": 26,
   "metadata": {},
   "outputs": [],
   "source": [
    "#Output the final data to csv file\n",
    "df_final.to_csv('../data/rainfall_final.csv', index=False)"
   ]
  },
  {
   "cell_type": "code",
   "execution_count": 27,
   "metadata": {},
   "outputs": [],
   "source": [
    "#Import the daily rainfall data in 2021 (additional data 1)\n",
    "daily_weather_SG = pd.read_csv('../data/DAILY2021DATA_S24.csv')"
   ]
  },
  {
   "cell_type": "code",
   "execution_count": 28,
   "metadata": {},
   "outputs": [
    {
     "data": {
      "text/html": [
       "<div>\n",
       "<style scoped>\n",
       "    .dataframe tbody tr th:only-of-type {\n",
       "        vertical-align: middle;\n",
       "    }\n",
       "\n",
       "    .dataframe tbody tr th {\n",
       "        vertical-align: top;\n",
       "    }\n",
       "\n",
       "    .dataframe thead th {\n",
       "        text-align: right;\n",
       "    }\n",
       "</style>\n",
       "<table border=\"1\" class=\"dataframe\">\n",
       "  <thead>\n",
       "    <tr style=\"text-align: right;\">\n",
       "      <th></th>\n",
       "      <th>Station</th>\n",
       "      <th>Year</th>\n",
       "      <th>Month</th>\n",
       "      <th>Day</th>\n",
       "      <th>Daily Rainfall Total (mm)</th>\n",
       "      <th>Highest 30 min Rainfall (mm)</th>\n",
       "      <th>Highest 60 min Rainfall (mm)</th>\n",
       "      <th>Highest 120 min Rainfall (mm)</th>\n",
       "      <th>Mean Temperature (°C)</th>\n",
       "      <th>Maximum Temperature (°C)</th>\n",
       "      <th>Minimum Temperature (°C)</th>\n",
       "      <th>Mean Wind Speed (km/h)</th>\n",
       "      <th>Max Wind Speed (km/h)</th>\n",
       "    </tr>\n",
       "  </thead>\n",
       "  <tbody>\n",
       "    <tr>\n",
       "      <th>0</th>\n",
       "      <td>Changi</td>\n",
       "      <td>2021</td>\n",
       "      <td>12</td>\n",
       "      <td>4</td>\n",
       "      <td>0.0</td>\n",
       "      <td>0.0</td>\n",
       "      <td>0.0</td>\n",
       "      <td>0.0</td>\n",
       "      <td>27.5</td>\n",
       "      <td>31.2</td>\n",
       "      <td>25.5</td>\n",
       "      <td>9.0</td>\n",
       "      <td>38.9</td>\n",
       "    </tr>\n",
       "    <tr>\n",
       "      <th>1</th>\n",
       "      <td>Changi</td>\n",
       "      <td>2021</td>\n",
       "      <td>12</td>\n",
       "      <td>5</td>\n",
       "      <td>0.0</td>\n",
       "      <td>0.0</td>\n",
       "      <td>0.0</td>\n",
       "      <td>0.0</td>\n",
       "      <td>27.3</td>\n",
       "      <td>30.7</td>\n",
       "      <td>26.0</td>\n",
       "      <td>8.5</td>\n",
       "      <td>35.2</td>\n",
       "    </tr>\n",
       "    <tr>\n",
       "      <th>2</th>\n",
       "      <td>Changi</td>\n",
       "      <td>2021</td>\n",
       "      <td>12</td>\n",
       "      <td>6</td>\n",
       "      <td>0.0</td>\n",
       "      <td>0.0</td>\n",
       "      <td>0.0</td>\n",
       "      <td>0.0</td>\n",
       "      <td>27.8</td>\n",
       "      <td>31.5</td>\n",
       "      <td>25.9</td>\n",
       "      <td>8.6</td>\n",
       "      <td>31.5</td>\n",
       "    </tr>\n",
       "    <tr>\n",
       "      <th>3</th>\n",
       "      <td>Changi</td>\n",
       "      <td>2021</td>\n",
       "      <td>12</td>\n",
       "      <td>7</td>\n",
       "      <td>0.0</td>\n",
       "      <td>0.0</td>\n",
       "      <td>0.0</td>\n",
       "      <td>0.0</td>\n",
       "      <td>28.1</td>\n",
       "      <td>31.8</td>\n",
       "      <td>25.7</td>\n",
       "      <td>10.9</td>\n",
       "      <td>38.9</td>\n",
       "    </tr>\n",
       "    <tr>\n",
       "      <th>4</th>\n",
       "      <td>Changi</td>\n",
       "      <td>2021</td>\n",
       "      <td>12</td>\n",
       "      <td>8</td>\n",
       "      <td>0.0</td>\n",
       "      <td>0.0</td>\n",
       "      <td>0.0</td>\n",
       "      <td>0.0</td>\n",
       "      <td>28.0</td>\n",
       "      <td>31.2</td>\n",
       "      <td>25.9</td>\n",
       "      <td>11.8</td>\n",
       "      <td>44.4</td>\n",
       "    </tr>\n",
       "  </tbody>\n",
       "</table>\n",
       "</div>"
      ],
      "text/plain": [
       "  Station  Year  Month  Day  Daily Rainfall Total (mm)  \\\n",
       "0  Changi  2021     12    4                        0.0   \n",
       "1  Changi  2021     12    5                        0.0   \n",
       "2  Changi  2021     12    6                        0.0   \n",
       "3  Changi  2021     12    7                        0.0   \n",
       "4  Changi  2021     12    8                        0.0   \n",
       "\n",
       "   Highest 30 min Rainfall (mm)  Highest 60 min Rainfall (mm)  \\\n",
       "0                           0.0                           0.0   \n",
       "1                           0.0                           0.0   \n",
       "2                           0.0                           0.0   \n",
       "3                           0.0                           0.0   \n",
       "4                           0.0                           0.0   \n",
       "\n",
       "   Highest 120 min Rainfall (mm)  Mean Temperature (°C)  \\\n",
       "0                            0.0                   27.5   \n",
       "1                            0.0                   27.3   \n",
       "2                            0.0                   27.8   \n",
       "3                            0.0                   28.1   \n",
       "4                            0.0                   28.0   \n",
       "\n",
       "   Maximum Temperature (°C)  Minimum Temperature (°C)  Mean Wind Speed (km/h)  \\\n",
       "0                      31.2                      25.5                     9.0   \n",
       "1                      30.7                      26.0                     8.5   \n",
       "2                      31.5                      25.9                     8.6   \n",
       "3                      31.8                      25.7                    10.9   \n",
       "4                      31.2                      25.9                    11.8   \n",
       "\n",
       "  Max Wind Speed (km/h)  \n",
       "0                  38.9  \n",
       "1                  35.2  \n",
       "2                  31.5  \n",
       "3                  38.9  \n",
       "4                  44.4  "
      ]
     },
     "execution_count": 28,
     "metadata": {},
     "output_type": "execute_result"
    }
   ],
   "source": [
    "#Check the first 5 rows\n",
    "daily_weather_SG.head()"
   ]
  },
  {
   "cell_type": "code",
   "execution_count": 29,
   "metadata": {},
   "outputs": [],
   "source": [
    "#Get the column names and store as a list\n",
    "column_names = list(daily_weather_SG.columns)"
   ]
  },
  {
   "cell_type": "code",
   "execution_count": 30,
   "metadata": {},
   "outputs": [
    {
     "data": {
      "text/plain": [
       "['station',\n",
       " 'year',\n",
       " 'month',\n",
       " 'day',\n",
       " 'daily rainfall total (mm)',\n",
       " 'highest 30 min rainfall (mm)',\n",
       " 'highest 60 min rainfall (mm)',\n",
       " 'highest 120 min rainfall (mm)',\n",
       " 'mean temperature (°c)',\n",
       " 'maximum temperature (°c)',\n",
       " 'minimum temperature (°c)',\n",
       " 'mean wind speed (km/h)',\n",
       " 'max wind speed (km/h)']"
      ]
     },
     "execution_count": 30,
     "metadata": {},
     "output_type": "execute_result"
    }
   ],
   "source": [
    "#Downcase the column names\n",
    "column_names_update = [x.lower() for x in column_names]\n",
    "column_names_update"
   ]
  },
  {
   "cell_type": "code",
   "execution_count": 31,
   "metadata": {},
   "outputs": [],
   "source": [
    "#Replace the space with underscore in column names\n",
    "column_names_update = [x.replace(' ', '_') for x in column_names_update]"
   ]
  },
  {
   "cell_type": "code",
   "execution_count": 32,
   "metadata": {},
   "outputs": [],
   "source": [
    "#Rename the column names in dataframe\n",
    "column_renames = {key: value for key, value in zip(column_names, column_names_update)}\n",
    "daily_weather_SG.rename(columns=column_renames, inplace=True)"
   ]
  },
  {
   "cell_type": "code",
   "execution_count": 33,
   "metadata": {},
   "outputs": [
    {
     "data": {
      "text/plain": [
       "station                          0\n",
       "year                             0\n",
       "month                            0\n",
       "day                              0\n",
       "daily_rainfall_total_(mm)        0\n",
       "highest_30_min_rainfall_(mm)     0\n",
       "highest_60_min_rainfall_(mm)     0\n",
       "highest_120_min_rainfall_(mm)    0\n",
       "mean_temperature_(°c)            0\n",
       "maximum_temperature_(°c)         0\n",
       "minimum_temperature_(°c)         0\n",
       "mean_wind_speed_(km/h)           0\n",
       "max_wind_speed_(km/h)            0\n",
       "dtype: int64"
      ]
     },
     "execution_count": 33,
     "metadata": {},
     "output_type": "execute_result"
    }
   ],
   "source": [
    "#Check if there are any null values in the data\n",
    "daily_weather_SG.isnull().sum()"
   ]
  },
  {
   "cell_type": "code",
   "execution_count": 34,
   "metadata": {},
   "outputs": [
    {
     "name": "stdout",
     "output_type": "stream",
     "text": [
      "<class 'pandas.core.frame.DataFrame'>\n",
      "RangeIndex: 365 entries, 0 to 364\n",
      "Data columns (total 13 columns):\n",
      " #   Column                         Non-Null Count  Dtype  \n",
      "---  ------                         --------------  -----  \n",
      " 0   station                        365 non-null    object \n",
      " 1   year                           365 non-null    int64  \n",
      " 2   month                          365 non-null    int64  \n",
      " 3   day                            365 non-null    int64  \n",
      " 4   daily_rainfall_total_(mm)      365 non-null    float64\n",
      " 5   highest_30_min_rainfall_(mm)   365 non-null    float64\n",
      " 6   highest_60_min_rainfall_(mm)   365 non-null    float64\n",
      " 7   highest_120_min_rainfall_(mm)  365 non-null    float64\n",
      " 8   mean_temperature_(°c)          365 non-null    float64\n",
      " 9   maximum_temperature_(°c)       365 non-null    float64\n",
      " 10  minimum_temperature_(°c)       365 non-null    float64\n",
      " 11  mean_wind_speed_(km/h)         365 non-null    float64\n",
      " 12  max_wind_speed_(km/h)          365 non-null    object \n",
      "dtypes: float64(8), int64(3), object(2)\n",
      "memory usage: 37.2+ KB\n"
     ]
    }
   ],
   "source": [
    "#Check the overall info of the data including column names and datatypes (Noted the datatype of Max Wind Speed is not float but this data will not be used in this project)\n",
    "daily_weather_SG.info()"
   ]
  },
  {
   "cell_type": "code",
   "execution_count": 35,
   "metadata": {},
   "outputs": [],
   "source": [
    "#Sort the data by Month and Day\n",
    "daily_weather_SG = daily_weather_SG.sort_values(by=['month', 'day'])"
   ]
  },
  {
   "cell_type": "code",
   "execution_count": 36,
   "metadata": {},
   "outputs": [
    {
     "data": {
      "text/html": [
       "<div>\n",
       "<style scoped>\n",
       "    .dataframe tbody tr th:only-of-type {\n",
       "        vertical-align: middle;\n",
       "    }\n",
       "\n",
       "    .dataframe tbody tr th {\n",
       "        vertical-align: top;\n",
       "    }\n",
       "\n",
       "    .dataframe thead th {\n",
       "        text-align: right;\n",
       "    }\n",
       "</style>\n",
       "<table border=\"1\" class=\"dataframe\">\n",
       "  <thead>\n",
       "    <tr style=\"text-align: right;\">\n",
       "      <th></th>\n",
       "      <th>station</th>\n",
       "      <th>year</th>\n",
       "      <th>month</th>\n",
       "      <th>day</th>\n",
       "      <th>daily_rainfall_total_(mm)</th>\n",
       "      <th>highest_30_min_rainfall_(mm)</th>\n",
       "      <th>highest_60_min_rainfall_(mm)</th>\n",
       "      <th>highest_120_min_rainfall_(mm)</th>\n",
       "      <th>mean_temperature_(°c)</th>\n",
       "      <th>maximum_temperature_(°c)</th>\n",
       "      <th>minimum_temperature_(°c)</th>\n",
       "      <th>mean_wind_speed_(km/h)</th>\n",
       "      <th>max_wind_speed_(km/h)</th>\n",
       "      <th>weather_condition</th>\n",
       "    </tr>\n",
       "  </thead>\n",
       "  <tbody>\n",
       "    <tr>\n",
       "      <th>334</th>\n",
       "      <td>Changi</td>\n",
       "      <td>2021</td>\n",
       "      <td>1</td>\n",
       "      <td>1</td>\n",
       "      <td>134.4</td>\n",
       "      <td>21.2</td>\n",
       "      <td>29.6</td>\n",
       "      <td>45.4</td>\n",
       "      <td>24.5</td>\n",
       "      <td>26.0</td>\n",
       "      <td>21.9</td>\n",
       "      <td>9.6</td>\n",
       "      <td>44.4</td>\n",
       "      <td>Rain</td>\n",
       "    </tr>\n",
       "    <tr>\n",
       "      <th>335</th>\n",
       "      <td>Changi</td>\n",
       "      <td>2021</td>\n",
       "      <td>1</td>\n",
       "      <td>2</td>\n",
       "      <td>210.6</td>\n",
       "      <td>23.6</td>\n",
       "      <td>40.2</td>\n",
       "      <td>61.6</td>\n",
       "      <td>23.1</td>\n",
       "      <td>24.1</td>\n",
       "      <td>21.7</td>\n",
       "      <td>7.9</td>\n",
       "      <td>37</td>\n",
       "      <td>Rain</td>\n",
       "    </tr>\n",
       "    <tr>\n",
       "      <th>336</th>\n",
       "      <td>Changi</td>\n",
       "      <td>2021</td>\n",
       "      <td>1</td>\n",
       "      <td>3</td>\n",
       "      <td>5.6</td>\n",
       "      <td>1.0</td>\n",
       "      <td>2.0</td>\n",
       "      <td>2.6</td>\n",
       "      <td>24.0</td>\n",
       "      <td>25.0</td>\n",
       "      <td>21.7</td>\n",
       "      <td>4.5</td>\n",
       "      <td>14.8</td>\n",
       "      <td>Rain</td>\n",
       "    </tr>\n",
       "    <tr>\n",
       "      <th>337</th>\n",
       "      <td>Changi</td>\n",
       "      <td>2021</td>\n",
       "      <td>1</td>\n",
       "      <td>4</td>\n",
       "      <td>0.0</td>\n",
       "      <td>0.0</td>\n",
       "      <td>0.0</td>\n",
       "      <td>0.0</td>\n",
       "      <td>25.2</td>\n",
       "      <td>28.0</td>\n",
       "      <td>22.9</td>\n",
       "      <td>5.1</td>\n",
       "      <td>18.5</td>\n",
       "      <td>No Rain</td>\n",
       "    </tr>\n",
       "    <tr>\n",
       "      <th>338</th>\n",
       "      <td>Changi</td>\n",
       "      <td>2021</td>\n",
       "      <td>1</td>\n",
       "      <td>5</td>\n",
       "      <td>4.2</td>\n",
       "      <td>4.2</td>\n",
       "      <td>4.2</td>\n",
       "      <td>4.2</td>\n",
       "      <td>26.3</td>\n",
       "      <td>31.6</td>\n",
       "      <td>23.8</td>\n",
       "      <td>8.8</td>\n",
       "      <td>29.6</td>\n",
       "      <td>Rain</td>\n",
       "    </tr>\n",
       "  </tbody>\n",
       "</table>\n",
       "</div>"
      ],
      "text/plain": [
       "    station  year  month  day  daily_rainfall_total_(mm)  \\\n",
       "334  Changi  2021      1    1                      134.4   \n",
       "335  Changi  2021      1    2                      210.6   \n",
       "336  Changi  2021      1    3                        5.6   \n",
       "337  Changi  2021      1    4                        0.0   \n",
       "338  Changi  2021      1    5                        4.2   \n",
       "\n",
       "     highest_30_min_rainfall_(mm)  highest_60_min_rainfall_(mm)  \\\n",
       "334                          21.2                          29.6   \n",
       "335                          23.6                          40.2   \n",
       "336                           1.0                           2.0   \n",
       "337                           0.0                           0.0   \n",
       "338                           4.2                           4.2   \n",
       "\n",
       "     highest_120_min_rainfall_(mm)  mean_temperature_(°c)  \\\n",
       "334                           45.4                   24.5   \n",
       "335                           61.6                   23.1   \n",
       "336                            2.6                   24.0   \n",
       "337                            0.0                   25.2   \n",
       "338                            4.2                   26.3   \n",
       "\n",
       "     maximum_temperature_(°c)  minimum_temperature_(°c)  \\\n",
       "334                      26.0                      21.9   \n",
       "335                      24.1                      21.7   \n",
       "336                      25.0                      21.7   \n",
       "337                      28.0                      22.9   \n",
       "338                      31.6                      23.8   \n",
       "\n",
       "     mean_wind_speed_(km/h) max_wind_speed_(km/h) weather_condition  \n",
       "334                     9.6                  44.4              Rain  \n",
       "335                     7.9                    37              Rain  \n",
       "336                     4.5                  14.8              Rain  \n",
       "337                     5.1                  18.5           No Rain  \n",
       "338                     8.8                  29.6              Rain  "
      ]
     },
     "execution_count": 36,
     "metadata": {},
     "output_type": "execute_result"
    }
   ],
   "source": [
    "#Feature engineering: add one column indicate the day was rain or not (A day is considered “rained” if the total rainfall for that day is 0.2mm or more)\n",
    "daily_weather_SG['weather_condition'] = daily_weather_SG['daily_rainfall_total_(mm)'].map(lambda x: 'Rain' if x >= 0.2 else 'No Rain')\n",
    "#Check the first 5 rows\n",
    "daily_weather_SG.head()"
   ]
  },
  {
   "cell_type": "code",
   "execution_count": 37,
   "metadata": {},
   "outputs": [],
   "source": [
    "#Define a function to get the RH data from API (additional data 2) and calculate the mean value of RH data\n",
    "\n",
    "import requests\n",
    "import json\n",
    "\n",
    "def get_RH(url):\n",
    "    # get data from sg website\n",
    "    data = requests.get(url)\n",
    "    data_json = json.loads(data.text)\n",
    "    data_json['items']\n",
    "    \n",
    "    RH_data = []\n",
    "    for data in data_json['items']:\n",
    "        readings = data['readings']\n",
    "        for reading in readings:\n",
    "            # choose data of Changi\n",
    "            if reading['station_id'] == 'S24':\n",
    "                RH_data.append(reading['value'])\n",
    "    if RH_data:\n",
    "        return np.mean(RH_data)\n",
    "    else:\n",
    "        return None"
   ]
  },
  {
   "cell_type": "code",
   "execution_count": 38,
   "metadata": {},
   "outputs": [],
   "source": [
    "#Create the subclass from the Thread class\n",
    "\n",
    "from threading import Thread\n",
    "# use multithreading\n",
    "\n",
    "class Download(Thread):\n",
    "\n",
    "    def __init__(self, url, date):\n",
    "        super().__init__()\n",
    "        self.url = url\n",
    "        self.date = date\n",
    "\n",
    "    def run(self):\n",
    "        mean_RH = get_RH(self.url)\n",
    "        # collect daily mean RH\n",
    "        mean_RHs[self.date] = mean_RH"
   ]
  },
  {
   "cell_type": "code",
   "execution_count": 39,
   "metadata": {},
   "outputs": [
    {
     "name": "stdout",
     "output_type": "stream",
     "text": [
      "2021-01-01    88.229958\n",
      "2021-01-02          NaN\n",
      "2021-01-03          NaN\n",
      "2021-01-04          NaN\n",
      "2021-01-05    88.498522\n",
      "                ...    \n",
      "2021-12-27    75.846207\n",
      "2021-12-28    75.585177\n",
      "2021-12-29    78.415310\n",
      "2021-12-30    80.176200\n",
      "2021-12-31    90.009534\n",
      "Length: 365, dtype: float64\n"
     ]
    }
   ],
   "source": [
    "#Get the relative humidity data (per minute) concurrently in the same process space, collect the mean value per day and return as a pd Series\n",
    "\n",
    "mean_RHs = {}\n",
    "\n",
    "dates = pd.date_range('2021-01-01', '2021-12-31').strftime(\"%Y-%m-%d\").to_list()\n",
    "\n",
    "# creat a pool for multithreading\n",
    "pool = []\n",
    "for date in dates:\n",
    "    url = r'https://api.data.gov.sg/v1/environment/relative-humidity?date={}'.format(date)\n",
    "    p = Download(url, date)\n",
    "    p.start()\n",
    "    pool.append(p)\n",
    "for p in pool:\n",
    "    p.join()\n",
    "    \n",
    "RH_2021_s = pd.Series(mean_RHs).sort_index()\n",
    "print(RH_2021_s)\n",
    "\n",
    "# 3 NaN value\n",
    "# not all daily data are calculated from entire RH data"
   ]
  },
  {
   "cell_type": "code",
   "execution_count": 40,
   "metadata": {},
   "outputs": [
    {
     "data": {
      "text/html": [
       "<div>\n",
       "<style scoped>\n",
       "    .dataframe tbody tr th:only-of-type {\n",
       "        vertical-align: middle;\n",
       "    }\n",
       "\n",
       "    .dataframe tbody tr th {\n",
       "        vertical-align: top;\n",
       "    }\n",
       "\n",
       "    .dataframe thead th {\n",
       "        text-align: right;\n",
       "    }\n",
       "</style>\n",
       "<table border=\"1\" class=\"dataframe\">\n",
       "  <thead>\n",
       "    <tr style=\"text-align: right;\">\n",
       "      <th></th>\n",
       "      <th>station</th>\n",
       "      <th>year</th>\n",
       "      <th>month</th>\n",
       "      <th>day</th>\n",
       "      <th>daily_rainfall_total_(mm)</th>\n",
       "      <th>highest_30_min_rainfall_(mm)</th>\n",
       "      <th>highest_60_min_rainfall_(mm)</th>\n",
       "      <th>highest_120_min_rainfall_(mm)</th>\n",
       "      <th>mean_temperature_(°c)</th>\n",
       "      <th>maximum_temperature_(°c)</th>\n",
       "      <th>minimum_temperature_(°c)</th>\n",
       "      <th>mean_wind_speed_(km/h)</th>\n",
       "      <th>max_wind_speed_(km/h)</th>\n",
       "      <th>weather_condition</th>\n",
       "      <th>relative_humidity_(%)</th>\n",
       "    </tr>\n",
       "  </thead>\n",
       "  <tbody>\n",
       "    <tr>\n",
       "      <th>334</th>\n",
       "      <td>Changi</td>\n",
       "      <td>2021</td>\n",
       "      <td>1</td>\n",
       "      <td>1</td>\n",
       "      <td>134.4</td>\n",
       "      <td>21.2</td>\n",
       "      <td>29.6</td>\n",
       "      <td>45.4</td>\n",
       "      <td>24.5</td>\n",
       "      <td>26.0</td>\n",
       "      <td>21.9</td>\n",
       "      <td>9.6</td>\n",
       "      <td>44.4</td>\n",
       "      <td>Rain</td>\n",
       "      <td>88.229958</td>\n",
       "    </tr>\n",
       "    <tr>\n",
       "      <th>335</th>\n",
       "      <td>Changi</td>\n",
       "      <td>2021</td>\n",
       "      <td>1</td>\n",
       "      <td>2</td>\n",
       "      <td>210.6</td>\n",
       "      <td>23.6</td>\n",
       "      <td>40.2</td>\n",
       "      <td>61.6</td>\n",
       "      <td>23.1</td>\n",
       "      <td>24.1</td>\n",
       "      <td>21.7</td>\n",
       "      <td>7.9</td>\n",
       "      <td>37</td>\n",
       "      <td>Rain</td>\n",
       "      <td>NaN</td>\n",
       "    </tr>\n",
       "    <tr>\n",
       "      <th>336</th>\n",
       "      <td>Changi</td>\n",
       "      <td>2021</td>\n",
       "      <td>1</td>\n",
       "      <td>3</td>\n",
       "      <td>5.6</td>\n",
       "      <td>1.0</td>\n",
       "      <td>2.0</td>\n",
       "      <td>2.6</td>\n",
       "      <td>24.0</td>\n",
       "      <td>25.0</td>\n",
       "      <td>21.7</td>\n",
       "      <td>4.5</td>\n",
       "      <td>14.8</td>\n",
       "      <td>Rain</td>\n",
       "      <td>NaN</td>\n",
       "    </tr>\n",
       "    <tr>\n",
       "      <th>337</th>\n",
       "      <td>Changi</td>\n",
       "      <td>2021</td>\n",
       "      <td>1</td>\n",
       "      <td>4</td>\n",
       "      <td>0.0</td>\n",
       "      <td>0.0</td>\n",
       "      <td>0.0</td>\n",
       "      <td>0.0</td>\n",
       "      <td>25.2</td>\n",
       "      <td>28.0</td>\n",
       "      <td>22.9</td>\n",
       "      <td>5.1</td>\n",
       "      <td>18.5</td>\n",
       "      <td>No Rain</td>\n",
       "      <td>NaN</td>\n",
       "    </tr>\n",
       "    <tr>\n",
       "      <th>338</th>\n",
       "      <td>Changi</td>\n",
       "      <td>2021</td>\n",
       "      <td>1</td>\n",
       "      <td>5</td>\n",
       "      <td>4.2</td>\n",
       "      <td>4.2</td>\n",
       "      <td>4.2</td>\n",
       "      <td>4.2</td>\n",
       "      <td>26.3</td>\n",
       "      <td>31.6</td>\n",
       "      <td>23.8</td>\n",
       "      <td>8.8</td>\n",
       "      <td>29.6</td>\n",
       "      <td>Rain</td>\n",
       "      <td>88.498522</td>\n",
       "    </tr>\n",
       "  </tbody>\n",
       "</table>\n",
       "</div>"
      ],
      "text/plain": [
       "    station  year  month  day  daily_rainfall_total_(mm)  \\\n",
       "334  Changi  2021      1    1                      134.4   \n",
       "335  Changi  2021      1    2                      210.6   \n",
       "336  Changi  2021      1    3                        5.6   \n",
       "337  Changi  2021      1    4                        0.0   \n",
       "338  Changi  2021      1    5                        4.2   \n",
       "\n",
       "     highest_30_min_rainfall_(mm)  highest_60_min_rainfall_(mm)  \\\n",
       "334                          21.2                          29.6   \n",
       "335                          23.6                          40.2   \n",
       "336                           1.0                           2.0   \n",
       "337                           0.0                           0.0   \n",
       "338                           4.2                           4.2   \n",
       "\n",
       "     highest_120_min_rainfall_(mm)  mean_temperature_(°c)  \\\n",
       "334                           45.4                   24.5   \n",
       "335                           61.6                   23.1   \n",
       "336                            2.6                   24.0   \n",
       "337                            0.0                   25.2   \n",
       "338                            4.2                   26.3   \n",
       "\n",
       "     maximum_temperature_(°c)  minimum_temperature_(°c)  \\\n",
       "334                      26.0                      21.9   \n",
       "335                      24.1                      21.7   \n",
       "336                      25.0                      21.7   \n",
       "337                      28.0                      22.9   \n",
       "338                      31.6                      23.8   \n",
       "\n",
       "     mean_wind_speed_(km/h) max_wind_speed_(km/h) weather_condition  \\\n",
       "334                     9.6                  44.4              Rain   \n",
       "335                     7.9                    37              Rain   \n",
       "336                     4.5                  14.8              Rain   \n",
       "337                     5.1                  18.5           No Rain   \n",
       "338                     8.8                  29.6              Rain   \n",
       "\n",
       "     relative_humidity_(%)  \n",
       "334              88.229958  \n",
       "335                    NaN  \n",
       "336                    NaN  \n",
       "337                    NaN  \n",
       "338              88.498522  "
      ]
     },
     "execution_count": 40,
     "metadata": {},
     "output_type": "execute_result"
    }
   ],
   "source": [
    "#Add the RH data to the daily rainfall data \n",
    "daily_weather_SG['relative_humidity_(%)'] = RH_2021_s.to_list()\n",
    "#Check the first 5 rows\n",
    "daily_weather_SG.head()"
   ]
  },
  {
   "cell_type": "code",
   "execution_count": 41,
   "metadata": {},
   "outputs": [],
   "source": [
    "#Output the final data to csv file\n",
    "daily_weather_SG.to_csv('../data/daily_weather_2021.csv', index=False)"
   ]
  },
  {
   "cell_type": "markdown",
   "metadata": {},
   "source": [
    "### Data Dictionary:\n",
    "\n",
    "Now that we've fixed our data, and given it appropriate names, let's create a [data dictionary](http://library.ucmerced.edu/node/10249). \n",
    "\n",
    "A data dictionary provides a quick overview of features/variables/columns, alongside data types and descriptions. The more descriptive you can be, the more useful this document is.\n",
    "\n",
    "Example of a Fictional Data Dictionary Entry: \n",
    "\n",
    "|Feature|Type|Dataset|Description|\n",
    "|---|---|---|---|\n",
    "|**county_pop**|*integer*|2010 census|The population of the county (units in thousands, where 2.5 represents 2500 people).| \n",
    "|**per_poverty**|*float*|2010 census|The percent of the county over the age of 18 living below the 200% of official US poverty rate (units percent to two decimal places 98.10 means 98.1%)|\n",
    "\n",
    "[Here's a quick link to a short guide for formatting markdown in Jupyter notebooks](https://jupyter-notebook.readthedocs.io/en/stable/examples/Notebook/Working%20With%20Markdown%20Cells.html).\n",
    "\n",
    "Provided is the skeleton for formatting a markdown table, with columns headers that will help you create a data dictionary to quickly summarize your data, as well as some examples. **This would be a great thing to copy and paste into your custom README for this project.**\n",
    "\n",
    "*Note*: if you are unsure of what a feature is, check the source of the data! This can be found in the README."
   ]
  },
  {
   "cell_type": "markdown",
   "metadata": {},
   "source": [
    "|Feature|Type|Dataset|Description|\n",
    "|---|---|---|---|\n",
    "|total_rainfall|float|rainfall_final|Monthly total rainfall (mm) from 1982-2022| \n",
    "|no_of_rainy_days|int|rainfall_final|Monthly number of rainy days from 1982-2022|\n",
    "|mean_rh|float|rainfall_final|Monthly mean relative humidity (%) from 1982-2022|\n",
    "|year|int|rainfall_final, daily_weather_2021|Year| \n",
    "|month|int|rainfall_final, daily_weather_2021|Month| \n",
    "|day|int|daily_weather_2021|Day|\n",
    "|daily_rainfall_total_(mm)|float|daily_weather_2021|Daily total rainfall (mm) in 2021 @Changi|\n",
    "|mean_temperature_(°c)|float|daily_weather_2021|Daily mean temperature (°C) in 2021 @Changi|\n",
    "|relative_humidity_(%)|float|daily_weather_2021|Daily relative humidity (%) in 2021 @Changi|\n",
    "|weather_condition|string|daily_weather_2021|Daily weather condition in 2021 @Changi (A day is considered “rained” if the total rainfall for that day is 0.2mm or more)|"
   ]
  },
  {
   "cell_type": "markdown",
   "metadata": {},
   "source": [
    "## Exploratory Data Analysis\n",
    "\n",
    "Complete the following steps to explore your data. You are welcome to do more EDA than the steps outlined here as you feel necessary:\n",
    "1. Summary Statistics.\n",
    "2. Use a **dictionary comprehension** to apply the standard deviation function you create in part 1 to each numeric column in the dataframe.  **No loops**.\n",
    "    - Assign the output to variable `sd` as a dictionary where: \n",
    "        - Each column name is now a key \n",
    "        - That standard deviation of the column is the value \n",
    "        - *Example Output :* `{'rainfall-monthly-total': xxx, 'no_of_rainy_days': xxx, ...}`\n",
    "3. Investigate trends in the data.\n",
    "    - Using sorting and/or masking (along with the `.head()` method to avoid printing our entire dataframe), consider questions relevant to your problem statement. Some examples are provided below (but feel free to change these questions for your specific problem):\n",
    "        - Which month have the highest and lowest total rainfall in 1990, 2000, 2010 and 2020?\n",
    "        - Which year have the highest and lowest total rainfall in the date range of analysis?\n",
    "        - Which month have the highest and lowest number of rainy days in 1990, 2000, 2010 and 2020?\n",
    "        - Which year have the highest and lowest number of rainy days in the date range of analysis?\n",
    "        - Are there any outliers months in the dataset?\n",
    "       \n",
    "    - **The above 5 questions are compulsory. Feel free to explore other trends based on the datasets that you have choosen for analysis. You should comment on your findings at each step in a markdown cell below your code block**. Make sure you include at least one example of sorting your dataframe by a column, and one example of using boolean filtering (i.e., masking) to select a subset of the dataframe."
   ]
  },
  {
   "cell_type": "code",
   "execution_count": 42,
   "metadata": {},
   "outputs": [
    {
     "data": {
      "text/html": [
       "<div>\n",
       "<style scoped>\n",
       "    .dataframe tbody tr th:only-of-type {\n",
       "        vertical-align: middle;\n",
       "    }\n",
       "\n",
       "    .dataframe tbody tr th {\n",
       "        vertical-align: top;\n",
       "    }\n",
       "\n",
       "    .dataframe thead th {\n",
       "        text-align: right;\n",
       "    }\n",
       "</style>\n",
       "<table border=\"1\" class=\"dataframe\">\n",
       "  <thead>\n",
       "    <tr style=\"text-align: right;\">\n",
       "      <th></th>\n",
       "      <th>month</th>\n",
       "      <th>no_of_rainy_days</th>\n",
       "      <th>total_rainfall</th>\n",
       "      <th>mean_rh</th>\n",
       "      <th>year</th>\n",
       "    </tr>\n",
       "  </thead>\n",
       "  <tbody>\n",
       "    <tr>\n",
       "      <th>count</th>\n",
       "      <td>491.000000</td>\n",
       "      <td>491.000000</td>\n",
       "      <td>491.000000</td>\n",
       "      <td>491.000000</td>\n",
       "      <td>491.000000</td>\n",
       "    </tr>\n",
       "    <tr>\n",
       "      <th>mean</th>\n",
       "      <td>6.488798</td>\n",
       "      <td>14.112016</td>\n",
       "      <td>177.537067</td>\n",
       "      <td>82.224644</td>\n",
       "      <td>2001.959267</td>\n",
       "    </tr>\n",
       "    <tr>\n",
       "      <th>std</th>\n",
       "      <td>3.450137</td>\n",
       "      <td>4.995680</td>\n",
       "      <td>113.856895</td>\n",
       "      <td>3.417366</td>\n",
       "      <td>11.821736</td>\n",
       "    </tr>\n",
       "    <tr>\n",
       "      <th>min</th>\n",
       "      <td>1.000000</td>\n",
       "      <td>1.000000</td>\n",
       "      <td>0.200000</td>\n",
       "      <td>72.000000</td>\n",
       "      <td>1982.000000</td>\n",
       "    </tr>\n",
       "    <tr>\n",
       "      <th>25%</th>\n",
       "      <td>3.500000</td>\n",
       "      <td>11.000000</td>\n",
       "      <td>94.100000</td>\n",
       "      <td>79.900000</td>\n",
       "      <td>1992.000000</td>\n",
       "    </tr>\n",
       "    <tr>\n",
       "      <th>50%</th>\n",
       "      <td>6.000000</td>\n",
       "      <td>14.000000</td>\n",
       "      <td>159.500000</td>\n",
       "      <td>82.600000</td>\n",
       "      <td>2002.000000</td>\n",
       "    </tr>\n",
       "    <tr>\n",
       "      <th>75%</th>\n",
       "      <td>9.000000</td>\n",
       "      <td>18.000000</td>\n",
       "      <td>238.950000</td>\n",
       "      <td>84.650000</td>\n",
       "      <td>2012.000000</td>\n",
       "    </tr>\n",
       "    <tr>\n",
       "      <th>max</th>\n",
       "      <td>12.000000</td>\n",
       "      <td>27.000000</td>\n",
       "      <td>765.900000</td>\n",
       "      <td>90.700000</td>\n",
       "      <td>2022.000000</td>\n",
       "    </tr>\n",
       "  </tbody>\n",
       "</table>\n",
       "</div>"
      ],
      "text/plain": [
       "            month  no_of_rainy_days  total_rainfall     mean_rh         year\n",
       "count  491.000000        491.000000      491.000000  491.000000   491.000000\n",
       "mean     6.488798         14.112016      177.537067   82.224644  2001.959267\n",
       "std      3.450137          4.995680      113.856895    3.417366    11.821736\n",
       "min      1.000000          1.000000        0.200000   72.000000  1982.000000\n",
       "25%      3.500000         11.000000       94.100000   79.900000  1992.000000\n",
       "50%      6.000000         14.000000      159.500000   82.600000  2002.000000\n",
       "75%      9.000000         18.000000      238.950000   84.650000  2012.000000\n",
       "max     12.000000         27.000000      765.900000   90.700000  2022.000000"
      ]
     },
     "execution_count": 42,
     "metadata": {},
     "output_type": "execute_result"
    }
   ],
   "source": [
    "#Summary Statistics\n",
    "df_final.describe()"
   ]
  },
  {
   "cell_type": "code",
   "execution_count": 43,
   "metadata": {},
   "outputs": [
    {
     "name": "stdout",
     "output_type": "stream",
     "text": [
      "{'month': 3.446621886099599, 'no_of_rainy_days': 4.990589740193838, 'total_rainfall': 113.7408916733522, 'mean_rh': 3.4138843775132606, 'year': 11.809691326973304}\n"
     ]
    }
   ],
   "source": [
    "#Dictionary comprehension to apply the standard deviation function created in part 1 to each numeric column in the dataframe\n",
    "column_list = list(df_final.columns)\n",
    "sd = {column: std_val(df_final[column]) for column in column_list}\n",
    "print(sd)"
   ]
  },
  {
   "cell_type": "code",
   "execution_count": 44,
   "metadata": {},
   "outputs": [
    {
     "name": "stdout",
     "output_type": "stream",
     "text": [
      "Highest and lowest total rainfall in 1990\n",
      "---------------------------------------------\n",
      "Highest month: 9\n",
      "Lowest month: 2\n",
      "\n",
      "Highest and lowest total rainfall in 2000\n",
      "---------------------------------------------\n",
      "Highest month: 11\n",
      "Lowest month: 9\n",
      "\n",
      "Highest and lowest total rainfall in 2010\n",
      "---------------------------------------------\n",
      "Highest month: 7\n",
      "Lowest month: 2\n",
      "\n",
      "Highest and lowest total rainfall in 2020\n",
      "---------------------------------------------\n",
      "Highest month: 5\n",
      "Lowest month: 2\n",
      "\n"
     ]
    }
   ],
   "source": [
    "#Which month have the highest and lowest total rainfall in 1990, 2000, 2010 and 2020?\n",
    "\n",
    "for year in [1990,2000,2010,2020]:\n",
    "    print(f\"Highest and lowest total rainfall in {year}\")\n",
    "    print(\"---------------------------------------------\")\n",
    "    print(f\"Highest month: {list(df_final[df_final['year']==year].sort_values(by='total_rainfall',ascending=False).head(1)['month'])[0]}\")\n",
    "    print(f\"Lowest month: {list(df_final[df_final['year']==year].sort_values(by='total_rainfall').head(1)['month'])[0]}\")\n",
    "    print()"
   ]
  },
  {
   "cell_type": "code",
   "execution_count": 45,
   "metadata": {},
   "outputs": [
    {
     "name": "stdout",
     "output_type": "stream",
     "text": [
      "Highest total rainfall year: 2007\n",
      "Lowest total rainfall year: 1997\n"
     ]
    }
   ],
   "source": [
    "#Which year have the highest and lowest total rainfall in the date range of analysis?\n",
    "\n",
    "print(f\"Highest total rainfall year: {df_final.groupby('year')['total_rainfall'].sum().sort_values(ascending=False).head(1).index[0]}\")\n",
    "print(f\"Lowest total rainfall year: {df_final.groupby('year')['total_rainfall'].sum().sort_values().head(1).index[0]}\")"
   ]
  },
  {
   "cell_type": "code",
   "execution_count": 46,
   "metadata": {},
   "outputs": [
    {
     "name": "stdout",
     "output_type": "stream",
     "text": [
      "Highest and lowest number of rainy days in 1990\n",
      "---------------------------------------------\n",
      "Highest month: 9\n",
      "Lowest month: 3\n",
      "\n",
      "Highest and lowest number of rainy days in 2000\n",
      "---------------------------------------------\n",
      "Highest month: 11\n",
      "Lowest month: 5\n",
      "\n",
      "Highest and lowest number of rainy days in 2010\n",
      "---------------------------------------------\n",
      "Highest month: 11\n",
      "Lowest month: 2\n",
      "\n",
      "Highest and lowest number of rainy days in 2020\n",
      "---------------------------------------------\n",
      "Highest month: 7\n",
      "Lowest month: 1\n",
      "\n"
     ]
    }
   ],
   "source": [
    "#Which month have the highest and lowest number of rainy days in 1990, 2000, 2010 and 2020?\n",
    "\n",
    "for year in [1990,2000,2010,2020]:\n",
    "    print(f\"Highest and lowest number of rainy days in {year}\")\n",
    "    print(\"---------------------------------------------\")\n",
    "    print(f\"Highest month: {list(df_final[df_final['year']==year].sort_values(by='no_of_rainy_days',ascending=False).head(1)['month'])[0]}\")\n",
    "    print(f\"Lowest month: {list(df_final[df_final['year']==year].sort_values(by='no_of_rainy_days').head(1)['month'])[0]}\")\n",
    "    print()"
   ]
  },
  {
   "cell_type": "code",
   "execution_count": 47,
   "metadata": {},
   "outputs": [
    {
     "name": "stdout",
     "output_type": "stream",
     "text": [
      "Highest number of rainy days year: 2013\n",
      "Lowest number of rainy days year: 1997\n"
     ]
    }
   ],
   "source": [
    "#Which year have the highest and lowest number of rainy days in the date range of analysis?\n",
    "\n",
    "print(f\"Highest number of rainy days year: {df_final.groupby('year')['no_of_rainy_days'].sum().sort_values(ascending=False).head(1).index[0]}\")\n",
    "print(f\"Lowest number of rainy days year: {df_final.groupby('year')['no_of_rainy_days'].sum().sort_values().head(1).index[0]}\")"
   ]
  },
  {
   "cell_type": "code",
   "execution_count": 48,
   "metadata": {},
   "outputs": [
    {
     "data": {
      "text/plain": [
       "month\n",
       "12    311.052500\n",
       "11    257.575610\n",
       "1     234.295122\n",
       "5     166.221951\n",
       "10    162.612195\n",
       "3     160.904878\n",
       "4     158.480488\n",
       "8     149.424390\n",
       "7     147.387805\n",
       "9     146.646341\n",
       "6     135.180488\n",
       "2     103.919512\n",
       "Name: total_rainfall, dtype: float64"
      ]
     },
     "execution_count": 48,
     "metadata": {},
     "output_type": "execute_result"
    }
   ],
   "source": [
    "#Monthly avg. total rainfall in the date range of analysis\n",
    "df_final.groupby('month')['total_rainfall'].mean().sort_values(ascending=False)"
   ]
  },
  {
   "cell_type": "code",
   "execution_count": 49,
   "metadata": {},
   "outputs": [
    {
     "data": {
      "image/png": "[encoded data removed]",
      "text/plain": [
       "<Figure size 640x480 with 1 Axes>"
      ]
     },
     "metadata": {},
     "output_type": "display_data"
    }
   ],
   "source": [
    "#Boxplot to show the outliers of the month for avg. total rainfall\n",
    "\n",
    "box_plot = sns.boxplot(x=df_final.groupby('month')['total_rainfall'].mean())\n",
    "\n",
    "df1 = df_final.groupby('month')['total_rainfall'].mean().agg(Median='median')\n",
    "box_plot.annotate(str(df1['Median'].round(1)), xy=(df1['Median'],0), va='center')\n",
    "\n",
    "plt.title(\"Boxplot of Avg. Monthly Total Rainfall\")\n",
    "plt.xlabel(\"Avg. Monthly Total Rainfall\");"
   ]
  },
  {
   "cell_type": "markdown",
   "metadata": {},
   "source": [
    "*Interpretation: The image above shows that there are two outliers of the month for avg. monthly total rainfall: Nov and Dec have the highest values. Besides, we can see the range of avg. monthly total rainfall is between 103 mm to 235 mm for most months and the median value is 159.7 mm.*  "
   ]
  },
  {
   "cell_type": "code",
   "execution_count": 50,
   "metadata": {},
   "outputs": [
    {
     "data": {
      "text/plain": [
       "month\n",
       "11    19.195122\n",
       "12    18.650000\n",
       "10    15.243902\n",
       "4     14.439024\n",
       "5     13.926829\n",
       "8     13.902439\n",
       "7     13.512195\n",
       "1     13.365854\n",
       "9     13.243902\n",
       "6     13.195122\n",
       "3     12.487805\n",
       "2      8.292683\n",
       "Name: no_of_rainy_days, dtype: float64"
      ]
     },
     "execution_count": 50,
     "metadata": {},
     "output_type": "execute_result"
    }
   ],
   "source": [
    "#Monthly avg. no. of rainy days in the date range of analysis\n",
    "df_final.groupby('month')['no_of_rainy_days'].mean().sort_values(ascending=False)"
   ]
  },
  {
   "cell_type": "code",
   "execution_count": 51,
   "metadata": {},
   "outputs": [
    {
     "data": {
      "image/png": "[encoded data removed]",
      "text/plain": [
       "<Figure size 640x480 with 1 Axes>"
      ]
     },
     "metadata": {},
     "output_type": "display_data"
    }
   ],
   "source": [
    "#Boxplot to show the outliers of the month for avg. no. of rainy days\n",
    "\n",
    "box_plot = sns.boxplot(x=df_final.groupby('month')['no_of_rainy_days'].mean())\n",
    "\n",
    "df1 = df_final.groupby('month')['no_of_rainy_days'].mean().agg(Median='median')\n",
    "box_plot.annotate(str(df1['Median'].round(1)), xy=(df1['Median'],0), va='center')\n",
    "\n",
    "plt.title(\"Boxplot of Avg. Monthly No. of Rainy Days\")\n",
    "plt.xlabel(\"Avg. Monthly No. of Rainy Days\");"
   ]
  },
  {
   "cell_type": "markdown",
   "metadata": {},
   "source": [
    "*Interpretation: The image above shows that there are three outliers of the month for avg. monthly no. of rainy days: Feb has the lowest, Nov and Dec have the highest values. Besides, we can see the range of avg. monthly no. of rainy days is between 12.5 to 15.2 days for most months and the median value is 13.7 days.* "
   ]
  },
  {
   "cell_type": "code",
   "execution_count": 52,
   "metadata": {},
   "outputs": [
    {
     "data": {
      "text/plain": [
       "month\n",
       "12    85.357500\n",
       "11    84.670732\n",
       "1     83.465854\n",
       "4     82.597561\n",
       "5     82.351220\n",
       "3     81.831707\n",
       "10    81.731707\n",
       "9     81.131707\n",
       "7     80.929268\n",
       "6     80.917073\n",
       "8     80.897561\n",
       "2     80.890244\n",
       "Name: mean_rh, dtype: float64"
      ]
     },
     "execution_count": 52,
     "metadata": {},
     "output_type": "execute_result"
    }
   ],
   "source": [
    "#Monthly avg. mean RH in the date range of analysis\n",
    "df_final.groupby('month')['mean_rh'].mean().sort_values(ascending=False)"
   ]
  },
  {
   "cell_type": "code",
   "execution_count": 53,
   "metadata": {},
   "outputs": [
    {
     "data": {
      "image/png": "[encoded data removed]",
      "text/plain": [
       "<Figure size 640x480 with 1 Axes>"
      ]
     },
     "metadata": {},
     "output_type": "display_data"
    }
   ],
   "source": [
    "#Boxplot to show the outliers of the month for avg. mean RH\n",
    "\n",
    "box_plot = sns.boxplot(x=df_final.groupby('month')['mean_rh'].mean())\n",
    "\n",
    "df1 = df_final.groupby('month')['mean_rh'].mean().agg(Median='median')\n",
    "box_plot.annotate(str(df1['Median'].round(1)), xy=(df1['Median']+0.05,0), va='center')\n",
    "\n",
    "plt.title(\"Boxplot of Avg. Monthly Mean RH\")\n",
    "plt.xlabel(\"Avg. Monthly Mean RH\");"
   ]
  },
  {
   "cell_type": "markdown",
   "metadata": {},
   "source": [
    "*Interpretation: The image above shows that there are no outliers of the month for avg. monthly mean RH. Besides, we can see the range of avg. monthly mean RH is between 80.9% to 85.4% for most months and the median value is 81.8%. The boxplot also shows strong right skewed which means some of the months have relatively large avg. monthly mean RH.* "
   ]
  },
  {
   "cell_type": "markdown",
   "metadata": {},
   "source": [
    "## Visualize the Data\n",
    "\n",
    "There's not a magic bullet recommendation for the right number of plots to understand a given dataset, but visualizing your data is *always* a good idea. Not only does it allow you to quickly convey your findings (even if you have a non-technical audience), it will often reveal trends in your data that escaped you when you were looking only at numbers. It is important to not only create visualizations, but to **interpret your visualizations** as well.\n",
    "\n",
    "**Every plot should**:\n",
    "- Have a title\n",
    "- Have axis labels\n",
    "- Have appropriate tick labels\n",
    "- Text is legible in a plot\n",
    "- Plots demonstrate meaningful and valid relationships\n",
    "- Have an interpretation to aid understanding\n",
    "\n",
    "Here is an example of what your plots should look like following the above guidelines. Note that while the content of this example is unrelated, the principles of visualization hold:\n",
    "\n",
    "![](https://snag.gy/hCBR1U.jpg)\n",
    "\n",
    "*Interpretation: The above image shows that as we increase our spending on advertising, our sales numbers also tend to increase. There is a positive correlation between advertising spending and sales.*\n",
    "\n",
    "---\n",
    "\n",
    "Here are some prompts to get you started with visualizations. Feel free to add additional visualizations as you see fit:\n",
    "1. Use Seaborn's heatmap with pandas `.corr()` to visualize correlations between all numeric features.\n",
    "    - Heatmaps are generally not appropriate for presentations, and should often be excluded from reports as they can be visually overwhelming. **However**, they can be extremely useful in identify relationships of potential interest (as well as identifying potential collinearity before modeling).\n",
    "    - Please take time to format your output, adding a title. Look through some of the additional arguments and options. (Axis labels aren't really necessary, as long as the title is informative).\n",
    "2. Visualize distributions using histograms. If you have a lot, consider writing a custom function and use subplots.\n",
    "    - *OPTIONAL*: Summarize the underlying distributions of your features (in words & statistics)\n",
    "         - Be thorough in your verbal description of these distributions.\n",
    "         - Be sure to back up these summaries with statistics.\n",
    "         - We generally assume that data we sample from a population will be normally distributed. Do we observe this trend? Explain your answers for each distribution and how you think this will affect estimates made from these data.\n",
    "3. Plot and interpret boxplots. \n",
    "    - Boxplots demonstrate central tendency and spread in variables. In a certain sense, these are somewhat redundant with histograms, but you may be better able to identify clear outliers or differences in IQR, etc.\n",
    "    - Multiple values can be plotted to a single boxplot as long as they are of the same relative scale (meaning they have similar min/max values).\n",
    "    - Each boxplot should:\n",
    "        - Only include variables of a similar scale\n",
    "        - Have clear labels for each variable\n",
    "        - Have appropriate titles and labels\n",
    "4. Plot and interpret scatter plots to view relationships between features. Feel free to write a custom function, and subplot if you'd like. Functions save both time and space.\n",
    "    - Your plots should have:\n",
    "        - Two clearly labeled axes\n",
    "        - A proper title\n",
    "        - Colors and symbols that are clear and unmistakable\n",
    "5. Additional plots of your choosing.\n",
    "    - Are there any additional trends or relationships you haven't explored? Was there something interesting you saw that you'd like to dive further into? It's likely that there are a few more plots you might want to generate to support your narrative and recommendations that you are building toward. **As always, make sure you're interpreting your plots as you go**."
   ]
  },
  {
   "cell_type": "markdown",
   "metadata": {},
   "source": [
    "Some ideas for plots that can be generated:\n",
    "\n",
    "- Plot the histogram of the rainfall data with various bins and comment on the distribution of the data - is it centered, skewed?\n",
    "- Plot the box-and-whiskers plot. Comment on the different quartiles and identify any outliers in the dataset. \n",
    "- Is there a correlation between the number of rainy days and total rainfall in the month? What kind of correlation do your suspect? Does the graph show the same?\n"
   ]
  },
  {
   "cell_type": "code",
   "execution_count": 54,
   "metadata": {},
   "outputs": [
    {
     "data": {
      "text/plain": [
       "Text(0.5, 1.0, 'Heatmap of Monthly Rainfall Data')"
      ]
     },
     "execution_count": 54,
     "metadata": {},
     "output_type": "execute_result"
    },
    {
     "data": {
      "image/png": "[encoded data removed]",
      "text/plain": [
       "<Figure size 1300x700 with 2 Axes>"
      ]
     },
     "metadata": {},
     "output_type": "display_data"
    }
   ],
   "source": [
    "plt.figure(figsize = (13,7))\n",
    "# Get correlation of variables.\n",
    "corr = df_final.corr()\n",
    "# Set up mask to be “True” in the upper triangle.\n",
    "mask = np.zeros_like(corr)\n",
    "mask[np.triu_indices_from(mask)] = True\n",
    "# Plot our correlation heatmap, while masking the upper triangle to be white.\n",
    "with sns.axes_style('white'):\n",
    "    sns.heatmap(corr, mask = mask, square = True, annot = True, vmin = -1, vmax = 1, linewidths = .5)\n",
    "plt.title(\"Heatmap of Monthly Rainfall Data\")"
   ]
  },
  {
   "cell_type": "markdown",
   "metadata": {},
   "source": [
    "*Interpretation: The heatmap shows that there is a positive correlation between total rainfall and no. of rainy days, mean RH.*"
   ]
  },
  {
   "cell_type": "code",
   "execution_count": 55,
   "metadata": {},
   "outputs": [
    {
     "data": {
      "image/png": "[encoded data removed]",
      "text/plain": [
       "<Figure size 640x480 with 1 Axes>"
      ]
     },
     "metadata": {},
     "output_type": "display_data"
    }
   ],
   "source": [
    "sns.histplot(df_final['total_rainfall'], bins=13, kde=True)\n",
    "\n",
    "plt.title(\"Monthly Total Rainfall Distribution\")\n",
    "plt.xlabel(\"Total Rainfall\");"
   ]
  },
  {
   "cell_type": "markdown",
   "metadata": {},
   "source": [
    "*Interpretation: The above image shows that most of months have total rainfall in a range of 120mm - 180mm. A strong right skewed means some of the months have relatively large total rainfall.* "
   ]
  },
  {
   "cell_type": "code",
   "execution_count": 56,
   "metadata": {},
   "outputs": [
    {
     "data": {
      "image/png": "[encoded data removed]",
      "text/plain": [
       "<Figure size 640x480 with 1 Axes>"
      ]
     },
     "metadata": {},
     "output_type": "display_data"
    }
   ],
   "source": [
    "sns.histplot(df_final['no_of_rainy_days'], bins=13, kde=True)\n",
    "\n",
    "plt.title(\"Monthly No of Rainy Days Distribution\")\n",
    "plt.xlabel(\"No of Rainy Days\");"
   ]
  },
  {
   "cell_type": "markdown",
   "metadata": {},
   "source": [
    "*Interpretation: The above image shows that most of months have no of rainy days in a range of 13-15 days. A slight left skewed means some of the months have relatively few no of rainy days.* "
   ]
  },
  {
   "cell_type": "code",
   "execution_count": 57,
   "metadata": {},
   "outputs": [
    {
     "data": {
      "image/png": "[encoded data removed]",
      "text/plain": [
       "<Figure size 1000x600 with 1 Axes>"
      ]
     },
     "metadata": {},
     "output_type": "display_data"
    }
   ],
   "source": [
    "# Establish the size of the figure.\n",
    "plt.figure(figsize = (10, 6))\n",
    "\n",
    "# Create scatterplot of high prices versus volume.\n",
    "plt.scatter(df_final['total_rainfall'], df_final['no_of_rainy_days'])\n",
    "\n",
    "plt.title(\"Monthly No of Rainy Days vs. Monthly Total Rainfall\")\n",
    "plt.ylabel(\"No of Rainy Days\")\n",
    "plt.xlabel(\"Total Rainfall\");"
   ]
  },
  {
   "cell_type": "markdown",
   "metadata": {},
   "source": [
    "*Interpretation: The above image shows that as total rainfall increased, the no of rainy days increased as well. There is a positive correlation between total rainfall and no of rainy days.*"
   ]
  },
  {
   "cell_type": "code",
   "execution_count": 58,
   "metadata": {},
   "outputs": [
    {
     "data": {
      "image/png": "[encoded data removed]",
      "text/plain": [
       "<Figure size 1000x600 with 1 Axes>"
      ]
     },
     "metadata": {},
     "output_type": "display_data"
    }
   ],
   "source": [
    "# Establish the size of the figure.\n",
    "plt.figure(figsize = (10, 6))\n",
    "\n",
    "# Create scatterplot of high prices versus volume.\n",
    "plt.scatter(df_final['total_rainfall'], df_final['mean_rh'])\n",
    "\n",
    "plt.title(\"Monthly Mean RH vs. Monthly Total Rainfall\")\n",
    "plt.ylabel(\"Mean RH\")\n",
    "plt.xlabel(\"Total Rainfall\");"
   ]
  },
  {
   "cell_type": "markdown",
   "metadata": {},
   "source": [
    "*Interpretation: The above image shows that as total rainfall increased, the mean RH increased as well. There is a positive correlation between total rainfall and mean RH.*"
   ]
  },
  {
   "cell_type": "code",
   "execution_count": 60,
   "metadata": {},
   "outputs": [
    {
     "data": {
      "text/plain": [
       "Text(0.5, 1.0, 'Rainy Days % Over 40 Years')"
      ]
     },
     "execution_count": 60,
     "metadata": {},
     "output_type": "execute_result"
    },
    {
     "data": {
      "image/png": "[encoded data removed]",
      "text/plain": [
       "<Figure size 600x600 with 1 Axes>"
      ]
     },
     "metadata": {},
     "output_type": "display_data"
    }
   ],
   "source": [
    "plt.figure(figsize=(6, 6))\n",
    "plt.pie([df_final['no_of_rainy_days'].sum(),(365*40 + (365-31) - df_final['no_of_rainy_days'].sum())],\n",
    "        labels=['Rain', 'No Rain'], autopct='%.0f%%', colors=['#7895B2','#F5EFE6'], startangle=90, counterclock=False, explode=(0, 0.05), \n",
    "       wedgeprops={\"edgecolor\":\"k\",'linewidth': 1, 'linestyle': 'solid'})\n",
    "plt.title('Rainy Days % Over 40 Years')"
   ]
  },
  {
   "cell_type": "markdown",
   "metadata": {},
   "source": [
    "*Interpretation: The above image shows that almost half (46%) of the days were raining over the past 40 years.*"
   ]
  },
  {
   "cell_type": "code",
   "execution_count": 26,
   "metadata": {},
   "outputs": [],
   "source": [
    "#Caculate the rain_means_percent for each month\n",
    "rain_means = df_final.groupby('month')['no_of_rainy_days'].mean()\n",
    "\n",
    "rain_means_percent = []\n",
    "\n",
    "for i,v in zip(rain_means.index, rain_means.values):\n",
    "    if i == 2:\n",
    "        rain_means_percent.append(rain_means[i]/28.5*100)\n",
    "    elif i in [1,3,5,7,8,10,12]:\n",
    "        rain_means_percent.append(rain_means[i]/31*100)\n",
    "    else:\n",
    "        rain_means_percent.append(rain_means[i]/30*100)\n",
    "\n",
    "rain_means_percent = pd.Series(rain_means_percent, index=rain_means.index)"
   ]
  },
  {
   "cell_type": "code",
   "execution_count": 27,
   "metadata": {},
   "outputs": [
    {
     "data": {
      "text/plain": [
       "<matplotlib.lines.Line2D at 0x7f0edf4ef070>"
      ]
     },
     "execution_count": 27,
     "metadata": {},
     "output_type": "execute_result"
    },
    {
     "data": {
      "image/png": "[encoded data removed]",
      "text/plain": [
       "<Figure size 640x480 with 1 Axes>"
      ]
     },
     "metadata": {},
     "output_type": "display_data"
    }
   ],
   "source": [
    "labels = ['Jan','Feb','Mar','Apr','May','Jun','Jul','Aug','Sep','Oct','Nov','Dec']\n",
    "no_rain_means_percent = 100 - rain_means_percent\n",
    "width = 0.4       # the width of the bars: can also be len(x) sequence\n",
    "\n",
    "fig, ax = plt.subplots()\n",
    "\n",
    "ax.bar(labels, rain_means_percent, width, label='Rain', color='#7895B2', edgecolor='black')\n",
    "ax.bar(labels, no_rain_means_percent, width, bottom=rain_means_percent,\n",
    "       label='No Rain', color='#F5EFE6', edgecolor='black')\n",
    "\n",
    "ax.set_ylabel('Rate %')\n",
    "ax.set_xlabel('Month')\n",
    "ax.set_title(\"Monthly Average No. of 'Rain' Days vs. 'No Rain' Days\")\n",
    "ax.legend(loc='best', bbox_to_anchor=(1, 0.5))\n",
    "\n",
    "ax.axhline(y=46, linewidth=1, linestyle='--', color='k')"
   ]
  },
  {
   "cell_type": "markdown",
   "metadata": {},
   "source": [
    "*Interpretation: The above image shows that almost half of the days in a month (46%) is raining for most months in a year, except that Feb has relatively fewer rainy days while Nov and Dec have relatively more rainy days.*"
   ]
  },
  {
   "cell_type": "code",
   "execution_count": 62,
   "metadata": {},
   "outputs": [
    {
     "data": {
      "image/png": "[encoded data removed]",
      "text/plain": [
       "<Figure size 600x600 with 1 Axes>"
      ]
     },
     "metadata": {},
     "output_type": "display_data"
    }
   ],
   "source": [
    "plt.figure(figsize=(6, 6))\n",
    "box_plot = sns.boxplot(x='weather_condition',y='mean_temperature_(°c)', data=daily_weather_SG, palette=['#7895B2', '#F5EFE6'])\n",
    "\n",
    "df1 = daily_weather_SG.groupby('weather_condition')['mean_temperature_(°c)'].agg(Median='median').sort_values(by='Median')\n",
    "\n",
    "for i in range(len(df1.Median)):\n",
    "    box_plot.annotate(str(df1.Median[i]), xy=(i-0.06,df1.Median[i]+0.1))\n",
    "\n",
    "plt.title(\"Mean Temperature (°C) on 'Rain' and 'No Rain' Days\")\n",
    "plt.ylabel(\"Mean Temperature (°C)\")\n",
    "plt.xlabel(\"Weather Condition\");"
   ]
  },
  {
   "cell_type": "markdown",
   "metadata": {},
   "source": [
    "*Interpretation: The above image shows that the median outdoor temperature during non-rainy days is 28.5 °C while the median outdoor temperature during rainy days is relatively low, at 27.5 °C. Besides, there are more outliers on rainy days which shows relatively lower temperature.*"
   ]
  },
  {
   "cell_type": "code",
   "execution_count": 63,
   "metadata": {},
   "outputs": [
    {
     "data": {
      "image/png": "[encoded data removed]",
      "text/plain": [
       "<Figure size 600x600 with 1 Axes>"
      ]
     },
     "metadata": {},
     "output_type": "display_data"
    }
   ],
   "source": [
    "plt.figure(figsize=(6, 6))\n",
    "box_plot = sns.boxplot(x='weather_condition',y='relative_humidity_(%)', data=daily_weather_SG, palette=['#7895B2', '#F5EFE6'])\n",
    "\n",
    "df1 = daily_weather_SG.groupby('weather_condition')['relative_humidity_(%)'].agg(Median='median').round(1).sort_values(by='Median', ascending=False)\n",
    "\n",
    "for i in range(len(df1.Median)):\n",
    "    box_plot.annotate(str(df1.Median[i]), xy=(i-0.06,df1.Median[i]+0.3))\n",
    "\n",
    "plt.title(\"Relative Humidity (%) on 'Rain' and 'No Rain' Days\")\n",
    "plt.ylabel(\"Relative Humidity (%)\")\n",
    "plt.xlabel(\"Weather Condition\");"
   ]
  },
  {
   "cell_type": "markdown",
   "metadata": {},
   "source": [
    "*Interpretation: The above image shows that the median relative humidity during non-rainy days is 75.3 % while the median relative humidity during rainy days is relatively high, at 81.2 %. Besides, there are more outliers on non-rainy days which shows relatively lower RH.*"
   ]
  },
  {
   "cell_type": "markdown",
   "metadata": {},
   "source": [
    "## Conclusions and Recommendations"
   ]
  },
  {
   "cell_type": "markdown",
   "metadata": {},
   "source": [
    "Based on your exploration of the data, what are you key takeaways and recommendations? Make sure to answer your question of interest or address your problem statement here."
   ]
  },
  {
   "cell_type": "markdown",
   "metadata": {},
   "source": [
    "**Answer:**\n",
    "\n",
    "1. Rainfall is quite significant in Singapore, almost half (46%) of the days were raining over the past 40 years. If we tie this to the issue of overcooling being worsened especially on rainy days, it proves a building automation system based on raining status is meaningful.\n",
    "2. Historical data suggested that in average Nov and Dec can have the highest monthly no of rainy days and total rainfall in a year. The building automation system will mainly operate in Nov and Dec which are the rainy seasons. \n",
    "3. During rainy days, the outdoor temperatures will be relatively low and the relative humidity will be relatively high, which could significantly exacerbate the overcooling problem of the aircon in offices. The building automation system can control to turn off the aircon and replace with natural ventilation to solve the overcooling issue.  "
   ]
  },
  {
   "cell_type": "code",
   "execution_count": null,
   "metadata": {},
   "outputs": [],
   "source": []
  }
 ],
 "metadata": {
  "anaconda-cloud": {},
  "kernelspec": {
   "display_name": "dsi-sg",
   "language": "python",
   "name": "dsi-sg"
  },
  "language_info": {
   "codemirror_mode": {
    "name": "ipython",
    "version": 3
   },
   "file_extension": ".py",
   "mimetype": "text/x-python",
   "name": "python",
   "nbconvert_exporter": "python",
   "pygments_lexer": "ipython3",
   "version": "3.9.13"
  }
 },
 "nbformat": 4,
 "nbformat_minor": 4
}
