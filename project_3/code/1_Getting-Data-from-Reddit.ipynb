{
 "cells": [
  {
   "cell_type": "markdown",
   "id": "a5152aba-6f4e-422d-91ae-f098f3aa3fe3",
   "metadata": {},
   "source": [
    "<img src=\"http://imgur.com/1ZcRyrc.png\" style=\"float: left; margin: 20px; height: 55px\">\n",
    "\n",
    "# Project 3: Subreddit Classification"
   ]
  },
  {
   "cell_type": "markdown",
   "id": "a29cedbc-5cc0-4018-9e34-4d21aeab77e1",
   "metadata": {
    "toc-hr-collapsed": true
   },
   "source": [
    "## Table of Contents\n",
    "1. [Web-Scraping](#1.-Web-Scraping)   "
   ]
  },
  {
   "cell_type": "markdown",
   "id": "ea485aca-9149-4cf2-8f63-3b8d816d733c",
   "metadata": {
    "tags": []
   },
   "source": [
    "# 1. Web-Scraping"
   ]
  },
  {
   "cell_type": "markdown",
   "id": "dec93cbf-2ba2-4b1e-a7ab-2763c3a12e11",
   "metadata": {},
   "source": [
    "In this project, we used [Pushshift API](https://github.com/pushshift/api) to perform webscraping of two subreddits from [reddit.com](https://www.reddit.com/) for the classification."
   ]
  },
  {
   "cell_type": "markdown",
   "id": "4c6969fd",
   "metadata": {},
   "source": [
    "## 1.1 Import Libraries"
   ]
  },
  {
   "cell_type": "code",
   "execution_count": 1,
   "id": "7feac77c",
   "metadata": {},
   "outputs": [],
   "source": [
    "import requests\n",
    "import pandas as pd\n",
    "import time\n",
    "from datetime import datetime as dt\n",
    "from os import path"
   ]
  },
  {
   "cell_type": "markdown",
   "id": "036551af",
   "metadata": {},
   "source": [
    "## 1.2 Fetch Data From API"
   ]
  },
  {
   "cell_type": "code",
   "execution_count": 2,
   "id": "96c806cf-ccb4-4dbb-9635-665aaf97466d",
   "metadata": {},
   "outputs": [],
   "source": [
    "# Define constants\n",
    "URL = 'https://api.pushshift.io/reddit/search/submission'\n",
    "SIZE = 100\n",
    "WAIT_TIME = 10"
   ]
  },
  {
   "cell_type": "code",
   "execution_count": 3,
   "id": "ee580910-103a-45b3-b57f-f453f9cbe084",
   "metadata": {},
   "outputs": [],
   "source": [
    "def fetch_data(URL, params):\n",
    "    '''\n",
    "    Fetch data from API\n",
    "    :parameter\n",
    "        :param URL: URL of API\n",
    "        :param params: the parameters of API, e.g. 'subreddit', 'size'\n",
    "    :return\n",
    "        dtf: dataframe with fetched data\n",
    "    '''\n",
    "    success = False\n",
    "    while not success:\n",
    "        try:\n",
    "            res = requests.get(URL, params)\n",
    "            status = res.status_code\n",
    "            print(f'Get Status: {status}')\n",
    "            if status == 200:\n",
    "                success = True\n",
    "            else:\n",
    "                time.sleep(WAIT_TIME)\n",
    "        except Exception as error:\n",
    "            print(error)\n",
    "            time.sleep(WAIT_TIME)\n",
    "            continue\n",
    "\n",
    "    data = res.json()\n",
    "    return pd.DataFrame(data['data'])"
   ]
  },
  {
   "cell_type": "code",
   "execution_count": 4,
   "id": "fe47eb43-63c4-41ac-8795-80282286388d",
   "metadata": {},
   "outputs": [],
   "source": [
    "def main_loop(file, subreddit, num_loops):\n",
    "    '''\n",
    "    Main loop to fetch all data from API and output as a file\n",
    "    :parameter\n",
    "        :param file: file path and file name you indicated to store the fetched data\n",
    "        :param subreddit: the subreddit name you want to fetch from API\n",
    "        :param num_loops: the number of loops you want to repeat for fetching\n",
    "    :output\n",
    "        a csv file with all fetched data\n",
    "    '''\n",
    "    for i in range(num_loops):\n",
    "        print(f'Loop {i}')\n",
    "\n",
    "        # If file does not exists, start pulling posts from current datetime\n",
    "        # else pull from file last post created_utc\n",
    "        if not path.isfile(file):\n",
    "            params = {\n",
    "                'subreddit': subreddit,\n",
    "                'size': SIZE,\n",
    "                'before': int(dt.utcnow().timestamp())\n",
    "            }\n",
    "            df = fetch_data(URL, params)\n",
    "        else:\n",
    "            df = pd.read_csv(file)\n",
    "            params = {\n",
    "                'subreddit': subreddit,\n",
    "                'size': SIZE,\n",
    "                'before': df['created_utc'].iloc[-1]\n",
    "            }\n",
    "            new_df = fetch_data(URL, params)\n",
    "            df = pd.concat([df, new_df])\n",
    "\n",
    "        df.to_csv(file, index=False)\n",
    "        time.sleep(WAIT_TIME)"
   ]
  },
  {
   "cell_type": "code",
   "execution_count": 5,
   "id": "6f070e69-d98a-4650-8f26-ced32269c02e",
   "metadata": {
    "scrolled": true,
    "tags": []
   },
   "outputs": [
    {
     "name": "stdout",
     "output_type": "stream",
     "text": [
      "Loop 0\n",
      "Get Status: 200\n",
      "Loop 1\n",
      "Get Status: 200\n",
      "Loop 2\n",
      "Get Status: 200\n",
      "Loop 3\n",
      "Get Status: 200\n",
      "Loop 4\n",
      "Get Status: 200\n",
      "Loop 5\n",
      "Get Status: 200\n",
      "Loop 6\n",
      "Get Status: 200\n",
      "Loop 7\n",
      "Get Status: 200\n",
      "Loop 8\n",
      "Get Status: 200\n",
      "Loop 9\n",
      "Get Status: 200\n",
      "Loop 10\n",
      "Get Status: 200\n",
      "Loop 11\n",
      "Get Status: 200\n",
      "Loop 12\n",
      "Get Status: 200\n",
      "Loop 13\n",
      "Get Status: 200\n",
      "Loop 14\n",
      "Get Status: 200\n",
      "Loop 15\n",
      "Get Status: 200\n",
      "Loop 16\n",
      "Get Status: 200\n"
     ]
    }
   ],
   "source": [
    "# Fetch subreddit_1: SleepApnea\n",
    "file = '../data/SleepApnea.csv'\n",
    "subreddit = 'SleepApnea'\n",
    "\n",
    "main_loop(file, subreddit, 17)"
   ]
  },
  {
   "cell_type": "code",
   "execution_count": 6,
   "id": "c84e94dc-2a4d-4620-9d48-4c4e4d446c0a",
   "metadata": {
    "scrolled": true,
    "tags": []
   },
   "outputs": [
    {
     "name": "stdout",
     "output_type": "stream",
     "text": [
      "Loop 0\n",
      "Get Status: 200\n",
      "Loop 1\n",
      "Get Status: 200\n",
      "Loop 2\n",
      "Get Status: 200\n",
      "Loop 3\n",
      "Get Status: 200\n",
      "Loop 4\n",
      "Get Status: 200\n",
      "Loop 5\n",
      "Get Status: 200\n",
      "Loop 6\n",
      "Get Status: 200\n",
      "Loop 7\n",
      "Get Status: 200\n",
      "Loop 8\n",
      "Get Status: 200\n",
      "Loop 9\n",
      "Get Status: 200\n",
      "Loop 10\n",
      "Get Status: 200\n",
      "Loop 11\n",
      "Get Status: 200\n",
      "Loop 12\n",
      "Get Status: 200\n",
      "Loop 13\n",
      "Get Status: 200\n",
      "Loop 14\n",
      "Get Status: 200\n",
      "Loop 15\n",
      "Get Status: 200\n",
      "Loop 16\n",
      "Get Status: 200\n"
     ]
    }
   ],
   "source": [
    "# Fetch subreddit_2: Sleepparalysis\n",
    "file = '../data/Sleepparalysis.csv'\n",
    "subreddit = 'Sleepparalysis'\n",
    "\n",
    "main_loop(file, subreddit, 17)"
   ]
  }
 ],
 "metadata": {
  "kernelspec": {
   "display_name": "dsi-sg",
   "language": "python",
   "name": "dsi-sg"
  },
  "language_info": {
   "codemirror_mode": {
    "name": "ipython",
    "version": 3
   },
   "file_extension": ".py",
   "mimetype": "text/x-python",
   "name": "python",
   "nbconvert_exporter": "python",
   "pygments_lexer": "ipython3",
   "version": "3.9.13"
  }
 },
 "nbformat": 4,
 "nbformat_minor": 5
}
